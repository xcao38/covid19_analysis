{
 "cells": [
  {
   "cell_type": "code",
   "execution_count": 214,
   "metadata": {},
   "outputs": [],
   "source": [
    "import os\n",
    "from io import StringIO\n",
    "import tabula\n",
    "\n",
    "# analysis\n",
    "import numpy as np\n",
    "import pandas as pd\n",
    "\n",
    "# api\n",
    "import json\n",
    "import requests\n",
    "import prettytable"
   ]
  },
  {
   "cell_type": "markdown",
   "metadata": {},
   "source": [
    "# Get data"
   ]
  },
  {
   "cell_type": "markdown",
   "metadata": {},
   "source": [
    "**What data do we need?**\n",
    "- GDP by states by industry: https://www.bea.gov/system/files/2020-01/qgdpstate0120_2.pdf\n",
    "- Employmnet by states by industry:\n",
    "    - In order to get the data, we probably need to get the employment data by industry from each states' website.\n",
    "        - NY: https://labor.ny.gov/stats/2016-2026-Statewide-and-Regional-Long-Term-Industry-Projections.xlsx\n",
    "        - NJ: https://www.nj.gov/labor/lpa/employ/indoccpj/20162026%20Industry%20Employment%20Projections%20Reports.xlsx\n",
    "        - ...so the 2016-2026 employment projection is avaliable on each states websites\n",
    "        \n",
    "- Labor Productivity by states by industry:\n",
    "    - Private nonfarm productivity and costs by state and region: https://www.bls.gov/lpc/lpc-by-state-and-region.xlsx\n",
    "    - https://www.bls.gov/opub/mlr/2019/article/bls-publishes-experimental-state-level-labor-productivity-measures.htm\n",
    "        "
   ]
  },
  {
   "cell_type": "markdown",
   "metadata": {},
   "source": [
    "## 1.0 GDP by states by industry\n",
    "**API:** https://www.bls.gov/developers/api_signature_v2.htm"
   ]
  },
  {
   "cell_type": "markdown",
   "metadata": {},
   "source": [
    "#### Try API"
   ]
  },
  {
   "cell_type": "code",
   "execution_count": 151,
   "metadata": {},
   "outputs": [],
   "source": [
    "# my_bls_api = \"ccdcbc9910a744a5be046d1aa70ac25c\""
   ]
  },
  {
   "cell_type": "code",
   "execution_count": 152,
   "metadata": {},
   "outputs": [],
   "source": [
    "# headers = {'Content-type': 'application/json'}\n",
    "# data = json.dumps({\"seriesid\": ['IPUAN1111__L010','IPUAN1111__L011'],\"startyear\":\"2000\", \"endyear\":\"2019\"})\n",
    "# p = requests.post('https://api.bls.gov/ccdcbc9910a744a5be046d1aa70ac25c/v2/timeseries/data/', data=data, headers=headers)\n",
    "# json_data = json.loads(p.text)\n",
    "# for series in json_data['Results']['series']:\n",
    "#     x=prettytable.PrettyTable([\"series_id\",\"year\",\"period\",\"value\",\"footnotes\"])\n",
    "#     seriesId = series['seriesID']\n",
    "#     for item in series['data']:\n",
    "#         year = item['year']\n",
    "#         period = item['period']\n",
    "#         value = item['value']\n",
    "#         footnotes=\"\"\n",
    "#         for footnote in item['footnotes']:\n",
    "#             if footnote:\n",
    "#                 footnotes = footnotes + footnote['text'] + ','\n",
    "# #         if 'M01' <= period <= 'M12':\n",
    "#         x.add_row([seriesId,year,period,value,footnotes[0:-1]])\n",
    "#     output = open(seriesId + '.txt','w')\n",
    "#     output.write (x.get_string())\n",
    "#     output.close()"
   ]
  },
  {
   "cell_type": "code",
   "execution_count": null,
   "metadata": {},
   "outputs": [],
   "source": []
  },
  {
   "cell_type": "markdown",
   "metadata": {},
   "source": [
    "#### Reading from PDF\n"
   ]
  },
  {
   "cell_type": "markdown",
   "metadata": {},
   "source": [
    "#### 1. Current-Dollar Gross Domestic Product (GDP) by State and Region, 2018:Q1-2019:Q3"
   ]
  },
  {
   "cell_type": "code",
   "execution_count": 157,
   "metadata": {},
   "outputs": [],
   "source": [
    "gdp_df = tabula.read_pdf(os.path.join(os.getcwd(),\"data/qgdpstate0120_2.pdf\"), \n",
    "                         pages = 7)"
   ]
  },
  {
   "cell_type": "code",
   "execution_count": 158,
   "metadata": {},
   "outputs": [],
   "source": [
    "gdp_df = gdp_df[0]"
   ]
  },
  {
   "cell_type": "code",
   "execution_count": 159,
   "metadata": {},
   "outputs": [],
   "source": [
    "gdp_df = gdp_df.iloc[3:]"
   ]
  },
  {
   "cell_type": "code",
   "execution_count": 160,
   "metadata": {},
   "outputs": [],
   "source": [
    "gdp_df = gdp_df.iloc[:,[0,1,2,3,4]]"
   ]
  },
  {
   "cell_type": "code",
   "execution_count": 161,
   "metadata": {},
   "outputs": [],
   "source": [
    "gdp_df = pd.concat([gdp_df,gdp_df[\"Millions of dollars\"].str.split(\" \",expand = True)],axis=1)"
   ]
  },
  {
   "cell_type": "code",
   "execution_count": 162,
   "metadata": {},
   "outputs": [],
   "source": [
    "gdp_df = gdp_df.drop(columns=[\"Millions of dollars\",\"Unnamed: 3\",5,6,7,8])"
   ]
  },
  {
   "cell_type": "code",
   "execution_count": 163,
   "metadata": {},
   "outputs": [],
   "source": [
    "gdp_df.columns = [\"areas\",\"2018-1\",\"2018-2\",\"2018-3\",\"2018-4\",\"2019-1\",\"2019-2\",\"2019-3\"]"
   ]
  },
  {
   "cell_type": "code",
   "execution_count": 164,
   "metadata": {},
   "outputs": [],
   "source": [
    "gdp_df = gdp_df.reset_index(drop=True)"
   ]
  },
  {
   "cell_type": "code",
   "execution_count": 165,
   "metadata": {},
   "outputs": [
    {
     "data": {
      "text/html": [
       "<div>\n",
       "<style scoped>\n",
       "    .dataframe tbody tr th:only-of-type {\n",
       "        vertical-align: middle;\n",
       "    }\n",
       "\n",
       "    .dataframe tbody tr th {\n",
       "        vertical-align: top;\n",
       "    }\n",
       "\n",
       "    .dataframe thead th {\n",
       "        text-align: right;\n",
       "    }\n",
       "</style>\n",
       "<table border=\"1\" class=\"dataframe\">\n",
       "  <thead>\n",
       "    <tr style=\"text-align: right;\">\n",
       "      <th></th>\n",
       "      <th>areas</th>\n",
       "      <th>2018-1</th>\n",
       "      <th>2018-2</th>\n",
       "      <th>2018-3</th>\n",
       "      <th>2018-4</th>\n",
       "      <th>2019-1</th>\n",
       "      <th>2019-2</th>\n",
       "      <th>2019-3</th>\n",
       "    </tr>\n",
       "  </thead>\n",
       "  <tbody>\n",
       "    <tr>\n",
       "      <th>0</th>\n",
       "      <td>United States</td>\n",
       "      <td>20,163,159</td>\n",
       "      <td>20,510,177</td>\n",
       "      <td>20,749,752</td>\n",
       "      <td>20,897,804</td>\n",
       "      <td>21,098,827</td>\n",
       "      <td>21,340,267</td>\n",
       "      <td>21,542,540</td>\n",
       "    </tr>\n",
       "    <tr>\n",
       "      <th>1</th>\n",
       "      <td>New England</td>\n",
       "      <td>1,070,863</td>\n",
       "      <td>1,084,947</td>\n",
       "      <td>1,096,174</td>\n",
       "      <td>1,101,531</td>\n",
       "      <td>1,118,703</td>\n",
       "      <td>1,130,084</td>\n",
       "      <td>1,142,586</td>\n",
       "    </tr>\n",
       "    <tr>\n",
       "      <th>2</th>\n",
       "      <td>Connecticut</td>\n",
       "      <td>272,854</td>\n",
       "      <td>273,884</td>\n",
       "      <td>278,295</td>\n",
       "      <td>277,874</td>\n",
       "      <td>281,659</td>\n",
       "      <td>284,357</td>\n",
       "      <td>287,560</td>\n",
       "    </tr>\n",
       "    <tr>\n",
       "      <th>3</th>\n",
       "      <td>Maine</td>\n",
       "      <td>63,698</td>\n",
       "      <td>64,746</td>\n",
       "      <td>65,434</td>\n",
       "      <td>65,545</td>\n",
       "      <td>66,590</td>\n",
       "      <td>67,138</td>\n",
       "      <td>67,905</td>\n",
       "    </tr>\n",
       "    <tr>\n",
       "      <th>4</th>\n",
       "      <td>Massachusetts</td>\n",
       "      <td>558,472</td>\n",
       "      <td>568,220</td>\n",
       "      <td>573,506</td>\n",
       "      <td>577,754</td>\n",
       "      <td>586,347</td>\n",
       "      <td>592,588</td>\n",
       "      <td>599,092</td>\n",
       "    </tr>\n",
       "  </tbody>\n",
       "</table>\n",
       "</div>"
      ],
      "text/plain": [
       "           areas      2018-1      2018-2      2018-3      2018-4      2019-1  \\\n",
       "0  United States  20,163,159  20,510,177  20,749,752  20,897,804  21,098,827   \n",
       "1    New England   1,070,863   1,084,947   1,096,174   1,101,531   1,118,703   \n",
       "2    Connecticut     272,854     273,884     278,295     277,874     281,659   \n",
       "3          Maine      63,698      64,746      65,434      65,545      66,590   \n",
       "4  Massachusetts     558,472     568,220     573,506     577,754     586,347   \n",
       "\n",
       "       2019-2      2019-3  \n",
       "0  21,340,267  21,542,540  \n",
       "1   1,130,084   1,142,586  \n",
       "2     284,357     287,560  \n",
       "3      67,138      67,905  \n",
       "4     592,588     599,092  "
      ]
     },
     "execution_count": 165,
     "metadata": {},
     "output_type": "execute_result"
    }
   ],
   "source": [
    "gdp_df.head()"
   ]
  },
  {
   "cell_type": "markdown",
   "metadata": {},
   "source": [
    "#### 2. Contributions to Percent Change in Real Gross Domestic Product (GDP) by State and Region, 2019:Q2-2019:Q3--Table Ends"
   ]
  },
  {
   "cell_type": "code",
   "execution_count": 166,
   "metadata": {},
   "outputs": [],
   "source": [
    "gdp_by_state_by_inds = tabula.read_pdf(os.path.join(os.getcwd(),\"data/qgdpstate0120_2.pdf\"), \n",
    "                         pages = 6)"
   ]
  },
  {
   "cell_type": "code",
   "execution_count": 167,
   "metadata": {},
   "outputs": [],
   "source": [
    "gdp_by_state_by_inds = gdp_by_state_by_inds[0]"
   ]
  },
  {
   "cell_type": "code",
   "execution_count": 172,
   "metadata": {},
   "outputs": [
    {
     "data": {
      "text/html": [
       "<div>\n",
       "<style scoped>\n",
       "    .dataframe tbody tr th:only-of-type {\n",
       "        vertical-align: middle;\n",
       "    }\n",
       "\n",
       "    .dataframe tbody tr th {\n",
       "        vertical-align: top;\n",
       "    }\n",
       "\n",
       "    .dataframe thead th {\n",
       "        text-align: right;\n",
       "    }\n",
       "</style>\n",
       "<table border=\"1\" class=\"dataframe\">\n",
       "  <thead>\n",
       "    <tr style=\"text-align: right;\">\n",
       "      <th></th>\n",
       "      <th>Unnamed: 0</th>\n",
       "      <th>Unnamed: 1</th>\n",
       "      <th>Unnamed: 2</th>\n",
       "      <th>Unnamed: 3</th>\n",
       "      <th>Unnamed: 4</th>\n",
       "    </tr>\n",
       "  </thead>\n",
       "  <tbody>\n",
       "    <tr>\n",
       "      <th>0</th>\n",
       "      <td>NaN</td>\n",
       "      <td>NaN</td>\n",
       "      <td>NaN</td>\n",
       "      <td>NaN</td>\n",
       "      <td>NaN</td>\n",
       "    </tr>\n",
       "    <tr>\n",
       "      <th>1</th>\n",
       "      <td>NaN</td>\n",
       "      <td>Other services (except Real estate and governm...</td>\n",
       "      <td>Management of companies and enterprises</td>\n",
       "      <td>NaN</td>\n",
       "      <td>NaN</td>\n",
       "    </tr>\n",
       "    <tr>\n",
       "      <th>2</th>\n",
       "      <td>United States</td>\n",
       "      <td>0.11 0.42</td>\n",
       "      <td>0.16</td>\n",
       "      <td>NaN</td>\n",
       "      <td>NaN</td>\n",
       "    </tr>\n",
       "    <tr>\n",
       "      <th>3</th>\n",
       "      <td>New England</td>\n",
       "      <td>0.09 0.56</td>\n",
       "      <td>0.20</td>\n",
       "      <td>NaN</td>\n",
       "      <td>NaN</td>\n",
       "    </tr>\n",
       "    <tr>\n",
       "      <th>4</th>\n",
       "      <td>Connecticut</td>\n",
       "      <td>0.03 0.37</td>\n",
       "      <td>0.19</td>\n",
       "      <td>NaN</td>\n",
       "      <td>NaN</td>\n",
       "    </tr>\n",
       "  </tbody>\n",
       "</table>\n",
       "</div>"
      ],
      "text/plain": [
       "      Unnamed: 0                                         Unnamed: 1  \\\n",
       "0            NaN                                                NaN   \n",
       "1            NaN  Other services (except Real estate and governm...   \n",
       "2  United States                                          0.11 0.42   \n",
       "3    New England                                          0.09 0.56   \n",
       "4    Connecticut                                          0.03 0.37   \n",
       "\n",
       "                                Unnamed: 2  Unnamed: 3  Unnamed: 4  \n",
       "0                                      NaN         NaN         NaN  \n",
       "1  Management of companies and enterprises         NaN         NaN  \n",
       "2                                     0.16         NaN         NaN  \n",
       "3                                     0.20         NaN         NaN  \n",
       "4                                     0.19         NaN         NaN  "
      ]
     },
     "execution_count": 172,
     "metadata": {},
     "output_type": "execute_result"
    }
   ],
   "source": [
    "gdp_by_state_by_inds.iloc[:5,:5]"
   ]
  },
  {
   "cell_type": "code",
   "execution_count": 173,
   "metadata": {},
   "outputs": [],
   "source": [
    "gdp_by_state_by_inds = gdp_by_state_by_inds[2:]"
   ]
  },
  {
   "cell_type": "code",
   "execution_count": 174,
   "metadata": {},
   "outputs": [
    {
     "name": "stderr",
     "output_type": "stream",
     "text": [
      "/Users/francescao/projects/covid19_analysis/env/lib/python3.7/site-packages/pandas/core/frame.py:2963: SettingWithCopyWarning: \n",
      "A value is trying to be set on a copy of a slice from a DataFrame.\n",
      "Try using .loc[row_indexer,col_indexer] = value instead\n",
      "\n",
      "See the caveats in the documentation: https://pandas.pydata.org/pandas-docs/stable/user_guide/indexing.html#returning-a-view-versus-a-copy\n",
      "  self[k1] = value[k2]\n"
     ]
    }
   ],
   "source": [
    "gdp_by_state_by_inds[[\"Real estate and rental and leasing\",\n",
    "                      \"Professional, scientific, and technical services\"]] = gdp_by_state_by_inds[\"Unnamed: 1\"].str.split(\" \",expand = True)"
   ]
  },
  {
   "cell_type": "code",
   "execution_count": 175,
   "metadata": {},
   "outputs": [],
   "source": [
    "gdp_by_state_by_inds[[\"Educational services\",\n",
    "                      \"Health care and social assistance\"]] = gdp_by_state_by_inds[\n",
    "                                                            \"Seasonally adjusted at annual rates\"\n",
    "                                                                                  ].str.split(\" \", expand = True)"
   ]
  },
  {
   "cell_type": "code",
   "execution_count": 176,
   "metadata": {},
   "outputs": [],
   "source": [
    "gdp_by_state_by_inds[[\"Other services (except government and government enterprises)\",\n",
    "                      \"Government and government enterprises\"]] = gdp_by_state_by_inds[\"Unnamed: 14\"].str.split(\" \", expand = True)"
   ]
  },
  {
   "cell_type": "code",
   "execution_count": 177,
   "metadata": {},
   "outputs": [],
   "source": [
    "gdp_by_state_by_inds = gdp_by_state_by_inds.drop(columns= [\"Unnamed: 1\",\"Unnamed: 14\",\"Seasonally adjusted at annual rates\"])"
   ]
  },
  {
   "cell_type": "code",
   "execution_count": 178,
   "metadata": {},
   "outputs": [],
   "source": [
    "gdp_by_state_by_inds = gdp_by_state_by_inds.dropna(axis=1)"
   ]
  },
  {
   "cell_type": "code",
   "execution_count": 180,
   "metadata": {},
   "outputs": [
    {
     "data": {
      "text/html": [
       "<div>\n",
       "<style scoped>\n",
       "    .dataframe tbody tr th:only-of-type {\n",
       "        vertical-align: middle;\n",
       "    }\n",
       "\n",
       "    .dataframe tbody tr th {\n",
       "        vertical-align: top;\n",
       "    }\n",
       "\n",
       "    .dataframe thead th {\n",
       "        text-align: right;\n",
       "    }\n",
       "</style>\n",
       "<table border=\"1\" class=\"dataframe\">\n",
       "  <thead>\n",
       "    <tr style=\"text-align: right;\">\n",
       "      <th></th>\n",
       "      <th>Unnamed: 0</th>\n",
       "      <th>Unnamed: 2</th>\n",
       "      <th>Unnamed: 5</th>\n",
       "      <th>Unnamed: 9</th>\n",
       "      <th>Unnamed: 11</th>\n",
       "    </tr>\n",
       "  </thead>\n",
       "  <tbody>\n",
       "    <tr>\n",
       "      <th>2</th>\n",
       "      <td>United States</td>\n",
       "      <td>0.16</td>\n",
       "      <td>0.10</td>\n",
       "      <td>0.02</td>\n",
       "      <td>0.17</td>\n",
       "    </tr>\n",
       "    <tr>\n",
       "      <th>3</th>\n",
       "      <td>New England</td>\n",
       "      <td>0.20</td>\n",
       "      <td>0.12</td>\n",
       "      <td>0.04</td>\n",
       "      <td>0.17</td>\n",
       "    </tr>\n",
       "    <tr>\n",
       "      <th>4</th>\n",
       "      <td>Connecticut</td>\n",
       "      <td>0.19</td>\n",
       "      <td>0.11</td>\n",
       "      <td>0.04</td>\n",
       "      <td>0.11</td>\n",
       "    </tr>\n",
       "    <tr>\n",
       "      <th>5</th>\n",
       "      <td>Maine</td>\n",
       "      <td>0.27</td>\n",
       "      <td>0.15</td>\n",
       "      <td>0.05</td>\n",
       "      <td>0.33</td>\n",
       "    </tr>\n",
       "    <tr>\n",
       "      <th>6</th>\n",
       "      <td>Massachusetts</td>\n",
       "      <td>0.20</td>\n",
       "      <td>0.10</td>\n",
       "      <td>0.03</td>\n",
       "      <td>0.16</td>\n",
       "    </tr>\n",
       "  </tbody>\n",
       "</table>\n",
       "</div>"
      ],
      "text/plain": [
       "      Unnamed: 0 Unnamed: 2 Unnamed: 5  Unnamed: 9 Unnamed: 11\n",
       "2  United States       0.16       0.10        0.02        0.17\n",
       "3    New England       0.20       0.12        0.04        0.17\n",
       "4    Connecticut       0.19       0.11        0.04        0.11\n",
       "5          Maine       0.27       0.15        0.05        0.33\n",
       "6  Massachusetts       0.20       0.10        0.03        0.16"
      ]
     },
     "execution_count": 180,
     "metadata": {},
     "output_type": "execute_result"
    }
   ],
   "source": [
    "gdp_by_state_by_inds.iloc[:5,:5]"
   ]
  },
  {
   "cell_type": "code",
   "execution_count": 181,
   "metadata": {},
   "outputs": [],
   "source": [
    "name_dic = {\"Unnamed: 0\":\"areas\",\n",
    "    \"Unnamed: 2\":\"Management of companies and enterprises\",\n",
    "\"Unnamed: 5\":\"Administrative and support and waste management and remediation services\",\n",
    "\"Unnamed: 9\":\"Arts, entertainment, and recreation\", \n",
    "\"Unnamed: 11\":\"Accomodation and food services\"}"
   ]
  },
  {
   "cell_type": "code",
   "execution_count": 182,
   "metadata": {},
   "outputs": [],
   "source": [
    "gdp_by_state_by_inds = gdp_by_state_by_inds.rename(columns=name_dic)"
   ]
  },
  {
   "cell_type": "code",
   "execution_count": 184,
   "metadata": {},
   "outputs": [
    {
     "data": {
      "text/html": [
       "<div>\n",
       "<style scoped>\n",
       "    .dataframe tbody tr th:only-of-type {\n",
       "        vertical-align: middle;\n",
       "    }\n",
       "\n",
       "    .dataframe tbody tr th {\n",
       "        vertical-align: top;\n",
       "    }\n",
       "\n",
       "    .dataframe thead th {\n",
       "        text-align: right;\n",
       "    }\n",
       "</style>\n",
       "<table border=\"1\" class=\"dataframe\">\n",
       "  <thead>\n",
       "    <tr style=\"text-align: right;\">\n",
       "      <th></th>\n",
       "      <th>areas</th>\n",
       "      <th>Management of companies and enterprises</th>\n",
       "      <th>Administrative and support and waste management and remediation services</th>\n",
       "      <th>Arts, entertainment, and recreation</th>\n",
       "      <th>Accomodation and food services</th>\n",
       "      <th>Real estate and rental and leasing</th>\n",
       "      <th>Professional, scientific, and technical services</th>\n",
       "      <th>Educational services</th>\n",
       "      <th>Health care and social assistance</th>\n",
       "      <th>Other services (except government and government enterprises)</th>\n",
       "      <th>Government and government enterprises</th>\n",
       "    </tr>\n",
       "  </thead>\n",
       "  <tbody>\n",
       "    <tr>\n",
       "      <th>2</th>\n",
       "      <td>United States</td>\n",
       "      <td>0.16</td>\n",
       "      <td>0.10</td>\n",
       "      <td>0.02</td>\n",
       "      <td>0.17</td>\n",
       "      <td>0.11</td>\n",
       "      <td>0.42</td>\n",
       "      <td>0.08</td>\n",
       "      <td>0.19</td>\n",
       "      <td>0.05</td>\n",
       "      <td>0.01</td>\n",
       "    </tr>\n",
       "    <tr>\n",
       "      <th>3</th>\n",
       "      <td>New England</td>\n",
       "      <td>0.20</td>\n",
       "      <td>0.12</td>\n",
       "      <td>0.04</td>\n",
       "      <td>0.17</td>\n",
       "      <td>0.09</td>\n",
       "      <td>0.56</td>\n",
       "      <td>0.23</td>\n",
       "      <td>0.21</td>\n",
       "      <td>0.05</td>\n",
       "      <td>-0.01</td>\n",
       "    </tr>\n",
       "    <tr>\n",
       "      <th>4</th>\n",
       "      <td>Connecticut</td>\n",
       "      <td>0.19</td>\n",
       "      <td>0.11</td>\n",
       "      <td>0.04</td>\n",
       "      <td>0.11</td>\n",
       "      <td>0.03</td>\n",
       "      <td>0.37</td>\n",
       "      <td>0.27</td>\n",
       "      <td>0.17</td>\n",
       "      <td>0.07</td>\n",
       "      <td>-0.04</td>\n",
       "    </tr>\n",
       "    <tr>\n",
       "      <th>5</th>\n",
       "      <td>Maine</td>\n",
       "      <td>0.27</td>\n",
       "      <td>0.15</td>\n",
       "      <td>0.05</td>\n",
       "      <td>0.33</td>\n",
       "      <td>0.07</td>\n",
       "      <td>0.26</td>\n",
       "      <td>0.06</td>\n",
       "      <td>0.15</td>\n",
       "      <td>0.05</td>\n",
       "      <td>-0.10</td>\n",
       "    </tr>\n",
       "    <tr>\n",
       "      <th>6</th>\n",
       "      <td>Massachusetts</td>\n",
       "      <td>0.20</td>\n",
       "      <td>0.10</td>\n",
       "      <td>0.03</td>\n",
       "      <td>0.16</td>\n",
       "      <td>0.13</td>\n",
       "      <td>0.72</td>\n",
       "      <td>0.24</td>\n",
       "      <td>0.22</td>\n",
       "      <td>0.05</td>\n",
       "      <td>0.00</td>\n",
       "    </tr>\n",
       "  </tbody>\n",
       "</table>\n",
       "</div>"
      ],
      "text/plain": [
       "           areas Management of companies and enterprises  \\\n",
       "2  United States                                    0.16   \n",
       "3    New England                                    0.20   \n",
       "4    Connecticut                                    0.19   \n",
       "5          Maine                                    0.27   \n",
       "6  Massachusetts                                    0.20   \n",
       "\n",
       "  Administrative and support and waste management and remediation services  \\\n",
       "2                                               0.10                         \n",
       "3                                               0.12                         \n",
       "4                                               0.11                         \n",
       "5                                               0.15                         \n",
       "6                                               0.10                         \n",
       "\n",
       "   Arts, entertainment, and recreation Accomodation and food services  \\\n",
       "2                                 0.02                           0.17   \n",
       "3                                 0.04                           0.17   \n",
       "4                                 0.04                           0.11   \n",
       "5                                 0.05                           0.33   \n",
       "6                                 0.03                           0.16   \n",
       "\n",
       "  Real estate and rental and leasing  \\\n",
       "2                               0.11   \n",
       "3                               0.09   \n",
       "4                               0.03   \n",
       "5                               0.07   \n",
       "6                               0.13   \n",
       "\n",
       "  Professional, scientific, and technical services Educational services  \\\n",
       "2                                             0.42                 0.08   \n",
       "3                                             0.56                 0.23   \n",
       "4                                             0.37                 0.27   \n",
       "5                                             0.26                 0.06   \n",
       "6                                             0.72                 0.24   \n",
       "\n",
       "  Health care and social assistance  \\\n",
       "2                              0.19   \n",
       "3                              0.21   \n",
       "4                              0.17   \n",
       "5                              0.15   \n",
       "6                              0.22   \n",
       "\n",
       "  Other services (except government and government enterprises)  \\\n",
       "2                                               0.05              \n",
       "3                                               0.05              \n",
       "4                                               0.07              \n",
       "5                                               0.05              \n",
       "6                                               0.05              \n",
       "\n",
       "  Government and government enterprises  \n",
       "2                                  0.01  \n",
       "3                                 -0.01  \n",
       "4                                 -0.04  \n",
       "5                                 -0.10  \n",
       "6                                  0.00  "
      ]
     },
     "execution_count": 184,
     "metadata": {},
     "output_type": "execute_result"
    }
   ],
   "source": [
    "gdp_by_state_by_inds.head()"
   ]
  },
  {
   "cell_type": "code",
   "execution_count": 201,
   "metadata": {},
   "outputs": [],
   "source": [
    "gdp_by_state_by_inds.columns = gdp_by_state_by_inds.columns.str.replace(\n",
    "                                                \"\\)|\\(|,| \",\"_\").str.replace(\"__\",\"_\").str.lower()"
   ]
  },
  {
   "cell_type": "code",
   "execution_count": 206,
   "metadata": {},
   "outputs": [
    {
     "data": {
      "text/plain": [
       "areas                                                                        object\n",
       "management_of_companies_and_enterprises                                      object\n",
       "administrative_and_support_and_waste_management_and_remediation_services     object\n",
       "arts_entertainment_and_recreation                                           float64\n",
       "accomodation_and_food_services                                               object\n",
       "real_estate_and_rental_and_leasing                                           object\n",
       "professional_scientific_and_technical_services                               object\n",
       "educational_services                                                         object\n",
       "health_care_and_social_assistance                                            object\n",
       "other_services_except_government_and_government_enterprises_                 object\n",
       "government_and_government_enterprises                                        object\n",
       "dtype: object"
      ]
     },
     "execution_count": 206,
     "metadata": {},
     "output_type": "execute_result"
    }
   ],
   "source": [
    "gdp_by_state_by_inds.dtypes"
   ]
  },
  {
   "cell_type": "code",
   "execution_count": null,
   "metadata": {},
   "outputs": [],
   "source": []
  },
  {
   "cell_type": "markdown",
   "metadata": {},
   "source": [
    "## 2.0 Employment by states\n",
    "**States Data**\n",
    "\n",
    "- NY: https://www.labor.ny.gov/stats/2019-2021-Statewide-Short-Term-Industry-Projections.xlsx\n"
   ]
  },
  {
   "cell_type": "code",
   "execution_count": 225,
   "metadata": {},
   "outputs": [],
   "source": [
    "# headers = {'User-Agent': \"Mozilla/5.0 (Macintosh; Intel Mac OS X 10_14_6) AppleWebKit/537.36 (KHTML, like Gecko) Chrome/76.0.3809.132 Safari/537.36\"}\n",
    "\n",
    "# url=\"https://labor.ny.gov/stats/2016-2026-Statewide-and-Regional-Long-Term-Industry-Projections.xlsx\"\n",
    "# s=requests.get(url, headers= headers).text"
   ]
  },
  {
   "cell_type": "markdown",
   "metadata": {},
   "source": [
    "### New York"
   ]
  },
  {
   "cell_type": "code",
   "execution_count": 265,
   "metadata": {},
   "outputs": [],
   "source": [
    "employment_ny = pd.read_excel(os.path.join(os.getcwd(), \"data/2019-2021-Statewide-Short-Term-Industry-Projections.xlsx\"))"
   ]
  },
  {
   "cell_type": "code",
   "execution_count": 266,
   "metadata": {},
   "outputs": [
    {
     "data": {
      "text/html": [
       "<div>\n",
       "<style scoped>\n",
       "    .dataframe tbody tr th:only-of-type {\n",
       "        vertical-align: middle;\n",
       "    }\n",
       "\n",
       "    .dataframe tbody tr th {\n",
       "        vertical-align: top;\n",
       "    }\n",
       "\n",
       "    .dataframe thead th {\n",
       "        text-align: right;\n",
       "    }\n",
       "</style>\n",
       "<table border=\"1\" class=\"dataframe\">\n",
       "  <thead>\n",
       "    <tr style=\"text-align: right;\">\n",
       "      <th></th>\n",
       "      <th>Unnamed: 0</th>\n",
       "      <th>New York State Department of Labor</th>\n",
       "      <th>Unnamed: 2</th>\n",
       "      <th>Unnamed: 3</th>\n",
       "      <th>Unnamed: 4</th>\n",
       "      <th>Unnamed: 5</th>\n",
       "      <th>Unnamed: 6</th>\n",
       "    </tr>\n",
       "  </thead>\n",
       "  <tbody>\n",
       "    <tr>\n",
       "      <th>0</th>\n",
       "      <td>NaN</td>\n",
       "      <td>Short-Term Industry Employment Projections, 20...</td>\n",
       "      <td>NaN</td>\n",
       "      <td>NaN</td>\n",
       "      <td>NaN</td>\n",
       "      <td>NaN</td>\n",
       "      <td>NaN</td>\n",
       "    </tr>\n",
       "    <tr>\n",
       "      <th>1</th>\n",
       "      <td>NaN</td>\n",
       "      <td>New York State</td>\n",
       "      <td>NaN</td>\n",
       "      <td>NaN</td>\n",
       "      <td>NaN</td>\n",
       "      <td>NaN</td>\n",
       "      <td>NaN</td>\n",
       "    </tr>\n",
       "    <tr>\n",
       "      <th>2</th>\n",
       "      <td>NaN</td>\n",
       "      <td>NaN</td>\n",
       "      <td>NaN</td>\n",
       "      <td>NaN</td>\n",
       "      <td>NaN</td>\n",
       "      <td>NaN</td>\n",
       "      <td>NaN</td>\n",
       "    </tr>\n",
       "    <tr>\n",
       "      <th>3</th>\n",
       "      <td>NaN</td>\n",
       "      <td>NAICS\\nCode</td>\n",
       "      <td>Industry Title</td>\n",
       "      <td>Employment</td>\n",
       "      <td>NaN</td>\n",
       "      <td>Net\\nChange</td>\n",
       "      <td>Percent\\nChange</td>\n",
       "    </tr>\n",
       "    <tr>\n",
       "      <th>4</th>\n",
       "      <td>NaN</td>\n",
       "      <td>NaN</td>\n",
       "      <td>NaN</td>\n",
       "      <td>2019</td>\n",
       "      <td>2021</td>\n",
       "      <td>NaN</td>\n",
       "      <td>NaN</td>\n",
       "    </tr>\n",
       "    <tr>\n",
       "      <th>5</th>\n",
       "      <td>NaN</td>\n",
       "      <td>NaN</td>\n",
       "      <td>NaN</td>\n",
       "      <td>NaN</td>\n",
       "      <td>NaN</td>\n",
       "      <td>NaN</td>\n",
       "      <td>NaN</td>\n",
       "    </tr>\n",
       "    <tr>\n",
       "      <th>6</th>\n",
       "      <td>NaN</td>\n",
       "      <td>000000</td>\n",
       "      <td>Total All Industries</td>\n",
       "      <td>10234640</td>\n",
       "      <td>10435820</td>\n",
       "      <td>201180</td>\n",
       "      <td>0.0196568</td>\n",
       "    </tr>\n",
       "    <tr>\n",
       "      <th>7</th>\n",
       "      <td>NaN</td>\n",
       "      <td>NaN</td>\n",
       "      <td>NaN</td>\n",
       "      <td></td>\n",
       "      <td></td>\n",
       "      <td>NaN</td>\n",
       "      <td>NaN</td>\n",
       "    </tr>\n",
       "    <tr>\n",
       "      <th>8</th>\n",
       "      <td>NaN</td>\n",
       "      <td>00601</td>\n",
       "      <td>Total Self Employed, All Jobs</td>\n",
       "      <td>570590</td>\n",
       "      <td>577460</td>\n",
       "      <td>6870</td>\n",
       "      <td>0.0120402</td>\n",
       "    </tr>\n",
       "    <tr>\n",
       "      <th>9</th>\n",
       "      <td>NaN</td>\n",
       "      <td>NaN</td>\n",
       "      <td>NaN</td>\n",
       "      <td></td>\n",
       "      <td></td>\n",
       "      <td>NaN</td>\n",
       "      <td>NaN</td>\n",
       "    </tr>\n",
       "  </tbody>\n",
       "</table>\n",
       "</div>"
      ],
      "text/plain": [
       "   Unnamed: 0                 New York State Department of Labor  \\\n",
       "0         NaN  Short-Term Industry Employment Projections, 20...   \n",
       "1         NaN                                   New York State     \n",
       "2         NaN                                                NaN   \n",
       "3         NaN                                        NAICS\\nCode   \n",
       "4         NaN                                                NaN   \n",
       "5         NaN                                                NaN   \n",
       "6         NaN                                             000000   \n",
       "7         NaN                                                NaN   \n",
       "8         NaN                                              00601   \n",
       "9         NaN                                                NaN   \n",
       "\n",
       "                      Unnamed: 2  Unnamed: 3 Unnamed: 4   Unnamed: 5  \\\n",
       "0                            NaN         NaN        NaN          NaN   \n",
       "1                            NaN         NaN        NaN          NaN   \n",
       "2                            NaN         NaN        NaN          NaN   \n",
       "3                 Industry Title  Employment        NaN  Net\\nChange   \n",
       "4                            NaN        2019       2021          NaN   \n",
       "5                            NaN         NaN        NaN          NaN   \n",
       "6           Total All Industries    10234640   10435820       201180   \n",
       "7                            NaN                                 NaN   \n",
       "8  Total Self Employed, All Jobs      570590     577460         6870   \n",
       "9                            NaN                                 NaN   \n",
       "\n",
       "         Unnamed: 6  \n",
       "0               NaN  \n",
       "1               NaN  \n",
       "2               NaN  \n",
       "3   Percent\\nChange  \n",
       "4               NaN  \n",
       "5               NaN  \n",
       "6         0.0196568  \n",
       "7               NaN  \n",
       "8         0.0120402  \n",
       "9               NaN  "
      ]
     },
     "execution_count": 266,
     "metadata": {},
     "output_type": "execute_result"
    }
   ],
   "source": [
    "employment_ny.head(10)"
   ]
  },
  {
   "cell_type": "code",
   "execution_count": 267,
   "metadata": {},
   "outputs": [],
   "source": [
    "employment_ny = employment_ny.dropna(axis=1,how='all')"
   ]
  },
  {
   "cell_type": "code",
   "execution_count": 272,
   "metadata": {},
   "outputs": [],
   "source": [
    "employment_ny = employment_ny.dropna(axis=0, how=\"any\").reset_index(drop = True)"
   ]
  },
  {
   "cell_type": "code",
   "execution_count": 274,
   "metadata": {},
   "outputs": [
    {
     "data": {
      "text/plain": [
       "(109, 6)"
      ]
     },
     "execution_count": 274,
     "metadata": {},
     "output_type": "execute_result"
    }
   ],
   "source": [
    "employment_ny.shape"
   ]
  },
  {
   "cell_type": "code",
   "execution_count": 275,
   "metadata": {},
   "outputs": [],
   "source": [
    "employment_ny.columns = [\"naics_code\",\"industry\",\"2016\",\"2026\",\"net_change\",\"pct_change\"]"
   ]
  },
  {
   "attachments": {},
   "cell_type": "markdown",
   "metadata": {},
   "source": [
    "- `00601`: Self Employed Workers, All Jobs\n",
    "- `11`: Agriculture, Forestry, Fishing and Hunting\n",
    "- `21`: Mining\n",
    "- `22`: Utilities\n",
    "- `23`: Construction\n",
    "- `31`: Manufacturing\n",
    "- `42`: Wholesale Trade\n",
    "- `44`: Retail Trade\n",
    "- `48`: Transportation and Warehousing\n",
    "- `51`: Information\n",
    "- `1023`: Financial Activities\n",
    "- `1024`: Professional and Business Services\n",
    "- `61`: Educational Services\n",
    "- `62`: Health Care and Social Assistance\n",
    "- `71`: Arts, Entertainment, and Recreation\n",
    "- `72`: Accommodation and Food Services\n",
    "- `81`: Other Services (except Government)\n",
    "- `9`: Government"
   ]
  },
  {
   "cell_type": "code",
   "execution_count": 276,
   "metadata": {},
   "outputs": [],
   "source": [
    "employment_ny.naics_code = employment_ny.naics_code.astype(int)\n",
    "employment_ny['2016'] = employment_ny['2016'].astype(int)\n",
    "employment_ny['2026'] = employment_ny['2026'].astype(int)"
   ]
  },
  {
   "cell_type": "code",
   "execution_count": 277,
   "metadata": {},
   "outputs": [],
   "source": [
    "industry_codes = [601,11,21,22,23,31,42,44,48,51,1023,1024,61,62,71,72,81,9,]"
   ]
  },
  {
   "cell_type": "code",
   "execution_count": 278,
   "metadata": {},
   "outputs": [],
   "source": [
    "employment_ny_inds = employment_ny[employment_ny.naics_code.isin(industry_codes)]"
   ]
  },
  {
   "cell_type": "code",
   "execution_count": 279,
   "metadata": {},
   "outputs": [
    {
     "data": {
      "text/html": [
       "<div>\n",
       "<style scoped>\n",
       "    .dataframe tbody tr th:only-of-type {\n",
       "        vertical-align: middle;\n",
       "    }\n",
       "\n",
       "    .dataframe tbody tr th {\n",
       "        vertical-align: top;\n",
       "    }\n",
       "\n",
       "    .dataframe thead th {\n",
       "        text-align: right;\n",
       "    }\n",
       "</style>\n",
       "<table border=\"1\" class=\"dataframe\">\n",
       "  <thead>\n",
       "    <tr style=\"text-align: right;\">\n",
       "      <th></th>\n",
       "      <th>naics_code</th>\n",
       "      <th>industry</th>\n",
       "      <th>2016</th>\n",
       "      <th>2026</th>\n",
       "      <th>net_change</th>\n",
       "      <th>pct_change</th>\n",
       "    </tr>\n",
       "  </thead>\n",
       "  <tbody>\n",
       "    <tr>\n",
       "      <th>1</th>\n",
       "      <td>601</td>\n",
       "      <td>Total Self Employed, All Jobs</td>\n",
       "      <td>570590</td>\n",
       "      <td>577460</td>\n",
       "      <td>6870</td>\n",
       "      <td>0.0120402</td>\n",
       "    </tr>\n",
       "    <tr>\n",
       "      <th>2</th>\n",
       "      <td>11</td>\n",
       "      <td>Agriculture, Forestry, Fishing and Hunting</td>\n",
       "      <td>31180</td>\n",
       "      <td>31870</td>\n",
       "      <td>690</td>\n",
       "      <td>0.0221296</td>\n",
       "    </tr>\n",
       "    <tr>\n",
       "      <th>8</th>\n",
       "      <td>21</td>\n",
       "      <td>Mining</td>\n",
       "      <td>4230</td>\n",
       "      <td>4550</td>\n",
       "      <td>320</td>\n",
       "      <td>0.0756501</td>\n",
       "    </tr>\n",
       "    <tr>\n",
       "      <th>12</th>\n",
       "      <td>22</td>\n",
       "      <td>Utilities</td>\n",
       "      <td>36700</td>\n",
       "      <td>36430</td>\n",
       "      <td>-270</td>\n",
       "      <td>-0.00735695</td>\n",
       "    </tr>\n",
       "    <tr>\n",
       "      <th>13</th>\n",
       "      <td>23</td>\n",
       "      <td>Construction</td>\n",
       "      <td>380940</td>\n",
       "      <td>390570</td>\n",
       "      <td>9630</td>\n",
       "      <td>0.0252796</td>\n",
       "    </tr>\n",
       "    <tr>\n",
       "      <th>17</th>\n",
       "      <td>31</td>\n",
       "      <td>Manufacturing</td>\n",
       "      <td>441060</td>\n",
       "      <td>439460</td>\n",
       "      <td>-1600</td>\n",
       "      <td>-0.00362762</td>\n",
       "    </tr>\n",
       "    <tr>\n",
       "      <th>39</th>\n",
       "      <td>42</td>\n",
       "      <td>Wholesale Trade</td>\n",
       "      <td>322100</td>\n",
       "      <td>318890</td>\n",
       "      <td>-3210</td>\n",
       "      <td>-0.00996585</td>\n",
       "    </tr>\n",
       "    <tr>\n",
       "      <th>43</th>\n",
       "      <td>44</td>\n",
       "      <td>Retail Trade</td>\n",
       "      <td>930340</td>\n",
       "      <td>913410</td>\n",
       "      <td>-16930</td>\n",
       "      <td>-0.0181976</td>\n",
       "    </tr>\n",
       "    <tr>\n",
       "      <th>56</th>\n",
       "      <td>48</td>\n",
       "      <td>Transportation and Warehousing</td>\n",
       "      <td>279600</td>\n",
       "      <td>289240</td>\n",
       "      <td>9640</td>\n",
       "      <td>0.0344778</td>\n",
       "    </tr>\n",
       "    <tr>\n",
       "      <th>67</th>\n",
       "      <td>51</td>\n",
       "      <td>Information</td>\n",
       "      <td>273110</td>\n",
       "      <td>276340</td>\n",
       "      <td>3230</td>\n",
       "      <td>0.0118267</td>\n",
       "    </tr>\n",
       "    <tr>\n",
       "      <th>74</th>\n",
       "      <td>1023</td>\n",
       "      <td>Financial Activities</td>\n",
       "      <td>709490</td>\n",
       "      <td>714520</td>\n",
       "      <td>5030</td>\n",
       "      <td>0.0070896</td>\n",
       "    </tr>\n",
       "    <tr>\n",
       "      <th>81</th>\n",
       "      <td>1024</td>\n",
       "      <td>Professional and Business Services</td>\n",
       "      <td>1317310</td>\n",
       "      <td>1352910</td>\n",
       "      <td>35600</td>\n",
       "      <td>0.0270248</td>\n",
       "    </tr>\n",
       "    <tr>\n",
       "      <th>86</th>\n",
       "      <td>61</td>\n",
       "      <td>Educational Services</td>\n",
       "      <td>1190330</td>\n",
       "      <td>1209600</td>\n",
       "      <td>19270</td>\n",
       "      <td>0.0161888</td>\n",
       "    </tr>\n",
       "    <tr>\n",
       "      <th>87</th>\n",
       "      <td>62</td>\n",
       "      <td>Health Care and Social Assistance</td>\n",
       "      <td>1673360</td>\n",
       "      <td>1796800</td>\n",
       "      <td>123440</td>\n",
       "      <td>0.0737677</td>\n",
       "    </tr>\n",
       "    <tr>\n",
       "      <th>92</th>\n",
       "      <td>71</td>\n",
       "      <td>Arts, Entertainment, and Recreation</td>\n",
       "      <td>166470</td>\n",
       "      <td>170630</td>\n",
       "      <td>4160</td>\n",
       "      <td>0.0249895</td>\n",
       "    </tr>\n",
       "    <tr>\n",
       "      <th>96</th>\n",
       "      <td>72</td>\n",
       "      <td>Accommodation and Food Services</td>\n",
       "      <td>751760</td>\n",
       "      <td>756950</td>\n",
       "      <td>5190</td>\n",
       "      <td>0.0069038</td>\n",
       "    </tr>\n",
       "    <tr>\n",
       "      <th>99</th>\n",
       "      <td>81</td>\n",
       "      <td>Other Services (except Government)</td>\n",
       "      <td>437510</td>\n",
       "      <td>436660</td>\n",
       "      <td>-850</td>\n",
       "      <td>-0.00194281</td>\n",
       "    </tr>\n",
       "    <tr>\n",
       "      <th>104</th>\n",
       "      <td>9</td>\n",
       "      <td>Government</td>\n",
       "      <td>718650</td>\n",
       "      <td>719550</td>\n",
       "      <td>900</td>\n",
       "      <td>0.00125235</td>\n",
       "    </tr>\n",
       "  </tbody>\n",
       "</table>\n",
       "</div>"
      ],
      "text/plain": [
       "     naics_code                                    industry     2016     2026  \\\n",
       "1           601               Total Self Employed, All Jobs   570590   577460   \n",
       "2            11  Agriculture, Forestry, Fishing and Hunting    31180    31870   \n",
       "8            21                                      Mining     4230     4550   \n",
       "12           22                                   Utilities    36700    36430   \n",
       "13           23                                Construction   380940   390570   \n",
       "17           31                               Manufacturing   441060   439460   \n",
       "39           42                             Wholesale Trade   322100   318890   \n",
       "43           44                                Retail Trade   930340   913410   \n",
       "56           48              Transportation and Warehousing   279600   289240   \n",
       "67           51                                 Information   273110   276340   \n",
       "74         1023                        Financial Activities   709490   714520   \n",
       "81         1024          Professional and Business Services  1317310  1352910   \n",
       "86           61                        Educational Services  1190330  1209600   \n",
       "87           62           Health Care and Social Assistance  1673360  1796800   \n",
       "92           71         Arts, Entertainment, and Recreation   166470   170630   \n",
       "96           72             Accommodation and Food Services   751760   756950   \n",
       "99           81          Other Services (except Government)   437510   436660   \n",
       "104           9                                  Government   718650   719550   \n",
       "\n",
       "    net_change  pct_change  \n",
       "1         6870   0.0120402  \n",
       "2          690   0.0221296  \n",
       "8          320   0.0756501  \n",
       "12        -270 -0.00735695  \n",
       "13        9630   0.0252796  \n",
       "17       -1600 -0.00362762  \n",
       "39       -3210 -0.00996585  \n",
       "43      -16930  -0.0181976  \n",
       "56        9640   0.0344778  \n",
       "67        3230   0.0118267  \n",
       "74        5030   0.0070896  \n",
       "81       35600   0.0270248  \n",
       "86       19270   0.0161888  \n",
       "87      123440   0.0737677  \n",
       "92        4160   0.0249895  \n",
       "96        5190   0.0069038  \n",
       "99        -850 -0.00194281  \n",
       "104        900  0.00125235  "
      ]
     },
     "execution_count": 279,
     "metadata": {},
     "output_type": "execute_result"
    }
   ],
   "source": [
    "employment_ny_inds"
   ]
  },
  {
   "cell_type": "markdown",
   "metadata": {},
   "source": [
    "### New Jersey"
   ]
  },
  {
   "cell_type": "code",
   "execution_count": null,
   "metadata": {},
   "outputs": [],
   "source": []
  },
  {
   "cell_type": "code",
   "execution_count": null,
   "metadata": {},
   "outputs": [],
   "source": []
  },
  {
   "cell_type": "code",
   "execution_count": null,
   "metadata": {},
   "outputs": [],
   "source": []
  },
  {
   "cell_type": "code",
   "execution_count": null,
   "metadata": {},
   "outputs": [],
   "source": []
  },
  {
   "cell_type": "code",
   "execution_count": null,
   "metadata": {},
   "outputs": [],
   "source": []
  }
 ],
 "metadata": {
  "kernelspec": {
   "display_name": "Python 3",
   "language": "python",
   "name": "python3"
  },
  "language_info": {
   "codemirror_mode": {
    "name": "ipython",
    "version": 3
   },
   "file_extension": ".py",
   "mimetype": "text/x-python",
   "name": "python",
   "nbconvert_exporter": "python",
   "pygments_lexer": "ipython3",
   "version": "3.7.5"
  }
 },
 "nbformat": 4,
 "nbformat_minor": 4
}
