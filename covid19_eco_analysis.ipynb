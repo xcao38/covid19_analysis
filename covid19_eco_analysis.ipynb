{
 "cells": [
  {
   "cell_type": "code",
   "execution_count": 61,
   "metadata": {},
   "outputs": [],
   "source": [
    "import os\n",
    "import pandas as pd\n",
    "from fred import Fred\n",
    "import matplotlib.pyplot as plt\n",
    "\n",
    "%matplotlib inline"
   ]
  },
  {
   "cell_type": "markdown",
   "metadata": {},
   "source": [
    "# Get data"
   ]
  },
  {
   "cell_type": "code",
   "execution_count": 62,
   "metadata": {},
   "outputs": [],
   "source": [
    "# fr = Fred(api_key='abcdefghijklmnopqrstuvwxyz123456',response_type='dict')"
   ]
  },
  {
   "cell_type": "markdown",
   "metadata": {},
   "source": [
    "- Can see if we can use API to get data"
   ]
  },
  {
   "cell_type": "markdown",
   "metadata": {},
   "source": [
    "### Gross Output by Industry"
   ]
  },
  {
   "cell_type": "code",
   "execution_count": 63,
   "metadata": {},
   "outputs": [],
   "source": [
    "data_dir = os.path.join(os.getcwd(), \"data/covideco_Quarterly.txt\")"
   ]
  },
  {
   "cell_type": "code",
   "execution_count": 64,
   "metadata": {},
   "outputs": [],
   "source": [
    "go_by_industry = pd.read_csv(data_dir,sep=\"\\t\")"
   ]
  },
  {
   "cell_type": "markdown",
   "metadata": {},
   "source": [
    "**Notes:**\n",
    "- Data Source: Gross Output by Industry: Gross Output by Industry, Billions of Dollars, Seasonally Adjusted at Annual Rates\n",
    "https://fred.stlouisfed.org/release/tables?rid=331&eid=1993#\n",
    "\n"
   ]
  },
  {
   "cell_type": "markdown",
   "metadata": {},
   "source": [
    "# Initial Analysis"
   ]
  },
  {
   "cell_type": "code",
   "execution_count": 65,
   "metadata": {},
   "outputs": [
    {
     "data": {
      "text/plain": [
       "(59, 33)"
      ]
     },
     "execution_count": 65,
     "metadata": {},
     "output_type": "execute_result"
    }
   ],
   "source": [
    "go_by_industry.shape"
   ]
  },
  {
   "cell_type": "code",
   "execution_count": 66,
   "metadata": {},
   "outputs": [
    {
     "data": {
      "text/plain": [
       "'2019-07-01'"
      ]
     },
     "execution_count": 66,
     "metadata": {},
     "output_type": "execute_result"
    }
   ],
   "source": [
    "go_by_industry.DATE.max()"
   ]
  },
  {
   "cell_type": "code",
   "execution_count": 67,
   "metadata": {},
   "outputs": [
    {
     "data": {
      "text/plain": [
       "'2005-01-01'"
      ]
     },
     "execution_count": 67,
     "metadata": {},
     "output_type": "execute_result"
    }
   ],
   "source": [
    "go_by_industry.DATE.min()"
   ]
  },
  {
   "cell_type": "code",
   "execution_count": 68,
   "metadata": {},
   "outputs": [
    {
     "data": {
      "text/plain": [
       "Index(['DATE', 'GOAER', 'GOAERAF', 'GOAF', 'GOAFH', 'GOAI', 'GOAWMS', 'GOC',\n",
       "       'GOES', 'GOESHS', 'GOF', 'GOFI', 'GOFIRL', 'GOG', 'GOGPI', 'GOHCSA',\n",
       "       'GOI', 'GOM', 'GOMA', 'GOMCE', 'GOMD', 'GOMN', 'GOOSEG', 'GOPBS',\n",
       "       'GOPI', 'GOPST', 'GOR', 'GORL', 'GOSL', 'GOSPI', 'GOT', 'GOU', 'GOW'],\n",
       "      dtype='object')"
      ]
     },
     "execution_count": 68,
     "metadata": {},
     "output_type": "execute_result"
    }
   ],
   "source": [
    "go_by_industry.columns"
   ]
  },
  {
   "cell_type": "code",
   "execution_count": 69,
   "metadata": {},
   "outputs": [
    {
     "data": {
      "text/html": [
       "<div>\n",
       "<style scoped>\n",
       "    .dataframe tbody tr th:only-of-type {\n",
       "        vertical-align: middle;\n",
       "    }\n",
       "\n",
       "    .dataframe tbody tr th {\n",
       "        vertical-align: top;\n",
       "    }\n",
       "\n",
       "    .dataframe thead th {\n",
       "        text-align: right;\n",
       "    }\n",
       "</style>\n",
       "<table border=\"1\" class=\"dataframe\">\n",
       "  <thead>\n",
       "    <tr style=\"text-align: right;\">\n",
       "      <th></th>\n",
       "      <th>DATE</th>\n",
       "      <th>GOAER</th>\n",
       "      <th>GOAERAF</th>\n",
       "      <th>GOAF</th>\n",
       "      <th>GOAFH</th>\n",
       "      <th>GOAI</th>\n",
       "      <th>GOAWMS</th>\n",
       "      <th>GOC</th>\n",
       "      <th>GOES</th>\n",
       "      <th>GOESHS</th>\n",
       "      <th>...</th>\n",
       "      <th>GOPBS</th>\n",
       "      <th>GOPI</th>\n",
       "      <th>GOPST</th>\n",
       "      <th>GOR</th>\n",
       "      <th>GORL</th>\n",
       "      <th>GOSL</th>\n",
       "      <th>GOSPI</th>\n",
       "      <th>GOT</th>\n",
       "      <th>GOU</th>\n",
       "      <th>GOW</th>\n",
       "    </tr>\n",
       "  </thead>\n",
       "  <tbody>\n",
       "    <tr>\n",
       "      <th>0</th>\n",
       "      <td>2005-01-01</td>\n",
       "      <td>195200</td>\n",
       "      <td>830300</td>\n",
       "      <td>635099</td>\n",
       "      <td>297482</td>\n",
       "      <td>22835859</td>\n",
       "      <td>559735</td>\n",
       "      <td>1238713</td>\n",
       "      <td>191383</td>\n",
       "      <td>1544232</td>\n",
       "      <td>...</td>\n",
       "      <td>2214244</td>\n",
       "      <td>20263503</td>\n",
       "      <td>1310749</td>\n",
       "      <td>1218101</td>\n",
       "      <td>2414652</td>\n",
       "      <td>1731382</td>\n",
       "      <td>13713477</td>\n",
       "      <td>724612</td>\n",
       "      <td>381224</td>\n",
       "      <td>1087905</td>\n",
       "    </tr>\n",
       "    <tr>\n",
       "      <th>1</th>\n",
       "      <td>2005-04-01</td>\n",
       "      <td>199654</td>\n",
       "      <td>850167</td>\n",
       "      <td>650513</td>\n",
       "      <td>298167</td>\n",
       "      <td>23225964</td>\n",
       "      <td>576804</td>\n",
       "      <td>1269902</td>\n",
       "      <td>193184</td>\n",
       "      <td>1564898</td>\n",
       "      <td>...</td>\n",
       "      <td>2261537</td>\n",
       "      <td>20629694</td>\n",
       "      <td>1335294</td>\n",
       "      <td>1233556</td>\n",
       "      <td>2479923</td>\n",
       "      <td>1753076</td>\n",
       "      <td>13956891</td>\n",
       "      <td>744427</td>\n",
       "      <td>393619</td>\n",
       "      <td>1091728</td>\n",
       "    </tr>\n",
       "    <tr>\n",
       "      <th>2</th>\n",
       "      <td>2005-07-01</td>\n",
       "      <td>203031</td>\n",
       "      <td>861411</td>\n",
       "      <td>658379</td>\n",
       "      <td>299068</td>\n",
       "      <td>23733860</td>\n",
       "      <td>583213</td>\n",
       "      <td>1302808</td>\n",
       "      <td>196086</td>\n",
       "      <td>1593299</td>\n",
       "      <td>...</td>\n",
       "      <td>2294539</td>\n",
       "      <td>21091301</td>\n",
       "      <td>1350535</td>\n",
       "      <td>1248641</td>\n",
       "      <td>2534816</td>\n",
       "      <td>1782789</td>\n",
       "      <td>14260921</td>\n",
       "      <td>762510</td>\n",
       "      <td>433039</td>\n",
       "      <td>1106462</td>\n",
       "    </tr>\n",
       "    <tr>\n",
       "      <th>3</th>\n",
       "      <td>2005-10-01</td>\n",
       "      <td>210163</td>\n",
       "      <td>878097</td>\n",
       "      <td>667933</td>\n",
       "      <td>299297</td>\n",
       "      <td>24256100</td>\n",
       "      <td>601280</td>\n",
       "      <td>1337151</td>\n",
       "      <td>199854</td>\n",
       "      <td>1614902</td>\n",
       "      <td>...</td>\n",
       "      <td>2354618</td>\n",
       "      <td>21574195</td>\n",
       "      <td>1388096</td>\n",
       "      <td>1258552</td>\n",
       "      <td>2562990</td>\n",
       "      <td>1814950</td>\n",
       "      <td>14490669</td>\n",
       "      <td>778906</td>\n",
       "      <td>456852</td>\n",
       "      <td>1144844</td>\n",
       "    </tr>\n",
       "    <tr>\n",
       "      <th>4</th>\n",
       "      <td>2006-01-01</td>\n",
       "      <td>216256</td>\n",
       "      <td>899096</td>\n",
       "      <td>682840</td>\n",
       "      <td>295945</td>\n",
       "      <td>24604791</td>\n",
       "      <td>615663</td>\n",
       "      <td>1371165</td>\n",
       "      <td>205626</td>\n",
       "      <td>1639224</td>\n",
       "      <td>...</td>\n",
       "      <td>2394078</td>\n",
       "      <td>21868521</td>\n",
       "      <td>1406098</td>\n",
       "      <td>1294025</td>\n",
       "      <td>2586824</td>\n",
       "      <td>1836871</td>\n",
       "      <td>14731273</td>\n",
       "      <td>804842</td>\n",
       "      <td>428646</td>\n",
       "      <td>1169017</td>\n",
       "    </tr>\n",
       "  </tbody>\n",
       "</table>\n",
       "<p>5 rows × 33 columns</p>\n",
       "</div>"
      ],
      "text/plain": [
       "         DATE   GOAER  GOAERAF    GOAF   GOAFH      GOAI  GOAWMS      GOC  \\\n",
       "0  2005-01-01  195200   830300  635099  297482  22835859  559735  1238713   \n",
       "1  2005-04-01  199654   850167  650513  298167  23225964  576804  1269902   \n",
       "2  2005-07-01  203031   861411  658379  299068  23733860  583213  1302808   \n",
       "3  2005-10-01  210163   878097  667933  299297  24256100  601280  1337151   \n",
       "4  2006-01-01  216256   899096  682840  295945  24604791  615663  1371165   \n",
       "\n",
       "     GOES   GOESHS  ...    GOPBS      GOPI    GOPST      GOR     GORL  \\\n",
       "0  191383  1544232  ...  2214244  20263503  1310749  1218101  2414652   \n",
       "1  193184  1564898  ...  2261537  20629694  1335294  1233556  2479923   \n",
       "2  196086  1593299  ...  2294539  21091301  1350535  1248641  2534816   \n",
       "3  199854  1614902  ...  2354618  21574195  1388096  1258552  2562990   \n",
       "4  205626  1639224  ...  2394078  21868521  1406098  1294025  2586824   \n",
       "\n",
       "      GOSL     GOSPI     GOT     GOU      GOW  \n",
       "0  1731382  13713477  724612  381224  1087905  \n",
       "1  1753076  13956891  744427  393619  1091728  \n",
       "2  1782789  14260921  762510  433039  1106462  \n",
       "3  1814950  14490669  778906  456852  1144844  \n",
       "4  1836871  14731273  804842  428646  1169017  \n",
       "\n",
       "[5 rows x 33 columns]"
      ]
     },
     "execution_count": 69,
     "metadata": {},
     "output_type": "execute_result"
    }
   ],
   "source": [
    "go_by_industry.head()"
   ]
  },
  {
   "attachments": {},
   "cell_type": "markdown",
   "metadata": {},
   "source": [
    "**Notes:**\n",
    "\n",
    "- Private Industries: \n",
    "    - `GOAFH`: Agriculture, Forestry, Fishing, and Hunting \n",
    "    - `GOM`: Mining\n",
    "    - `GOU`: Utilities\n",
    "    - `GOC`: Construction\n",
    "    - Manufacturing:\n",
    "        - `GOMD`: Durable Goods\n",
    "        - `GOMN`: Nondurable Goods\n",
    "    - `GOW`: Wholesale Trade\n",
    "    - `GOR`: Retail Trade\n",
    "    - `GOT`: Transportation and Warehousing\n",
    "    - `GOI`: Information\n",
    "    - `GOFIRL`: Finance, Insurance, Real Estate, Rental, and Leasing\n",
    "        - `GOFI`: Finance and Insurance\n",
    "        - `GORL`: Real Estate and Rental and Leasing\n",
    "    - `GOPBS`: Professional and Business Services\n",
    "        - `GOPST`: Professional, Scientific, and Technical Services\n",
    "        - `GOMCE`: Management of Companies and Enterprises\n",
    "        - `GOAWMS`: Administrative and Waste Management Services\n",
    "    - `GOESHS`: Educational Services, Health Care,and Social Assistance\n",
    "        - `GOES`: Educational Services\n",
    "        - `GOHCSA`: Health Care and Social Assistance\n",
    "    - `GOAERAF`: Arts, Entertainment, Recreation, Accommodation, and Food Services \n",
    "        - `GOAER`: Arts, Entertainment, and Recreation\n",
    "        - `GOAF`: Accommodation and Food Services\n",
    "    - `GOOSEG`: Other Services, Except Government\n",
    "- `GOG`: Government\n",
    "    - `GOF`: Federal\n",
    "    - `GOSL`: State and Local\n",
    "- Addenda:\n",
    "    - `GOSPI`: Gross Output of Private Services-Producing Industries\n",
    "\n",
    "\n",
    "\n",
    "\n",
    "- `GOAI`: Gross Output of All Industries\n",
    "\n",
    "\n",
    "**Categories**\n",
    "- private industry: `GOAFH`, `GOM`, `GOU`, `GOC`, `GOMD`, `GOMN`, `GOW`, `GOR`, `GOT`, `GOI`, `GOFI`, `GORL`, `GOPST`, `GOMCE`, `GOAWMS`, `GOES`, `GOHCSA`, `GOAER`, `GOAF`, `GOOSEG`\n"
   ]
  },
  {
   "cell_type": "code",
   "execution_count": 70,
   "metadata": {},
   "outputs": [],
   "source": [
    "private_ind = ['GOAFH', 'GOM', 'GOU', \n",
    "               'GOC', 'GOMD', 'GOMN',\n",
    "               'GOW', 'GOR', 'GOT',\n",
    "               'GOI', 'GOFI', 'GORL',\n",
    "               'GOPST', 'GOMCE', 'GOAWMS', \n",
    "               'GOES', 'GOHCSA', 'GOAER',\n",
    "               'GOAF', 'GOOSEG']"
   ]
  },
  {
   "cell_type": "code",
   "execution_count": 71,
   "metadata": {},
   "outputs": [
    {
     "data": {
      "text/plain": [
       "DATE       object\n",
       "GOAER       int64\n",
       "GOAERAF     int64\n",
       "GOAF        int64\n",
       "GOAFH       int64\n",
       "dtype: object"
      ]
     },
     "execution_count": 71,
     "metadata": {},
     "output_type": "execute_result"
    }
   ],
   "source": [
    "go_by_industry.dtypes[:5]"
   ]
  },
  {
   "cell_type": "code",
   "execution_count": 72,
   "metadata": {},
   "outputs": [],
   "source": [
    "go_by_industry['DATE'] = pd.to_datetime(go_by_industry['DATE'])"
   ]
  },
  {
   "cell_type": "code",
   "execution_count": 73,
   "metadata": {},
   "outputs": [],
   "source": [
    "go_by_industry = go_by_industry.set_index('DATE')"
   ]
  },
  {
   "cell_type": "code",
   "execution_count": 74,
   "metadata": {},
   "outputs": [],
   "source": [
    "test_cols = ['GOHCSA','GOAERAF','GOT','GOR','GOAFH','GOFI']"
   ]
  },
  {
   "cell_type": "code",
   "execution_count": 75,
   "metadata": {},
   "outputs": [
    {
     "data": {
      "text/plain": [
       "<matplotlib.axes._subplots.AxesSubplot at 0x12227f550>"
      ]
     },
     "execution_count": 75,
     "metadata": {},
     "output_type": "execute_result"
    },
    {
     "data": {
      "image/png": "[encoded data removed]",
      "text/plain": [
       "<Figure size 432x288 with 1 Axes>"
      ]
     },
     "metadata": {
      "needs_background": "light"
     },
     "output_type": "display_data"
    }
   ],
   "source": [
    "go_by_industry[test_cols].plot()"
   ]
  },
  {
   "cell_type": "code",
   "execution_count": 76,
   "metadata": {},
   "outputs": [],
   "source": [
    "go_private_ind = go_by_industry[private_ind]"
   ]
  },
  {
   "cell_type": "code",
   "execution_count": 83,
   "metadata": {},
   "outputs": [],
   "source": [
    "go_private_ind = go_private_ind.reset_index()"
   ]
  },
  {
   "cell_type": "code",
   "execution_count": 84,
   "metadata": {},
   "outputs": [],
   "source": [
    "go_private_ind['year'] = go_private_ind['DATE'].dt.year"
   ]
  },
  {
   "cell_type": "code",
   "execution_count": 87,
   "metadata": {},
   "outputs": [],
   "source": [
    "go_private_ind['quarter'] = go_private_ind['DATE'].dt.quarter"
   ]
  },
  {
   "cell_type": "code",
   "execution_count": 106,
   "metadata": {},
   "outputs": [],
   "source": [
    "go_private_ind_1st_qt = go_private_ind[go_private_ind.quarter == 1]"
   ]
  },
  {
   "cell_type": "code",
   "execution_count": 107,
   "metadata": {},
   "outputs": [],
   "source": [
    "go_private_ind_1st_qt = go_private_ind_1st_qt.drop(columns=['DATE'])"
   ]
  },
  {
   "cell_type": "code",
   "execution_count": 108,
   "metadata": {},
   "outputs": [],
   "source": [
    "go_private_ind_1st_qt = go_private_ind_1st_qt.drop(columns=['quarter'])"
   ]
  },
  {
   "cell_type": "code",
   "execution_count": 110,
   "metadata": {},
   "outputs": [],
   "source": [
    "go_private_ind_1st_qt = go_private_ind_1st_qt.set_index(['year'])"
   ]
  },
  {
   "cell_type": "code",
   "execution_count": 111,
   "metadata": {},
   "outputs": [
    {
     "data": {
      "text/plain": [
       "<matplotlib.axes._subplots.AxesSubplot at 0x122b7a310>"
      ]
     },
     "execution_count": 111,
     "metadata": {},
     "output_type": "execute_result"
    },
    {
     "data": {
      "image/png": "[encoded data removed]",
      "text/plain": [
       "<Figure size 432x288 with 1 Axes>"
      ]
     },
     "metadata": {
      "needs_background": "light"
     },
     "output_type": "display_data"
    }
   ],
   "source": [
    "fig,ax = plt.subplots()\n",
    "go_private_ind_1st_qt.sum(axis=1).plot()\n"
   ]
  },
  {
   "cell_type": "markdown",
   "metadata": {},
   "source": [
    "**Notes:**\n",
    "- We want to see how GDP would change in terms of Quartine times.\n",
    "- Need to have a model to esimate cases change gaven quartine time\n",
    "- and then to research on which industries would be most affected by quatentine, adjust growth in GDP "
   ]
  },
  {
   "cell_type": "code",
   "execution_count": null,
   "metadata": {},
   "outputs": [],
   "source": []
  }
 ],
 "metadata": {
  "kernelspec": {
   "display_name": "Python 3",
   "language": "python",
   "name": "python3"
  },
  "language_info": {
   "codemirror_mode": {
    "name": "ipython",
    "version": 3
   },
   "file_extension": ".py",
   "mimetype": "text/x-python",
   "name": "python",
   "nbconvert_exporter": "python",
   "pygments_lexer": "ipython3",
   "version": "3.7.5"
  }
 },
 "nbformat": 4,
 "nbformat_minor": 2
}
