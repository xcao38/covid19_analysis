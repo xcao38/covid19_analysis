{
 "cells": [
  {
   "cell_type": "code",
   "execution_count": 3,
   "metadata": {},
   "outputs": [],
   "source": [
    "import os\n",
    "import numpy as np\n",
    "import pandas as pd\n",
    "import io\n",
    "import requests\n",
    "from fred import Fred\n",
    "from string import punctuation\n",
    "\n",
    "import matplotlib.pyplot as plt\n",
    "\n",
    "%matplotlib inline"
   ]
  },
  {
   "cell_type": "markdown",
   "metadata": {},
   "source": [
    "# Get data"
   ]
  },
  {
   "cell_type": "code",
   "execution_count": 427,
   "metadata": {},
   "outputs": [],
   "source": [
    "# fr = Fred(api_key='abcdefghijklmnopqrstuvwxyz123456',response_type='dict')"
   ]
  },
  {
   "cell_type": "markdown",
   "metadata": {},
   "source": [
    "- Can see if we can use API to get data"
   ]
  },
  {
   "cell_type": "markdown",
   "metadata": {},
   "source": [
    "**What data do we need?**\n",
    "- GDP by states by industry: https://www.bea.gov/system/files/2020-01/qgdpstate0120_2.pdf\n",
    "- Employmnet by states by industry:\n",
    "    - In order to get the data, we probably need to get the employment data by industry from each states' website.\n",
    "        - NY: https://labor.ny.gov/stats/2016-2026-Statewide-and-Regional-Long-Term-Industry-Projections.xlsx\n",
    "        - NJ: https://www.nj.gov/labor/lpa/employ/indoccpj/20162026%20Industry%20Employment%20Projections%20Reports.xlsx\n",
    "        - ...so the 2016-2026 employment projection is avaliable on each states websites\n",
    "        \n",
    "- Labor Productivity by states by industry:\n",
    "    - Private nonfarm productivity and costs by state and region: https://www.bls.gov/lpc/lpc-by-state-and-region.xlsx\n",
    "    - https://www.bls.gov/opub/mlr/2019/article/bls-publishes-experimental-state-level-labor-productivity-measures.htm\n",
    "    - industry level:"
   ]
  },
  {
   "cell_type": "markdown",
   "metadata": {},
   "source": [
    "**What is our methodology?**\n",
    "- We first want to "
   ]
  },
  {
   "cell_type": "markdown",
   "metadata": {},
   "source": [
    "### Gross Output by Industry"
   ]
  },
  {
   "cell_type": "code",
   "execution_count": 4,
   "metadata": {},
   "outputs": [],
   "source": [
    "data_dir = os.path.join(os.getcwd(), \"data/covideco_Quarterly.txt\")"
   ]
  },
  {
   "cell_type": "code",
   "execution_count": 5,
   "metadata": {},
   "outputs": [],
   "source": [
    "go_by_industry = pd.read_csv(data_dir,sep=\"\\t\")"
   ]
  },
  {
   "cell_type": "markdown",
   "metadata": {},
   "source": [
    "**Notes:**\n",
    "- Data Source: Gross Output by Industry: Gross Output by Industry, Billions of Dollars, Seasonally Adjusted at Annual Rates\n",
    "https://fred.stlouisfed.org/release/tables?rid=331&eid=1993#\n",
    "\n",
    "- In millions\n"
   ]
  },
  {
   "cell_type": "markdown",
   "metadata": {},
   "source": [
    "# Initial Analysis"
   ]
  },
  {
   "cell_type": "code",
   "execution_count": 6,
   "metadata": {},
   "outputs": [
    {
     "data": {
      "text/plain": [
       "(59, 33)"
      ]
     },
     "execution_count": 6,
     "metadata": {},
     "output_type": "execute_result"
    }
   ],
   "source": [
    "go_by_industry.shape"
   ]
  },
  {
   "cell_type": "code",
   "execution_count": 7,
   "metadata": {},
   "outputs": [
    {
     "data": {
      "text/plain": [
       "'2019-07-01'"
      ]
     },
     "execution_count": 7,
     "metadata": {},
     "output_type": "execute_result"
    }
   ],
   "source": [
    "go_by_industry.DATE.max()"
   ]
  },
  {
   "cell_type": "code",
   "execution_count": 8,
   "metadata": {},
   "outputs": [
    {
     "data": {
      "text/plain": [
       "'2005-01-01'"
      ]
     },
     "execution_count": 8,
     "metadata": {},
     "output_type": "execute_result"
    }
   ],
   "source": [
    "go_by_industry.DATE.min()"
   ]
  },
  {
   "cell_type": "code",
   "execution_count": 9,
   "metadata": {},
   "outputs": [
    {
     "data": {
      "text/plain": [
       "Index(['DATE', 'GOAER', 'GOAERAF', 'GOAF', 'GOAFH', 'GOAI', 'GOAWMS', 'GOC',\n",
       "       'GOES', 'GOESHS', 'GOF', 'GOFI', 'GOFIRL', 'GOG', 'GOGPI', 'GOHCSA',\n",
       "       'GOI', 'GOM', 'GOMA', 'GOMCE', 'GOMD', 'GOMN', 'GOOSEG', 'GOPBS',\n",
       "       'GOPI', 'GOPST', 'GOR', 'GORL', 'GOSL', 'GOSPI', 'GOT', 'GOU', 'GOW'],\n",
       "      dtype='object')"
      ]
     },
     "execution_count": 9,
     "metadata": {},
     "output_type": "execute_result"
    }
   ],
   "source": [
    "go_by_industry.columns"
   ]
  },
  {
   "cell_type": "code",
   "execution_count": 10,
   "metadata": {},
   "outputs": [
    {
     "data": {
      "text/html": [
       "<div>\n",
       "<style scoped>\n",
       "    .dataframe tbody tr th:only-of-type {\n",
       "        vertical-align: middle;\n",
       "    }\n",
       "\n",
       "    .dataframe tbody tr th {\n",
       "        vertical-align: top;\n",
       "    }\n",
       "\n",
       "    .dataframe thead th {\n",
       "        text-align: right;\n",
       "    }\n",
       "</style>\n",
       "<table border=\"1\" class=\"dataframe\">\n",
       "  <thead>\n",
       "    <tr style=\"text-align: right;\">\n",
       "      <th></th>\n",
       "      <th>DATE</th>\n",
       "      <th>GOAER</th>\n",
       "      <th>GOAERAF</th>\n",
       "      <th>GOAF</th>\n",
       "      <th>GOAFH</th>\n",
       "      <th>GOAI</th>\n",
       "      <th>GOAWMS</th>\n",
       "      <th>GOC</th>\n",
       "      <th>GOES</th>\n",
       "      <th>GOESHS</th>\n",
       "      <th>...</th>\n",
       "      <th>GOPBS</th>\n",
       "      <th>GOPI</th>\n",
       "      <th>GOPST</th>\n",
       "      <th>GOR</th>\n",
       "      <th>GORL</th>\n",
       "      <th>GOSL</th>\n",
       "      <th>GOSPI</th>\n",
       "      <th>GOT</th>\n",
       "      <th>GOU</th>\n",
       "      <th>GOW</th>\n",
       "    </tr>\n",
       "  </thead>\n",
       "  <tbody>\n",
       "    <tr>\n",
       "      <th>0</th>\n",
       "      <td>2005-01-01</td>\n",
       "      <td>195200</td>\n",
       "      <td>830300</td>\n",
       "      <td>635099</td>\n",
       "      <td>297482</td>\n",
       "      <td>22835859</td>\n",
       "      <td>559735</td>\n",
       "      <td>1238713</td>\n",
       "      <td>191383</td>\n",
       "      <td>1544232</td>\n",
       "      <td>...</td>\n",
       "      <td>2214244</td>\n",
       "      <td>20263503</td>\n",
       "      <td>1310749</td>\n",
       "      <td>1218101</td>\n",
       "      <td>2414652</td>\n",
       "      <td>1731382</td>\n",
       "      <td>13713477</td>\n",
       "      <td>724612</td>\n",
       "      <td>381224</td>\n",
       "      <td>1087905</td>\n",
       "    </tr>\n",
       "    <tr>\n",
       "      <th>1</th>\n",
       "      <td>2005-04-01</td>\n",
       "      <td>199654</td>\n",
       "      <td>850167</td>\n",
       "      <td>650513</td>\n",
       "      <td>298167</td>\n",
       "      <td>23225964</td>\n",
       "      <td>576804</td>\n",
       "      <td>1269902</td>\n",
       "      <td>193184</td>\n",
       "      <td>1564898</td>\n",
       "      <td>...</td>\n",
       "      <td>2261537</td>\n",
       "      <td>20629694</td>\n",
       "      <td>1335294</td>\n",
       "      <td>1233556</td>\n",
       "      <td>2479923</td>\n",
       "      <td>1753076</td>\n",
       "      <td>13956891</td>\n",
       "      <td>744427</td>\n",
       "      <td>393619</td>\n",
       "      <td>1091728</td>\n",
       "    </tr>\n",
       "    <tr>\n",
       "      <th>2</th>\n",
       "      <td>2005-07-01</td>\n",
       "      <td>203031</td>\n",
       "      <td>861411</td>\n",
       "      <td>658379</td>\n",
       "      <td>299068</td>\n",
       "      <td>23733860</td>\n",
       "      <td>583213</td>\n",
       "      <td>1302808</td>\n",
       "      <td>196086</td>\n",
       "      <td>1593299</td>\n",
       "      <td>...</td>\n",
       "      <td>2294539</td>\n",
       "      <td>21091301</td>\n",
       "      <td>1350535</td>\n",
       "      <td>1248641</td>\n",
       "      <td>2534816</td>\n",
       "      <td>1782789</td>\n",
       "      <td>14260921</td>\n",
       "      <td>762510</td>\n",
       "      <td>433039</td>\n",
       "      <td>1106462</td>\n",
       "    </tr>\n",
       "    <tr>\n",
       "      <th>3</th>\n",
       "      <td>2005-10-01</td>\n",
       "      <td>210163</td>\n",
       "      <td>878097</td>\n",
       "      <td>667933</td>\n",
       "      <td>299297</td>\n",
       "      <td>24256100</td>\n",
       "      <td>601280</td>\n",
       "      <td>1337151</td>\n",
       "      <td>199854</td>\n",
       "      <td>1614902</td>\n",
       "      <td>...</td>\n",
       "      <td>2354618</td>\n",
       "      <td>21574195</td>\n",
       "      <td>1388096</td>\n",
       "      <td>1258552</td>\n",
       "      <td>2562990</td>\n",
       "      <td>1814950</td>\n",
       "      <td>14490669</td>\n",
       "      <td>778906</td>\n",
       "      <td>456852</td>\n",
       "      <td>1144844</td>\n",
       "    </tr>\n",
       "    <tr>\n",
       "      <th>4</th>\n",
       "      <td>2006-01-01</td>\n",
       "      <td>216256</td>\n",
       "      <td>899096</td>\n",
       "      <td>682840</td>\n",
       "      <td>295945</td>\n",
       "      <td>24604791</td>\n",
       "      <td>615663</td>\n",
       "      <td>1371165</td>\n",
       "      <td>205626</td>\n",
       "      <td>1639224</td>\n",
       "      <td>...</td>\n",
       "      <td>2394078</td>\n",
       "      <td>21868521</td>\n",
       "      <td>1406098</td>\n",
       "      <td>1294025</td>\n",
       "      <td>2586824</td>\n",
       "      <td>1836871</td>\n",
       "      <td>14731273</td>\n",
       "      <td>804842</td>\n",
       "      <td>428646</td>\n",
       "      <td>1169017</td>\n",
       "    </tr>\n",
       "  </tbody>\n",
       "</table>\n",
       "<p>5 rows × 33 columns</p>\n",
       "</div>"
      ],
      "text/plain": [
       "         DATE   GOAER  GOAERAF    GOAF   GOAFH      GOAI  GOAWMS      GOC  \\\n",
       "0  2005-01-01  195200   830300  635099  297482  22835859  559735  1238713   \n",
       "1  2005-04-01  199654   850167  650513  298167  23225964  576804  1269902   \n",
       "2  2005-07-01  203031   861411  658379  299068  23733860  583213  1302808   \n",
       "3  2005-10-01  210163   878097  667933  299297  24256100  601280  1337151   \n",
       "4  2006-01-01  216256   899096  682840  295945  24604791  615663  1371165   \n",
       "\n",
       "     GOES   GOESHS  ...    GOPBS      GOPI    GOPST      GOR     GORL  \\\n",
       "0  191383  1544232  ...  2214244  20263503  1310749  1218101  2414652   \n",
       "1  193184  1564898  ...  2261537  20629694  1335294  1233556  2479923   \n",
       "2  196086  1593299  ...  2294539  21091301  1350535  1248641  2534816   \n",
       "3  199854  1614902  ...  2354618  21574195  1388096  1258552  2562990   \n",
       "4  205626  1639224  ...  2394078  21868521  1406098  1294025  2586824   \n",
       "\n",
       "      GOSL     GOSPI     GOT     GOU      GOW  \n",
       "0  1731382  13713477  724612  381224  1087905  \n",
       "1  1753076  13956891  744427  393619  1091728  \n",
       "2  1782789  14260921  762510  433039  1106462  \n",
       "3  1814950  14490669  778906  456852  1144844  \n",
       "4  1836871  14731273  804842  428646  1169017  \n",
       "\n",
       "[5 rows x 33 columns]"
      ]
     },
     "execution_count": 10,
     "metadata": {},
     "output_type": "execute_result"
    }
   ],
   "source": [
    "go_by_industry.head()"
   ]
  },
  {
   "cell_type": "markdown",
   "metadata": {},
   "source": [
    "**Notes:**\n",
    "\n",
    "- Private Industries: \n",
    "    - `GOAFH`: Agriculture, Forestry, Fishing, and Hunting \n",
    "    - `GOM`: Mining\n",
    "    - `GOU`: Utilities\n",
    "    - `GOC`: Construction\n",
    "    - Manufacturing:\n",
    "        - `GOMD`: Durable Goods\n",
    "        - `GOMN`: Nondurable Goods\n",
    "    - `GOW`: Wholesale Trade\n",
    "    - `GOR`: Retail Trade\n",
    "    - `GOT`: Transportation and Warehousing\n",
    "    - `GOI`: Information\n",
    "    - `GOFIRL`: Finance, Insurance, Real Estate, Rental, and Leasing\n",
    "        - `GOFI`: Finance and Insurance\n",
    "        - `GORL`: Real Estate and Rental and Leasing\n",
    "    - `GOPBS`: Professional and Business Services\n",
    "        - `GOPST`: Professional, Scientific, and Technical Services\n",
    "        - `GOMCE`: Management of Companies and Enterprises\n",
    "        - `GOAWMS`: Administrative and Waste Management Services\n",
    "    - `GOESHS`: Educational Services, Health Care,and Social Assistance\n",
    "        - `GOES`: Educational Services\n",
    "        - `GOHCSA`: Health Care and Social Assistance\n",
    "    - `GOAERAF`: Arts, Entertainment, Recreation, Accommodation, and Food Services \n",
    "        - `GOAER`: Arts, Entertainment, and Recreation\n",
    "        - `GOAF`: Accommodation and Food Services\n",
    "    - `GOOSEG`: Other Services, Except Government\n",
    "- `GOG`: Government\n",
    "    - `GOF`: Federal\n",
    "    - `GOSL`: State and Local\n",
    "- Addenda:\n",
    "    - `GOSPI`: Gross Output of Private Services-Producing Industries\n",
    "\n",
    "\n",
    "\n",
    "\n",
    "- `GOAI`: Gross Output of All Industries\n",
    "\n",
    "\n",
    "**Categories**\n",
    "- private industry: `GOAFH`, `GOM`, `GOU`, `GOC`, `GOMD`, `GOMN`, `GOW`, `GOR`, `GOT`, `GOI`, `GOFI`, `GORL`, `GOPST`, `GOMCE`, `GOAWMS`, `GOES`, `GOHCSA`, `GOAER`, `GOAF`, `GOOSEG`\n",
    "\n",
    "- govt : `GOF`, `GOSL`"
   ]
  },
  {
   "cell_type": "code",
   "execution_count": 435,
   "metadata": {},
   "outputs": [],
   "source": [
    "private_ind = ['GOAFH', 'GOM', 'GOU', \n",
    "               'GOC', 'GOMD', 'GOMN',\n",
    "               'GOW', 'GOR', 'GOT',\n",
    "               'GOI', 'GOFI', 'GORL',\n",
    "               'GOPST', 'GOMCE', 'GOAWMS', \n",
    "               'GOES', 'GOHCSA', 'GOAER',\n",
    "               'GOAF', 'GOOSEG']"
   ]
  },
  {
   "cell_type": "code",
   "execution_count": 436,
   "metadata": {},
   "outputs": [],
   "source": [
    "govt = ['GOF','GOSL']"
   ]
  },
  {
   "cell_type": "code",
   "execution_count": 437,
   "metadata": {},
   "outputs": [],
   "source": [
    "go_by_industry['DATE'] = pd.to_datetime(go_by_industry['DATE'])"
   ]
  },
  {
   "cell_type": "code",
   "execution_count": 438,
   "metadata": {},
   "outputs": [],
   "source": [
    "go_by_industry['quarter'] = go_by_industry['DATE'].dt.quarter"
   ]
  },
  {
   "cell_type": "code",
   "execution_count": 439,
   "metadata": {},
   "outputs": [],
   "source": [
    "go_by_industry['year'] = go_by_industry['DATE'].dt.year"
   ]
  },
  {
   "cell_type": "markdown",
   "metadata": {},
   "source": [
    "#### Gross Outputs of All Industry Includes: private industry and govt"
   ]
  },
  {
   "cell_type": "code",
   "execution_count": 440,
   "metadata": {},
   "outputs": [],
   "source": [
    "test = go_by_industry[(go_by_industry.year == 2019)&(go_by_industry.quarter == 1)]"
   ]
  },
  {
   "cell_type": "code",
   "execution_count": 441,
   "metadata": {},
   "outputs": [
    {
     "data": {
      "text/plain": [
       "56    37324034\n",
       "dtype: int64"
      ]
     },
     "execution_count": 441,
     "metadata": {},
     "output_type": "execute_result"
    }
   ],
   "source": [
    "test[private_ind+govt].sum(axis=1)"
   ]
  },
  {
   "cell_type": "code",
   "execution_count": 442,
   "metadata": {},
   "outputs": [
    {
     "data": {
      "text/plain": [
       "56    24305535\n",
       "Name: GOSPI, dtype: int64"
      ]
     },
     "execution_count": 442,
     "metadata": {},
     "output_type": "execute_result"
    }
   ],
   "source": [
    "test['GOSPI']"
   ]
  },
  {
   "cell_type": "code",
   "execution_count": 443,
   "metadata": {},
   "outputs": [
    {
     "data": {
      "text/plain": [
       "56    37324032\n",
       "Name: GOAI, dtype: int64"
      ]
     },
     "execution_count": 443,
     "metadata": {},
     "output_type": "execute_result"
    }
   ],
   "source": [
    "test['GOAI']"
   ]
  },
  {
   "cell_type": "code",
   "execution_count": 444,
   "metadata": {},
   "outputs": [
    {
     "data": {
      "text/plain": [
       "DATE       datetime64[ns]\n",
       "GOAER               int64\n",
       "GOAERAF             int64\n",
       "GOAF                int64\n",
       "GOAFH               int64\n",
       "dtype: object"
      ]
     },
     "execution_count": 444,
     "metadata": {},
     "output_type": "execute_result"
    }
   ],
   "source": [
    "go_by_industry.dtypes[:5]"
   ]
  },
  {
   "cell_type": "code",
   "execution_count": 445,
   "metadata": {},
   "outputs": [],
   "source": [
    "go_by_industry['DATE'] = pd.to_datetime(go_by_industry['DATE'])"
   ]
  },
  {
   "cell_type": "code",
   "execution_count": 446,
   "metadata": {},
   "outputs": [],
   "source": [
    "go_by_industry = go_by_industry.set_index('DATE')"
   ]
  },
  {
   "cell_type": "code",
   "execution_count": 447,
   "metadata": {},
   "outputs": [],
   "source": [
    "test_cols = ['GOHCSA','GOAERAF','GOT','GOR','GOAFH','GOFI']"
   ]
  },
  {
   "cell_type": "code",
   "execution_count": 448,
   "metadata": {},
   "outputs": [
    {
     "data": {
      "text/plain": [
       "<matplotlib.axes._subplots.AxesSubplot at 0x122686e50>"
      ]
     },
     "execution_count": 448,
     "metadata": {},
     "output_type": "execute_result"
    },
    {
     "data": {
      "image/png": "[encoded data removed]",
      "text/plain": [
       "<Figure size 432x288 with 1 Axes>"
      ]
     },
     "metadata": {
      "needs_background": "light"
     },
     "output_type": "display_data"
    }
   ],
   "source": [
    "go_by_industry[test_cols].plot()"
   ]
  },
  {
   "cell_type": "markdown",
   "metadata": {},
   "source": [
    "## Private Industry"
   ]
  },
  {
   "cell_type": "code",
   "execution_count": 449,
   "metadata": {},
   "outputs": [],
   "source": [
    "go_private_ind = go_by_industry[private_ind+['year','quarter']]"
   ]
  },
  {
   "cell_type": "code",
   "execution_count": 450,
   "metadata": {},
   "outputs": [],
   "source": [
    "go_private_ind = go_private_ind.reset_index()"
   ]
  },
  {
   "cell_type": "code",
   "execution_count": 451,
   "metadata": {},
   "outputs": [],
   "source": [
    "go_private_ind_1st_qt = go_private_ind[go_private_ind.quarter == 1]"
   ]
  },
  {
   "cell_type": "code",
   "execution_count": 452,
   "metadata": {},
   "outputs": [],
   "source": [
    "go_private_ind_1st_qt = go_private_ind_1st_qt.drop(columns=['DATE'])"
   ]
  },
  {
   "cell_type": "code",
   "execution_count": 453,
   "metadata": {},
   "outputs": [],
   "source": [
    "go_private_ind_1st_qt = go_private_ind_1st_qt.drop(columns=['quarter'])"
   ]
  },
  {
   "cell_type": "code",
   "execution_count": 454,
   "metadata": {},
   "outputs": [],
   "source": [
    "go_private_ind_1st_qt = go_private_ind_1st_qt.set_index(['year'])"
   ]
  },
  {
   "cell_type": "code",
   "execution_count": 455,
   "metadata": {},
   "outputs": [
    {
     "data": {
      "text/plain": [
       "<matplotlib.axes._subplots.AxesSubplot at 0x11deac090>"
      ]
     },
     "execution_count": 455,
     "metadata": {},
     "output_type": "execute_result"
    },
    {
     "data": {
      "image/png": "[encoded data removed]",
      "text/plain": [
       "<Figure size 432x288 with 1 Axes>"
      ]
     },
     "metadata": {
      "needs_background": "light"
     },
     "output_type": "display_data"
    }
   ],
   "source": [
    "fig,ax = plt.subplots()\n",
    "go_private_ind_1st_qt.sum(axis=1).plot()\n"
   ]
  },
  {
   "cell_type": "markdown",
   "metadata": {},
   "source": [
    "## All industries "
   ]
  },
  {
   "cell_type": "code",
   "execution_count": 456,
   "metadata": {},
   "outputs": [],
   "source": [
    "def get_all_industry_go_qt(df,year,quarter):\n",
    "    go_all_industries = df[govt+private_ind+['year', 'quarter']]\n",
    "    all_indus_yr_qt = go_all_industries[\n",
    "                        (go_all_industries.year == year) & (go_all_industries.quarter == quarter)\n",
    "                                     ].reset_index().drop(columns='DATE')\n",
    "    all_indus_yr_qt = all_indus_yr_qt.drop(columns=['year','quarter']).T\n",
    "    return all_indus_yr_qt"
   ]
  },
  {
   "cell_type": "code",
   "execution_count": 457,
   "metadata": {},
   "outputs": [],
   "source": [
    "all_indus_2019_q1 = get_all_industry_go_qt(go_by_industry, 2019, 1)"
   ]
  },
  {
   "cell_type": "code",
   "execution_count": 458,
   "metadata": {},
   "outputs": [],
   "source": [
    "all_indus_2019_q2 = get_all_industry_go_qt(go_by_industry, 2019, 2)"
   ]
  },
  {
   "cell_type": "markdown",
   "metadata": {},
   "source": [
    "**Notes:**\n",
    "- We want to see how GDP would change in terms of Quartine times.\n",
    "- Need to have a model to esimate cases change gaven quartine time (https://www.nytimes.com/interactive/2020/03/25/opinion/coronavirus-trump-reopen-america.html?referringSource=articleShare#methodology)\n",
    "- and then to research on which industries would be most affected by quatentine, adjust growth in GDP (https://www.marketwatch.com/story/these-industries-are-more-likely-to-shed-jobs-if-the-coronavirus-pandemic-worsens-but-one-sector-looks-recession-proof-2020-03-11)\n",
    "    - Arts, Enterainment, Recreation\n",
    "    "
   ]
  },
  {
   "cell_type": "markdown",
   "metadata": {},
   "source": [
    "# Q1. Estimates of deterioration to GDP due to quarantining "
   ]
  },
  {
   "cell_type": "markdown",
   "metadata": {},
   "source": [
    "**Formula**  \n",
    "\n",
    "- unquarantine_change_rate = SUM(proportion_of_state_sick * proportion_of_inds_in_state), for each states\n",
    "    - **Note:** proportion of ppl get sick who are in labor force (current unemployment rate, by age)\n",
    "\n",
    "- Depending on how much data we have, we could put _shock_ in the formula (financial crsis, hospital bed overflow) \n",
    "    \n",
    "- quarantine_change_rate (come back to this)\n",
    "    - we should not assume quarantine rate for all the states, might need diff quarantine states\n",
    "    - Jenn: current quarantine measures for each states\n",
    "    - WFH possibility will diff from industry\n",
    "    - layoffs\n",
    "\n",
    "- Health care cost "
   ]
  },
  {
   "cell_type": "code",
   "execution_count": 481,
   "metadata": {},
   "outputs": [],
   "source": [
    "def gdp_due_to_quarantine(df, durations, **sectors_pct_change):\n",
    "    '''\n",
    "    Parameters:\n",
    "    - duration, in weeks, 14 weeks in a quarter\n",
    "    - sectors_pct_change, quarterly\n",
    "    \n",
    "\n",
    "    '''\n",
    "#     print(sectors_pct_change)\n",
    "    \n",
    "    df_cal = df.copy()\n",
    "    for k,v in sectors_pct_change.items():\n",
    "        \n",
    "        quarterly_chg_rate = (v*durations)/14\n",
    "        \n",
    "        df_cal[k] = df_cal[k]*(1+quarterly_chg_rate)\n",
    "        \n",
    "    return df_cal.sum(axis = 1).values[0]"
   ]
  },
  {
   "cell_type": "markdown",
   "metadata": {},
   "source": [
    "### two weeks strict quarantine\n",
    "- Which industry hit the most? how much will the gross output go down?\n"
   ]
  },
  {
   "cell_type": "markdown",
   "metadata": {},
   "source": [
    "#### What does 2019 Q2 outputs looks like?"
   ]
  },
  {
   "cell_type": "code",
   "execution_count": 349,
   "metadata": {},
   "outputs": [
    {
     "data": {
      "text/html": [
       "<div>\n",
       "<style scoped>\n",
       "    .dataframe tbody tr th:only-of-type {\n",
       "        vertical-align: middle;\n",
       "    }\n",
       "\n",
       "    .dataframe tbody tr th {\n",
       "        vertical-align: top;\n",
       "    }\n",
       "\n",
       "    .dataframe thead th {\n",
       "        text-align: right;\n",
       "    }\n",
       "</style>\n",
       "<table border=\"1\" class=\"dataframe\">\n",
       "  <thead>\n",
       "    <tr style=\"text-align: right;\">\n",
       "      <th></th>\n",
       "      <th>0</th>\n",
       "    </tr>\n",
       "  </thead>\n",
       "  <tbody>\n",
       "    <tr>\n",
       "      <th>GOF</th>\n",
       "      <td>0.033303</td>\n",
       "    </tr>\n",
       "    <tr>\n",
       "      <th>GOSL</th>\n",
       "      <td>0.075483</td>\n",
       "    </tr>\n",
       "    <tr>\n",
       "      <th>GOAFH</th>\n",
       "      <td>0.011855</td>\n",
       "    </tr>\n",
       "    <tr>\n",
       "      <th>GOM</th>\n",
       "      <td>0.015723</td>\n",
       "    </tr>\n",
       "    <tr>\n",
       "      <th>GOU</th>\n",
       "      <td>0.013086</td>\n",
       "    </tr>\n",
       "    <tr>\n",
       "      <th>GOC</th>\n",
       "      <td>0.043841</td>\n",
       "    </tr>\n",
       "    <tr>\n",
       "      <th>GOMD</th>\n",
       "      <td>0.086063</td>\n",
       "    </tr>\n",
       "    <tr>\n",
       "      <th>GOMN</th>\n",
       "      <td>0.080639</td>\n",
       "    </tr>\n",
       "    <tr>\n",
       "      <th>GOW</th>\n",
       "      <td>0.055649</td>\n",
       "    </tr>\n",
       "    <tr>\n",
       "      <th>GOR</th>\n",
       "      <td>0.050965</td>\n",
       "    </tr>\n",
       "    <tr>\n",
       "      <th>GOT</th>\n",
       "      <td>0.034133</td>\n",
       "    </tr>\n",
       "    <tr>\n",
       "      <th>GOI</th>\n",
       "      <td>0.051261</td>\n",
       "    </tr>\n",
       "    <tr>\n",
       "      <th>GOFI</th>\n",
       "      <td>0.083415</td>\n",
       "    </tr>\n",
       "    <tr>\n",
       "      <th>GORL</th>\n",
       "      <td>0.109354</td>\n",
       "    </tr>\n",
       "    <tr>\n",
       "      <th>GOPST</th>\n",
       "      <td>0.065545</td>\n",
       "    </tr>\n",
       "    <tr>\n",
       "      <th>GOMCE</th>\n",
       "      <td>0.017818</td>\n",
       "    </tr>\n",
       "    <tr>\n",
       "      <th>GOAWMS</th>\n",
       "      <td>0.030015</td>\n",
       "    </tr>\n",
       "    <tr>\n",
       "      <th>GOES</th>\n",
       "      <td>0.010050</td>\n",
       "    </tr>\n",
       "    <tr>\n",
       "      <th>GOHCSA</th>\n",
       "      <td>0.069991</td>\n",
       "    </tr>\n",
       "    <tr>\n",
       "      <th>GOAER</th>\n",
       "      <td>0.010121</td>\n",
       "    </tr>\n",
       "    <tr>\n",
       "      <th>GOAF</th>\n",
       "      <td>0.031470</td>\n",
       "    </tr>\n",
       "    <tr>\n",
       "      <th>GOOSEG</th>\n",
       "      <td>0.020219</td>\n",
       "    </tr>\n",
       "  </tbody>\n",
       "</table>\n",
       "</div>"
      ],
      "text/plain": [
       "               0\n",
       "GOF     0.033303\n",
       "GOSL    0.075483\n",
       "GOAFH   0.011855\n",
       "GOM     0.015723\n",
       "GOU     0.013086\n",
       "GOC     0.043841\n",
       "GOMD    0.086063\n",
       "GOMN    0.080639\n",
       "GOW     0.055649\n",
       "GOR     0.050965\n",
       "GOT     0.034133\n",
       "GOI     0.051261\n",
       "GOFI    0.083415\n",
       "GORL    0.109354\n",
       "GOPST   0.065545\n",
       "GOMCE   0.017818\n",
       "GOAWMS  0.030015\n",
       "GOES    0.010050\n",
       "GOHCSA  0.069991\n",
       "GOAER   0.010121\n",
       "GOAF    0.031470\n",
       "GOOSEG  0.020219"
      ]
     },
     "execution_count": 349,
     "metadata": {},
     "output_type": "execute_result"
    }
   ],
   "source": [
    "all_indus_2019_q2/all_indus_2019_q2.sum()"
   ]
  },
  {
   "cell_type": "code",
   "execution_count": 367,
   "metadata": {},
   "outputs": [],
   "source": [
    "all_indus_2019_q2 = all_indus_2019_q2.sort_values(by = 0) "
   ]
  },
  {
   "cell_type": "code",
   "execution_count": 391,
   "metadata": {},
   "outputs": [
    {
     "data": {
      "image/png": "[encoded data removed]",
      "text/plain": [
       "<Figure size 936x648 with 1 Axes>"
      ]
     },
     "metadata": {
      "needs_background": "light"
     },
     "output_type": "display_data"
    }
   ],
   "source": [
    "fig, ax = plt.subplots(figsize = (13,9))\n",
    "ax.bar(x = all_indus_2019_q2.index, \n",
    "       height = all_indus_2019_q2[0])\n",
    "t =plt.xticks(rotation =30)\n",
    "tl = ax.set_title(\"Gross Outputs of All Industry, 2019, 2nd Quarter\")"
   ]
  },
  {
   "cell_type": "code",
   "execution_count": 395,
   "metadata": {},
   "outputs": [
    {
     "data": {
      "image/png": "[encoded data removed]",
      "text/plain": [
       "<Figure size 936x648 with 1 Axes>"
      ]
     },
     "metadata": {
      "needs_background": "light"
     },
     "output_type": "display_data"
    }
   ],
   "source": [
    "go_by_industry['GOAI'].pct_change().plot(figsize = (13,9))\n",
    "tl = plt.title(\"Gross Outputs of All Industry \")"
   ]
  },
  {
   "cell_type": "markdown",
   "metadata": {},
   "source": [
    "### Calculate quarantine GDP (given assumptions)"
   ]
  },
  {
   "cell_type": "markdown",
   "metadata": {},
   "source": [
    "https://www.statista.com/topics/6139/covid-19-impact-on-the-global-economy/\n",
    "\n",
    "**Industries Might be hit**\n",
    "- `GOAF` : Accommodation and food services - down 60%\n",
    "- `GOMD`: Manufacturing Durable goods - Durable goods are those goods that don’t wear out quickly and last over a long period. Examples of durable goods include land, cars, and appliances.\n",
    "\n",
    "- `GOMN`: Manufacturing Nondurable goods - Non-durable goods or soft goods are those goods that have a short life cycle. They are used up all at once or have a lifespan of fewer than three years. For example light bulbs, paper products, and food products.\n",
    "- `GOR`: Retail Trade\n",
    "- `GOT`: Transportation and Warehousing: air transportation https://www.statista.com/statistics/1104036/novel-coronavirus-weekly-flights-change-airlines-region/\n",
    "- `GOU`: Utilities: shale oil\n",
    "\n",
    "https://www.marketwatch.com/story/these-industries-are-more-likely-to-shed-jobs-if-the-coronavirus-pandemic-worsens-but-one-sector-looks-recession-proof-2020-03-11\n"
   ]
  },
  {
   "cell_type": "code",
   "execution_count": 409,
   "metadata": {
    "scrolled": true
   },
   "outputs": [
    {
     "data": {
      "text/plain": [
       "['GOAFH',\n",
       " 'GOM',\n",
       " 'GOU',\n",
       " 'GOC',\n",
       " 'GOMD',\n",
       " 'GOMN',\n",
       " 'GOW',\n",
       " 'GOR',\n",
       " 'GOT',\n",
       " 'GOI',\n",
       " 'GOFI',\n",
       " 'GORL',\n",
       " 'GOPST',\n",
       " 'GOMCE',\n",
       " 'GOAWMS',\n",
       " 'GOES',\n",
       " 'GOHCSA',\n",
       " 'GOAER',\n",
       " 'GOAF',\n",
       " 'GOOSEG']"
      ]
     },
     "execution_count": 409,
     "metadata": {},
     "output_type": "execute_result"
    }
   ],
   "source": [
    "private_ind"
   ]
  },
  {
   "cell_type": "code",
   "execution_count": 504,
   "metadata": {},
   "outputs": [
    {
     "data": {
      "text/plain": [
       "array([-1. , -0.9, -0.8, -0.7, -0.6, -0.5, -0.4, -0.3, -0.2, -0.1,  0. ])"
      ]
     },
     "execution_count": 504,
     "metadata": {},
     "output_type": "execute_result"
    }
   ],
   "source": [
    "np.linspace(-1,0,11)"
   ]
  },
  {
   "cell_type": "code",
   "execution_count": 510,
   "metadata": {},
   "outputs": [],
   "source": [
    "gdp_ind = []\n",
    "for j in np.linspace(-1,0,11):\n",
    "    private_ind_neg_pct = {'GOAF': j,'GOMD': -0.2 ,'GOMN': -0.4,'GOMN': 0,'GOR': -0.5,'GOT': -0.4}\n",
    "    gdp =[]\n",
    "    for i in range(2,9):\n",
    "        gdp_sub = gdp_due_to_quarantine(df=all_indus_2019_q2.T, durations= i, **private_ind_neg_pct)\n",
    "        gdp.append([i,j,gdp_sub])\n",
    "        test_gdp_df = pd.DataFrame(gdp, columns= ['weeks','pct_chg','gdp'])\n",
    "    gdp_ind.append(test_gdp_df)"
   ]
  },
  {
   "cell_type": "code",
   "execution_count": 511,
   "metadata": {},
   "outputs": [
    {
     "data": {
      "text/html": [
       "<div>\n",
       "<style scoped>\n",
       "    .dataframe tbody tr th:only-of-type {\n",
       "        vertical-align: middle;\n",
       "    }\n",
       "\n",
       "    .dataframe tbody tr th {\n",
       "        vertical-align: top;\n",
       "    }\n",
       "\n",
       "    .dataframe thead th {\n",
       "        text-align: right;\n",
       "    }\n",
       "</style>\n",
       "<table border=\"1\" class=\"dataframe\">\n",
       "  <thead>\n",
       "    <tr style=\"text-align: right;\">\n",
       "      <th></th>\n",
       "      <th>weeks</th>\n",
       "      <th>pct_chg</th>\n",
       "      <th>gdp</th>\n",
       "    </tr>\n",
       "  </thead>\n",
       "  <tbody>\n",
       "    <tr>\n",
       "      <th>0</th>\n",
       "      <td>2</td>\n",
       "      <td>-1.0</td>\n",
       "      <td>3.722765e+07</td>\n",
       "    </tr>\n",
       "    <tr>\n",
       "      <th>1</th>\n",
       "      <td>3</td>\n",
       "      <td>-1.0</td>\n",
       "      <td>3.699116e+07</td>\n",
       "    </tr>\n",
       "    <tr>\n",
       "      <th>2</th>\n",
       "      <td>4</td>\n",
       "      <td>-1.0</td>\n",
       "      <td>3.675467e+07</td>\n",
       "    </tr>\n",
       "    <tr>\n",
       "      <th>3</th>\n",
       "      <td>5</td>\n",
       "      <td>-1.0</td>\n",
       "      <td>3.651819e+07</td>\n",
       "    </tr>\n",
       "    <tr>\n",
       "      <th>4</th>\n",
       "      <td>6</td>\n",
       "      <td>-1.0</td>\n",
       "      <td>3.628170e+07</td>\n",
       "    </tr>\n",
       "    <tr>\n",
       "      <th>...</th>\n",
       "      <td>...</td>\n",
       "      <td>...</td>\n",
       "      <td>...</td>\n",
       "    </tr>\n",
       "    <tr>\n",
       "      <th>2</th>\n",
       "      <td>4</td>\n",
       "      <td>0.0</td>\n",
       "      <td>3.709366e+07</td>\n",
       "    </tr>\n",
       "    <tr>\n",
       "      <th>3</th>\n",
       "      <td>5</td>\n",
       "      <td>0.0</td>\n",
       "      <td>3.694192e+07</td>\n",
       "    </tr>\n",
       "    <tr>\n",
       "      <th>4</th>\n",
       "      <td>6</td>\n",
       "      <td>0.0</td>\n",
       "      <td>3.679018e+07</td>\n",
       "    </tr>\n",
       "    <tr>\n",
       "      <th>5</th>\n",
       "      <td>7</td>\n",
       "      <td>0.0</td>\n",
       "      <td>3.663844e+07</td>\n",
       "    </tr>\n",
       "    <tr>\n",
       "      <th>6</th>\n",
       "      <td>8</td>\n",
       "      <td>0.0</td>\n",
       "      <td>3.648670e+07</td>\n",
       "    </tr>\n",
       "  </tbody>\n",
       "</table>\n",
       "<p>77 rows × 3 columns</p>\n",
       "</div>"
      ],
      "text/plain": [
       "    weeks  pct_chg           gdp\n",
       "0       2     -1.0  3.722765e+07\n",
       "1       3     -1.0  3.699116e+07\n",
       "2       4     -1.0  3.675467e+07\n",
       "3       5     -1.0  3.651819e+07\n",
       "4       6     -1.0  3.628170e+07\n",
       "..    ...      ...           ...\n",
       "2       4      0.0  3.709366e+07\n",
       "3       5      0.0  3.694192e+07\n",
       "4       6      0.0  3.679018e+07\n",
       "5       7      0.0  3.663844e+07\n",
       "6       8      0.0  3.648670e+07\n",
       "\n",
       "[77 rows x 3 columns]"
      ]
     },
     "execution_count": 511,
     "metadata": {},
     "output_type": "execute_result"
    }
   ],
   "source": [
    "pd.concat(gdp_ind)"
   ]
  },
  {
   "cell_type": "code",
   "execution_count": null,
   "metadata": {},
   "outputs": [],
   "source": []
  },
  {
   "cell_type": "code",
   "execution_count": 498,
   "metadata": {},
   "outputs": [],
   "source": [
    "test_gdp_df = pd.DataFrame.from_dict(gdp,orient= 'index', columns= ['gdp'])"
   ]
  },
  {
   "cell_type": "code",
   "execution_count": 499,
   "metadata": {},
   "outputs": [
    {
     "data": {
      "text/plain": [
       "<matplotlib.axes._subplots.AxesSubplot at 0x11e38b4d0>"
      ]
     },
     "execution_count": 499,
     "metadata": {},
     "output_type": "execute_result"
    },
    {
     "data": {
      "image/png": "[encoded data removed]",
      "text/plain": [
       "<Figure size 432x288 with 1 Axes>"
      ]
     },
     "metadata": {
      "needs_background": "light"
     },
     "output_type": "display_data"
    }
   ],
   "source": [
    "test_gdp_df.plot()"
   ]
  },
  {
   "cell_type": "code",
   "execution_count": null,
   "metadata": {},
   "outputs": [],
   "source": []
  },
  {
   "cell_type": "code",
   "execution_count": 482,
   "metadata": {},
   "outputs": [],
   "source": [
    "gdp_2wk = gdp_due_to_quarantine(df=all_indus_2019_q2.T, durations=2, **private_ind_neg_pct)"
   ]
  },
  {
   "cell_type": "code",
   "execution_count": 483,
   "metadata": {},
   "outputs": [
    {
     "data": {
      "text/plain": [
       "37295444.94285714"
      ]
     },
     "execution_count": 483,
     "metadata": {},
     "output_type": "execute_result"
    }
   ],
   "source": [
    "gdp_2wk"
   ]
  },
  {
   "cell_type": "code",
   "execution_count": 484,
   "metadata": {},
   "outputs": [
    {
     "data": {
      "text/plain": [
       "0   -0.010747\n",
       "dtype: float64"
      ]
     },
     "execution_count": 484,
     "metadata": {},
     "output_type": "execute_result"
    }
   ],
   "source": [
    "(gdp_2wk - all_indus_2019_q2.sum(axis = 0))/all_indus_2019_q2.sum(axis = 0)"
   ]
  },
  {
   "cell_type": "code",
   "execution_count": null,
   "metadata": {},
   "outputs": [],
   "source": []
  },
  {
   "cell_type": "markdown",
   "metadata": {},
   "source": [
    "# Q2: estimates of deterioration to GDP due to  illness in workforce "
   ]
  },
  {
   "cell_type": "markdown",
   "metadata": {},
   "source": [
    "**Data:**\n",
    "- Employment by major industry sector: https://www.bls.gov/emp/tables/employment-by-major-industry-sector.htm\n",
    "\n",
    "**Methdology**\n",
    "- https://www.commonwealthfund.org/press-release/2005/lost-labor-time-costs-us-260-billion-each-year\n",
    "- https://www.oecd-ilibrary.org/docserver/health_glance_eur-2016-4-en.pdf?expires=1585332775&id=id&accname=guest&checksum=CAC0703A9D5571BA1C8276C6045FBA20\n",
    "\n",
    "- Okun's Law: Economic Growth And Unemployment: https://www.investopedia.com/articles/economics/12/okuns-law.asp\n",
    "- The law has indeed evolved over time to fit the current economic climate and employment trends. One version of Okun's law has stated very simply that when unemployment falls by 1%, GNP rises by 3%. Another version of Okun's law focuses on a relationship between unemployment and GDP, whereby a percentage increase in unemployment causes a 2% fall in GDP."
   ]
  },
  {
   "cell_type": "markdown",
   "metadata": {},
   "source": [
    "- Looking at BLS data, and join to industries, and to see how many worker is illed\n",
    "- 2,4 weeks, and labor shocks \n",
    "- longer period of time, \n",
    "\n",
    "- number of ppl in industry and where they live, to see transmission, and also to see healthcare cost on that\n",
    "\n",
    "**E.g. for a 2 weeks shut down, we want to first use the epidemiology model to measure how many people will be transmitted after two weeks, and then estimate what is the labor loss because of illness. Then to relate the labor loss to gross output changes in industry**\n",
    "\n"
   ]
  },
  {
   "cell_type": "code",
   "execution_count": 36,
   "metadata": {},
   "outputs": [],
   "source": [
    "job_data = pd.read_excel(os.path.join(os.getcwd(),\"data/industry.xlsx\"), sheet_name= 1)"
   ]
  },
  {
   "cell_type": "markdown",
   "metadata": {},
   "source": [
    "## Prepare data\n",
    "- In thousands\n"
   ]
  },
  {
   "cell_type": "code",
   "execution_count": 223,
   "metadata": {},
   "outputs": [],
   "source": [
    "job_data_sub = job_data.iloc[:,[0,1,2,3]]"
   ]
  },
  {
   "cell_type": "code",
   "execution_count": 224,
   "metadata": {},
   "outputs": [],
   "source": [
    "job_data_sub.columns = job_data_sub.loc[1]"
   ]
  },
  {
   "cell_type": "code",
   "execution_count": 225,
   "metadata": {},
   "outputs": [],
   "source": [
    "job_data_sub = job_data_sub.loc[2:30]"
   ]
  },
  {
   "cell_type": "code",
   "execution_count": 226,
   "metadata": {},
   "outputs": [
    {
     "data": {
      "text/plain": [
       "array([ 2,  3,  4,  5,  6,  7,  8,  9, 10, 11, 12, 13, 14, 15, 16, 17, 18,\n",
       "       19, 20, 21, 22, 23, 24, 25, 26, 27, 28, 29, 30])"
      ]
     },
     "execution_count": 226,
     "metadata": {},
     "output_type": "execute_result"
    }
   ],
   "source": [
    "job_data_sub.index.values"
   ]
  },
  {
   "cell_type": "code",
   "execution_count": 227,
   "metadata": {},
   "outputs": [],
   "source": [
    "job_data_sub = job_data_sub.drop(job_data_sub.index[[1,3,8,23,27]])"
   ]
  },
  {
   "cell_type": "code",
   "execution_count": 228,
   "metadata": {},
   "outputs": [
    {
     "data": {
      "text/plain": [
       "Float64Index([nan, 2008.0, 2018.0, 2028.0], dtype='float64', name=1)"
      ]
     },
     "execution_count": 228,
     "metadata": {},
     "output_type": "execute_result"
    }
   ],
   "source": [
    "job_data_sub.columns"
   ]
  },
  {
   "cell_type": "code",
   "execution_count": 229,
   "metadata": {},
   "outputs": [],
   "source": [
    "job_data_sub = job_data_sub.set_index(np.nan)"
   ]
  },
  {
   "cell_type": "code",
   "execution_count": 230,
   "metadata": {},
   "outputs": [],
   "source": [
    "job_data_sub.index.name = \"industry\""
   ]
  },
  {
   "cell_type": "code",
   "execution_count": 231,
   "metadata": {},
   "outputs": [],
   "source": [
    "job_data_sub.columns.name = \"\""
   ]
  },
  {
   "cell_type": "code",
   "execution_count": 232,
   "metadata": {},
   "outputs": [],
   "source": [
    "job_data_sub.index = job_data_sub.index.str.strip(\n",
    "                                      ).str.lower(\n",
    "                                      ).str.replace(r\"\\(.*\\)\",\"\").str.replace(\" \",\"_\"\n",
    "                                                                ).str.replace(\",\",\"\").str.replace(\"-\",\"\")"
   ]
  },
  {
   "cell_type": "code",
   "execution_count": 233,
   "metadata": {},
   "outputs": [],
   "source": [
    "job_data_sub.columns = job_data_sub.columns.astype(int)"
   ]
  },
  {
   "cell_type": "code",
   "execution_count": 234,
   "metadata": {},
   "outputs": [],
   "source": [
    "job_data_sub[2019] = job_data_sub[2018] + (job_data_sub[2028]-job_data_sub[2018])/10"
   ]
  },
  {
   "cell_type": "code",
   "execution_count": 237,
   "metadata": {},
   "outputs": [
    {
     "data": {
      "text/plain": [
       "industry\n",
       "total                                              161878\n",
       "nonagriculture_wage_and_salary                     150590\n",
       "goodsproducing_excluding_agriculture              20682.4\n",
       "mining                                             687.76\n",
       "construction                                      7370.05\n",
       "manufacturing                                     12624.6\n",
       "servicesproviding_excluding_special_industries     129907\n",
       "utilities                                          552.86\n",
       "wholesale_trade                                   5842.65\n",
       "retail_trade                                      15817.7\n",
       "transportation_and_warehousing                    5451.33\n",
       "information                                       2828.66\n",
       "financial_activities                              8596.86\n",
       "professional_and_business_services                21165.7\n",
       "educational_services                              3774.85\n",
       "health_care_and_social_assistance                 20278.9\n",
       "leisure_and_hospitality                           16504.1\n",
       "other_services                                    6631.83\n",
       "federal_government                                2783.42\n",
       "state_and_local_government                        19678.1\n",
       "agriculture_forestry_fishing_and_hunting          2311.06\n",
       "agriculture_wage_and_salary                        1551.2\n",
       "agriculture_selfemployed                           759.86\n",
       "nonagriculture_selfemployed                       8976.94\n",
       "Name: 2019, dtype: object"
      ]
     },
     "execution_count": 237,
     "metadata": {},
     "output_type": "execute_result"
    }
   ],
   "source": [
    "job_data_sub[2019]"
   ]
  },
  {
   "cell_type": "code",
   "execution_count": 248,
   "metadata": {},
   "outputs": [],
   "source": [
    "def labor_after_illness(df, **pct_of_illness_by_indistry):\n",
    "    df_cal = df.copy()\n",
    "#     print(pct_of_illness_by_indistry)\n",
    "    for k,v in pct_of_illness_by_indistry.items():\n",
    "        df_cal[k] = df_cal[k]*(1+v)\n",
    "        \n",
    "    return df_cal"
   ]
  },
  {
   "cell_type": "code",
   "execution_count": 249,
   "metadata": {},
   "outputs": [
    {
     "data": {
      "text/plain": [
       "industry\n",
       "total                                              157021\n",
       "nonagriculture_wage_and_salary                     150590\n",
       "goodsproducing_excluding_agriculture              20682.4\n",
       "mining                                             687.76\n",
       "construction                                      7370.05\n",
       "manufacturing                                     12624.6\n",
       "servicesproviding_excluding_special_industries     129907\n",
       "utilities                                          552.86\n",
       "wholesale_trade                                   5842.65\n",
       "retail_trade                                      15817.7\n",
       "transportation_and_warehousing                    5451.33\n",
       "information                                       2828.66\n",
       "financial_activities                              8596.86\n",
       "professional_and_business_services                21165.7\n",
       "educational_services                              3774.85\n",
       "health_care_and_social_assistance                 20278.9\n",
       "leisure_and_hospitality                           16504.1\n",
       "other_services                                    6631.83\n",
       "federal_government                                2783.42\n",
       "state_and_local_government                        19678.1\n",
       "agriculture_forestry_fishing_and_hunting          2311.06\n",
       "agriculture_wage_and_salary                        1551.2\n",
       "agriculture_selfemployed                           759.86\n",
       "nonagriculture_selfemployed                       8976.94\n",
       "Name: 2019, dtype: object"
      ]
     },
     "execution_count": 249,
     "metadata": {},
     "output_type": "execute_result"
    }
   ],
   "source": [
    "labor_after_illness(df=job_data_sub[2019], total = -0.03)"
   ]
  },
  {
   "cell_type": "markdown",
   "metadata": {},
   "source": [
    "## Name consistency in labor data and GDP"
   ]
  },
  {
   "cell_type": "code",
   "execution_count": 253,
   "metadata": {},
   "outputs": [
    {
     "data": {
      "text/plain": [
       "Index(['GOAFH', 'GOM', 'GOU', 'GOC', 'GOMD', 'GOMN', 'GOW', 'GOR', 'GOT',\n",
       "       'GOI', 'GOFI', 'GORL', 'GOPST', 'GOMCE', 'GOAWMS', 'GOES', 'GOHCSA',\n",
       "       'GOAER', 'GOAF', 'GOOSEG'],\n",
       "      dtype='object')"
      ]
     },
     "execution_count": 253,
     "metadata": {},
     "output_type": "execute_result"
    }
   ],
   "source": [
    "go_private_ind_1st_qt.columns"
   ]
  },
  {
   "cell_type": "code",
   "execution_count": 256,
   "metadata": {},
   "outputs": [
    {
     "data": {
      "text/plain": [
       "Index(['agriculture_forestry_fishing_and_hunting', 'agriculture_selfemployed',\n",
       "       'agriculture_wage_and_salary', 'construction', 'educational_services',\n",
       "       'federal_government', 'financial_activities',\n",
       "       'goodsproducing_excluding_agriculture',\n",
       "       'health_care_and_social_assistance', 'information',\n",
       "       'leisure_and_hospitality', 'manufacturing', 'mining',\n",
       "       'nonagriculture_selfemployed', 'nonagriculture_wage_and_salary',\n",
       "       'other_services', 'professional_and_business_services', 'retail_trade',\n",
       "       'servicesproviding_excluding_special_industries',\n",
       "       'state_and_local_government', 'total', 'transportation_and_warehousing',\n",
       "       'utilities', 'wholesale_trade'],\n",
       "      dtype='object', name='industry')"
      ]
     },
     "execution_count": 256,
     "metadata": {},
     "output_type": "execute_result"
    }
   ],
   "source": [
    "job_data_sub.index.sort_values()"
   ]
  },
  {
   "cell_type": "markdown",
   "metadata": {},
   "source": [
    "**Let's not using the abbreviations**"
   ]
  },
  {
   "cell_type": "code",
   "execution_count": 266,
   "metadata": {},
   "outputs": [
    {
     "data": {
      "text/plain": [
       "Index(['DATE', 'GOAFH', 'GOM', 'GOU', 'GOC', 'GOMD', 'GOMN', 'GOW', 'GOR',\n",
       "       'GOT', 'GOI', 'GOFI', 'GORL', 'GOPST', 'GOMCE', 'GOAWMS', 'GOES',\n",
       "       'GOHCSA', 'GOAER', 'GOAF', 'GOOSEG', 'year', 'quarter'],\n",
       "      dtype='object')"
      ]
     },
     "execution_count": 266,
     "metadata": {},
     "output_type": "execute_result"
    }
   ],
   "source": [
    "go_private_ind.columns"
   ]
  },
  {
   "cell_type": "code",
   "execution_count": 268,
   "metadata": {},
   "outputs": [],
   "source": [
    "name_l = [\"date\",\"agriculture_forestry_fishing_and_hunting\",\"mining\",\"utilities\",\n",
    " \"construction\",\"manufacturing_durable\",\"manufacturing_nondurable\",\n",
    " \"wholesale_trade\",\"retail_trade\",\"transportation_and_warehousing\",\n",
    " \"information\",\"financial_activities_finance_and_insurance\",\n",
    " \"financial_activities_realestata_rental\",\"professional_and_business_services_pst\",\n",
    " \"professional_and_business_services_mce\",\"professional_and_business_services_awms\",\n",
    " \"educational_services_es\",\"educational_services_hcsa\",\n",
    " \"leisure_and_hospitality_aer\",\"leisure_and_hospitality_af\",\"other_services\",\"year\",\"quarter\"]\n",
    "\n",
    "go_private_ind.columns = name_l"
   ]
  },
  {
   "cell_type": "code",
   "execution_count": 272,
   "metadata": {},
   "outputs": [
    {
     "data": {
      "text/html": [
       "<div>\n",
       "<style scoped>\n",
       "    .dataframe tbody tr th:only-of-type {\n",
       "        vertical-align: middle;\n",
       "    }\n",
       "\n",
       "    .dataframe tbody tr th {\n",
       "        vertical-align: top;\n",
       "    }\n",
       "\n",
       "    .dataframe thead th {\n",
       "        text-align: right;\n",
       "    }\n",
       "</style>\n",
       "<table border=\"1\" class=\"dataframe\">\n",
       "  <thead>\n",
       "    <tr style=\"text-align: right;\">\n",
       "      <th></th>\n",
       "      <th>0</th>\n",
       "      <th>1</th>\n",
       "      <th>2</th>\n",
       "      <th>3</th>\n",
       "      <th>4</th>\n",
       "      <th>5</th>\n",
       "      <th>6</th>\n",
       "      <th>7</th>\n",
       "      <th>8</th>\n",
       "      <th>9</th>\n",
       "      <th>...</th>\n",
       "      <th>49</th>\n",
       "      <th>50</th>\n",
       "      <th>51</th>\n",
       "      <th>52</th>\n",
       "      <th>53</th>\n",
       "      <th>54</th>\n",
       "      <th>55</th>\n",
       "      <th>56</th>\n",
       "      <th>57</th>\n",
       "      <th>58</th>\n",
       "    </tr>\n",
       "  </thead>\n",
       "  <tbody>\n",
       "    <tr>\n",
       "      <th>date</th>\n",
       "      <td>2005-01-01 00:00:00</td>\n",
       "      <td>2005-04-01 00:00:00</td>\n",
       "      <td>2005-07-01 00:00:00</td>\n",
       "      <td>2005-10-01 00:00:00</td>\n",
       "      <td>2006-01-01 00:00:00</td>\n",
       "      <td>2006-04-01 00:00:00</td>\n",
       "      <td>2006-07-01 00:00:00</td>\n",
       "      <td>2006-10-01 00:00:00</td>\n",
       "      <td>2007-01-01 00:00:00</td>\n",
       "      <td>2007-04-01 00:00:00</td>\n",
       "      <td>...</td>\n",
       "      <td>2017-04-01 00:00:00</td>\n",
       "      <td>2017-07-01 00:00:00</td>\n",
       "      <td>2017-10-01 00:00:00</td>\n",
       "      <td>2018-01-01 00:00:00</td>\n",
       "      <td>2018-04-01 00:00:00</td>\n",
       "      <td>2018-07-01 00:00:00</td>\n",
       "      <td>2018-10-01 00:00:00</td>\n",
       "      <td>2019-01-01 00:00:00</td>\n",
       "      <td>2019-04-01 00:00:00</td>\n",
       "      <td>2019-07-01 00:00:00</td>\n",
       "    </tr>\n",
       "    <tr>\n",
       "      <th>agriculture_forestry_fishing_and_hunting</th>\n",
       "      <td>297482</td>\n",
       "      <td>298167</td>\n",
       "      <td>299068</td>\n",
       "      <td>299297</td>\n",
       "      <td>295945</td>\n",
       "      <td>297448</td>\n",
       "      <td>302535</td>\n",
       "      <td>312916</td>\n",
       "      <td>337269</td>\n",
       "      <td>340783</td>\n",
       "      <td>...</td>\n",
       "      <td>447996</td>\n",
       "      <td>444807</td>\n",
       "      <td>449954</td>\n",
       "      <td>447111</td>\n",
       "      <td>451511</td>\n",
       "      <td>441373</td>\n",
       "      <td>446565</td>\n",
       "      <td>442226</td>\n",
       "      <td>446933</td>\n",
       "      <td>452278</td>\n",
       "    </tr>\n",
       "    <tr>\n",
       "      <th>mining</th>\n",
       "      <td>342076</td>\n",
       "      <td>368341</td>\n",
       "      <td>404483</td>\n",
       "      <td>460913</td>\n",
       "      <td>444794</td>\n",
       "      <td>446291</td>\n",
       "      <td>452850</td>\n",
       "      <td>432936</td>\n",
       "      <td>435520</td>\n",
       "      <td>473142</td>\n",
       "      <td>...</td>\n",
       "      <td>482391</td>\n",
       "      <td>482533</td>\n",
       "      <td>542015</td>\n",
       "      <td>577521</td>\n",
       "      <td>618499</td>\n",
       "      <td>651507</td>\n",
       "      <td>647734</td>\n",
       "      <td>602995</td>\n",
       "      <td>592750</td>\n",
       "      <td>554612</td>\n",
       "    </tr>\n",
       "    <tr>\n",
       "      <th>utilities</th>\n",
       "      <td>381224</td>\n",
       "      <td>393619</td>\n",
       "      <td>433039</td>\n",
       "      <td>456852</td>\n",
       "      <td>428646</td>\n",
       "      <td>422226</td>\n",
       "      <td>427400</td>\n",
       "      <td>409544</td>\n",
       "      <td>439069</td>\n",
       "      <td>450598</td>\n",
       "      <td>...</td>\n",
       "      <td>495216</td>\n",
       "      <td>485940</td>\n",
       "      <td>496425</td>\n",
       "      <td>504565</td>\n",
       "      <td>510005</td>\n",
       "      <td>506050</td>\n",
       "      <td>516592</td>\n",
       "      <td>504622</td>\n",
       "      <td>493361</td>\n",
       "      <td>496721</td>\n",
       "    </tr>\n",
       "    <tr>\n",
       "      <th>construction</th>\n",
       "      <td>1238713</td>\n",
       "      <td>1269902</td>\n",
       "      <td>1302808</td>\n",
       "      <td>1337151</td>\n",
       "      <td>1371165</td>\n",
       "      <td>1368651</td>\n",
       "      <td>1346813</td>\n",
       "      <td>1327850</td>\n",
       "      <td>1333785</td>\n",
       "      <td>1347702</td>\n",
       "      <td>...</td>\n",
       "      <td>1544444</td>\n",
       "      <td>1543895</td>\n",
       "      <td>1563430</td>\n",
       "      <td>1583698</td>\n",
       "      <td>1607466</td>\n",
       "      <td>1624345</td>\n",
       "      <td>1618116</td>\n",
       "      <td>1650501</td>\n",
       "      <td>1652842</td>\n",
       "      <td>1663027</td>\n",
       "    </tr>\n",
       "  </tbody>\n",
       "</table>\n",
       "<p>5 rows × 59 columns</p>\n",
       "</div>"
      ],
      "text/plain": [
       "                                                           0   \\\n",
       "date                                      2005-01-01 00:00:00   \n",
       "agriculture_forestry_fishing_and_hunting               297482   \n",
       "mining                                                 342076   \n",
       "utilities                                              381224   \n",
       "construction                                          1238713   \n",
       "\n",
       "                                                           1   \\\n",
       "date                                      2005-04-01 00:00:00   \n",
       "agriculture_forestry_fishing_and_hunting               298167   \n",
       "mining                                                 368341   \n",
       "utilities                                              393619   \n",
       "construction                                          1269902   \n",
       "\n",
       "                                                           2   \\\n",
       "date                                      2005-07-01 00:00:00   \n",
       "agriculture_forestry_fishing_and_hunting               299068   \n",
       "mining                                                 404483   \n",
       "utilities                                              433039   \n",
       "construction                                          1302808   \n",
       "\n",
       "                                                           3   \\\n",
       "date                                      2005-10-01 00:00:00   \n",
       "agriculture_forestry_fishing_and_hunting               299297   \n",
       "mining                                                 460913   \n",
       "utilities                                              456852   \n",
       "construction                                          1337151   \n",
       "\n",
       "                                                           4   \\\n",
       "date                                      2006-01-01 00:00:00   \n",
       "agriculture_forestry_fishing_and_hunting               295945   \n",
       "mining                                                 444794   \n",
       "utilities                                              428646   \n",
       "construction                                          1371165   \n",
       "\n",
       "                                                           5   \\\n",
       "date                                      2006-04-01 00:00:00   \n",
       "agriculture_forestry_fishing_and_hunting               297448   \n",
       "mining                                                 446291   \n",
       "utilities                                              422226   \n",
       "construction                                          1368651   \n",
       "\n",
       "                                                           6   \\\n",
       "date                                      2006-07-01 00:00:00   \n",
       "agriculture_forestry_fishing_and_hunting               302535   \n",
       "mining                                                 452850   \n",
       "utilities                                              427400   \n",
       "construction                                          1346813   \n",
       "\n",
       "                                                           7   \\\n",
       "date                                      2006-10-01 00:00:00   \n",
       "agriculture_forestry_fishing_and_hunting               312916   \n",
       "mining                                                 432936   \n",
       "utilities                                              409544   \n",
       "construction                                          1327850   \n",
       "\n",
       "                                                           8   \\\n",
       "date                                      2007-01-01 00:00:00   \n",
       "agriculture_forestry_fishing_and_hunting               337269   \n",
       "mining                                                 435520   \n",
       "utilities                                              439069   \n",
       "construction                                          1333785   \n",
       "\n",
       "                                                           9   ...  \\\n",
       "date                                      2007-04-01 00:00:00  ...   \n",
       "agriculture_forestry_fishing_and_hunting               340783  ...   \n",
       "mining                                                 473142  ...   \n",
       "utilities                                              450598  ...   \n",
       "construction                                          1347702  ...   \n",
       "\n",
       "                                                           49  \\\n",
       "date                                      2017-04-01 00:00:00   \n",
       "agriculture_forestry_fishing_and_hunting               447996   \n",
       "mining                                                 482391   \n",
       "utilities                                              495216   \n",
       "construction                                          1544444   \n",
       "\n",
       "                                                           50  \\\n",
       "date                                      2017-07-01 00:00:00   \n",
       "agriculture_forestry_fishing_and_hunting               444807   \n",
       "mining                                                 482533   \n",
       "utilities                                              485940   \n",
       "construction                                          1543895   \n",
       "\n",
       "                                                           51  \\\n",
       "date                                      2017-10-01 00:00:00   \n",
       "agriculture_forestry_fishing_and_hunting               449954   \n",
       "mining                                                 542015   \n",
       "utilities                                              496425   \n",
       "construction                                          1563430   \n",
       "\n",
       "                                                           52  \\\n",
       "date                                      2018-01-01 00:00:00   \n",
       "agriculture_forestry_fishing_and_hunting               447111   \n",
       "mining                                                 577521   \n",
       "utilities                                              504565   \n",
       "construction                                          1583698   \n",
       "\n",
       "                                                           53  \\\n",
       "date                                      2018-04-01 00:00:00   \n",
       "agriculture_forestry_fishing_and_hunting               451511   \n",
       "mining                                                 618499   \n",
       "utilities                                              510005   \n",
       "construction                                          1607466   \n",
       "\n",
       "                                                           54  \\\n",
       "date                                      2018-07-01 00:00:00   \n",
       "agriculture_forestry_fishing_and_hunting               441373   \n",
       "mining                                                 651507   \n",
       "utilities                                              506050   \n",
       "construction                                          1624345   \n",
       "\n",
       "                                                           55  \\\n",
       "date                                      2018-10-01 00:00:00   \n",
       "agriculture_forestry_fishing_and_hunting               446565   \n",
       "mining                                                 647734   \n",
       "utilities                                              516592   \n",
       "construction                                          1618116   \n",
       "\n",
       "                                                           56  \\\n",
       "date                                      2019-01-01 00:00:00   \n",
       "agriculture_forestry_fishing_and_hunting               442226   \n",
       "mining                                                 602995   \n",
       "utilities                                              504622   \n",
       "construction                                          1650501   \n",
       "\n",
       "                                                           57  \\\n",
       "date                                      2019-04-01 00:00:00   \n",
       "agriculture_forestry_fishing_and_hunting               446933   \n",
       "mining                                                 592750   \n",
       "utilities                                              493361   \n",
       "construction                                          1652842   \n",
       "\n",
       "                                                           58  \n",
       "date                                      2019-07-01 00:00:00  \n",
       "agriculture_forestry_fishing_and_hunting               452278  \n",
       "mining                                                 554612  \n",
       "utilities                                              496721  \n",
       "construction                                          1663027  \n",
       "\n",
       "[5 rows x 59 columns]"
      ]
     },
     "execution_count": 272,
     "metadata": {},
     "output_type": "execute_result"
    }
   ],
   "source": [
    "go_private_ind.T.head()"
   ]
  },
  {
   "cell_type": "code",
   "execution_count": null,
   "metadata": {},
   "outputs": [],
   "source": []
  },
  {
   "cell_type": "markdown",
   "metadata": {},
   "source": [
    "## Labor productivity data"
   ]
  },
  {
   "cell_type": "markdown",
   "metadata": {},
   "source": [
    "labor productivity data: https://www.bls.gov/lpc/two_digit_sector_data.csv\n",
    "\n",
    "- **labor productivity**: total_output/total_manhours\n",
    "\n",
    "- labor productivity measures the hourly output of a country's economy. Specifically, it charts the amount of real gross domestic product (GDP) produced by an hour of labor. Growth in labor productivity depends on three main factors: saving and investment in physical capital, new technology, and human capital.\n",
    "- **Factors of Production**: Factors of production are the inputs needed for the creation of a good or service. The factors of production include land, labor, entrepreneurship, and capital.\n",
    "- https://www.bls.gov/opub/btn/volume-3/what-can-labor-productivity-tell-us-about-the-us-economy.htm\n",
    "- "
   ]
  },
  {
   "cell_type": "code",
   "execution_count": 556,
   "metadata": {},
   "outputs": [],
   "source": [
    "def get_df_from_url(url):\n",
    "    r = requests.get(url, stream=True).content\n",
    "    return pd.read_csv(io.StringIO(r.decode('utf-8')))"
   ]
  },
  {
   "cell_type": "code",
   "execution_count": 557,
   "metadata": {},
   "outputs": [],
   "source": [
    "url = ' https://www.bls.gov/lpc/two_digit_sector_data.csv'\n",
    "labor_prod_df = get_df_from_url(url)"
   ]
  },
  {
   "cell_type": "code",
   "execution_count": 558,
   "metadata": {},
   "outputs": [
    {
     "data": {
      "text/plain": [
       "2018    8\n",
       "2017    8\n",
       "1988    8\n",
       "1989    8\n",
       "1990    8\n",
       "Name: Year, dtype: int64"
      ]
     },
     "execution_count": 558,
     "metadata": {},
     "output_type": "execute_result"
    }
   ],
   "source": [
    "labor_prod_df['Year'].value_counts().head()"
   ]
  },
  {
   "cell_type": "code",
   "execution_count": 559,
   "metadata": {},
   "outputs": [
    {
     "data": {
      "text/plain": [
       "(8, 28)"
      ]
     },
     "execution_count": 559,
     "metadata": {},
     "output_type": "execute_result"
    }
   ],
   "source": [
    "labor_prod_df[labor_prod_df['Year'] == 2018].shape"
   ]
  },
  {
   "cell_type": "code",
   "execution_count": 560,
   "metadata": {},
   "outputs": [
    {
     "data": {
      "text/plain": [
       "Two Digit Sectors                              0\n",
       "Year                                           0\n",
       "Labor productivity (2007=100)                 96\n",
       "Labor productivity (percent change)          101\n",
       "Hours worked (2007=100)                        0\n",
       "Hours worked (percent change)                  8\n",
       "Labor compensation (Million $)                96\n",
       "Labor compensation (percent change)          101\n",
       "Hours worked (millions)                        0\n",
       "Hours worked (percent change).1                8\n",
       "Output (2007=100)                             96\n",
       "Output (percent change)                      101\n",
       "Implicit output deflator (2007=100)           96\n",
       "Implicit output deflator (percent change)    101\n",
       "Value of production (Million $)               96\n",
       "Value of production (percent change)         101\n",
       "Unit labor costs (2007=100)                   96\n",
       "Unit labor costs (percent change)            101\n",
       "Labor compensation (2007=100)                 96\n",
       "Labor compensation (percent change).1        101\n",
       "Hourly compensation (2007=100)                96\n",
       "Hourly compensation (percent change)         101\n",
       "Output per employee (2007=100)                96\n",
       "Output per employee (percent change)         101\n",
       "Employment (2007=100)                          0\n",
       "Employment (percent change)                    8\n",
       "Employment (thousands)                         0\n",
       "Employment (percent change).1                  8\n",
       "dtype: int64"
      ]
     },
     "execution_count": 560,
     "metadata": {},
     "output_type": "execute_result"
    }
   ],
   "source": [
    "labor_prod_df.isnull().sum()"
   ]
  },
  {
   "cell_type": "code",
   "execution_count": 561,
   "metadata": {},
   "outputs": [],
   "source": [
    "labor_prod_df.columns = labor_prod_df.columns.str.strip(\n",
    "                                  ).str.lower(\n",
    "                                  ).str.replace(r\"\\(.*\\)\",\"\").str.replace(\" \",\"_\"\n",
    "                                                            ).str.replace(\",\",\"\").str.replace(\"-\",\"\")"
   ]
  },
  {
   "cell_type": "code",
   "execution_count": 566,
   "metadata": {},
   "outputs": [],
   "source": [
    "labor_prod_df = labor_prod_df.iloc[:,[0,1,2]]"
   ]
  },
  {
   "cell_type": "code",
   "execution_count": 575,
   "metadata": {},
   "outputs": [],
   "source": [
    "labor_prod_df['two_digit_sectors'] = labor_prod_df.two_digit_sectors.str.strip(\n",
    "                                                                  ).str.lower(\n",
    "                                                                  ).str.replace(r\"\\(.*\\)\",\"\"\n",
    "                                                                  ).str.replace(\" \",\"_\"\n",
    "                                                                  ).str.replace(\",\",\"\"\n",
    "                                                                  ).str.replace(\"-\",\"\"\n",
    "                                                                  ).str.replace(\"__\",\"_\")"
   ]
  },
  {
   "cell_type": "code",
   "execution_count": 578,
   "metadata": {},
   "outputs": [],
   "source": [
    "labor_prod_df = labor_prod_df.set_index(['two_digit_sectors','year'])"
   ]
  },
  {
   "cell_type": "code",
   "execution_count": 582,
   "metadata": {},
   "outputs": [
    {
     "data": {
      "text/plain": [
       "96"
      ]
     },
     "execution_count": 582,
     "metadata": {},
     "output_type": "execute_result"
    }
   ],
   "source": [
    "labor_prod_df.labor_productivity_.isnull().sum()"
   ]
  },
  {
   "cell_type": "code",
   "execution_count": 587,
   "metadata": {},
   "outputs": [
    {
     "data": {
      "text/plain": [
       "two_digit_sectors\n",
       "21_mining                                            0.0\n",
       "22_utilities                                         0.0\n",
       "42_wholesale_trade                                   0.0\n",
       "4445_retail_trade                                    0.0\n",
       "54_professional_scientific_and_technical_services    1.0\n",
       "55_management_of_companies_and_enterprises           1.0\n",
       "61_educational_services                              1.0\n",
       "72_accommodation_and_food_services                   0.0\n",
       "dtype: float64"
      ]
     },
     "execution_count": 587,
     "metadata": {},
     "output_type": "execute_result"
    }
   ],
   "source": [
    "labor_prod_df.unstack().isnull().sum(axis = 1)/(labor_prod_df.unstack().shape[1])"
   ]
  },
  {
   "cell_type": "markdown",
   "metadata": {},
   "source": [
    "**There is no labor productivity data in `54`,`55`,`61`**"
   ]
  },
  {
   "cell_type": "markdown",
   "metadata": {},
   "source": [
    "- https://www.bea.gov/data/gdp/gdp-state\n",
    "- \n",
    "    "
   ]
  }
 ],
 "metadata": {
  "kernelspec": {
   "display_name": "Python 3",
   "language": "python",
   "name": "python3"
  },
  "language_info": {
   "codemirror_mode": {
    "name": "ipython",
    "version": 3
   },
   "file_extension": ".py",
   "mimetype": "text/x-python",
   "name": "python",
   "nbconvert_exporter": "python",
   "pygments_lexer": "ipython3",
   "version": "3.7.5"
  }
 },
 "nbformat": 4,
 "nbformat_minor": 2
}
