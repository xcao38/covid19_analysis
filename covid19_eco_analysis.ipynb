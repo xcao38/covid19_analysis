{
 "cells": [
  {
   "cell_type": "code",
   "execution_count": 8,
   "metadata": {},
   "outputs": [],
   "source": [
    "import os\n",
    "import pandas as pd\n",
    "from fred import Fred\n"
   ]
  },
  {
   "cell_type": "markdown",
   "metadata": {},
   "source": [
    "# Get data"
   ]
  },
  {
   "cell_type": "code",
   "execution_count": 6,
   "metadata": {},
   "outputs": [],
   "source": [
    "# fr = Fred(api_key='abcdefghijklmnopqrstuvwxyz123456',response_type='dict')"
   ]
  },
  {
   "cell_type": "markdown",
   "metadata": {},
   "source": [
    "### Gross Output by Industry"
   ]
  },
  {
   "cell_type": "code",
   "execution_count": 11,
   "metadata": {},
   "outputs": [],
   "source": [
    "data_dir = os.path.join(os.getcwd(), \"data/covideco_Quarterly.txt\")"
   ]
  },
  {
   "cell_type": "code",
   "execution_count": 12,
   "metadata": {},
   "outputs": [],
   "source": [
    "go_by_industry = pd.read_csv(data_dir,sep=\"\\t\")"
   ]
  },
  {
   "cell_type": "markdown",
   "metadata": {},
   "source": [
    "**Notes:**\n",
    "- Data Source: Gross Output by Industry: Gross Output by Industry, Billions of Dollars, Seasonally Adjusted at Annual Rates\n",
    "https://fred.stlouisfed.org/release/tables?rid=331&eid=1993#\n",
    "\n"
   ]
  },
  {
   "cell_type": "markdown",
   "metadata": {},
   "source": [
    "# Initial Analysis"
   ]
  },
  {
   "cell_type": "code",
   "execution_count": 13,
   "metadata": {},
   "outputs": [
    {
     "data": {
      "text/plain": [
       "(59, 33)"
      ]
     },
     "execution_count": 13,
     "metadata": {},
     "output_type": "execute_result"
    }
   ],
   "source": [
    "go_by_industry.shape"
   ]
  },
  {
   "cell_type": "code",
   "execution_count": 17,
   "metadata": {},
   "outputs": [
    {
     "data": {
      "text/plain": [
       "'2019-07-01'"
      ]
     },
     "execution_count": 17,
     "metadata": {},
     "output_type": "execute_result"
    }
   ],
   "source": [
    "go_by_industry.DATE.max()"
   ]
  },
  {
   "cell_type": "code",
   "execution_count": 18,
   "metadata": {},
   "outputs": [
    {
     "data": {
      "text/plain": [
       "'2005-01-01'"
      ]
     },
     "execution_count": 18,
     "metadata": {},
     "output_type": "execute_result"
    }
   ],
   "source": [
    "go_by_industry.DATE.min()"
   ]
  },
  {
   "cell_type": "code",
   "execution_count": 19,
   "metadata": {},
   "outputs": [
    {
     "data": {
      "text/plain": [
       "Index(['DATE', 'GOAER', 'GOAERAF', 'GOAF', 'GOAFH', 'GOAI', 'GOAWMS', 'GOC',\n",
       "       'GOES', 'GOESHS', 'GOF', 'GOFI', 'GOFIRL', 'GOG', 'GOGPI', 'GOHCSA',\n",
       "       'GOI', 'GOM', 'GOMA', 'GOMCE', 'GOMD', 'GOMN', 'GOOSEG', 'GOPBS',\n",
       "       'GOPI', 'GOPST', 'GOR', 'GORL', 'GOSL', 'GOSPI', 'GOT', 'GOU', 'GOW'],\n",
       "      dtype='object')"
      ]
     },
     "execution_count": 19,
     "metadata": {},
     "output_type": "execute_result"
    }
   ],
   "source": [
    "go_by_industry.columns"
   ]
  },
  {
   "cell_type": "code",
   "execution_count": 25,
   "metadata": {},
   "outputs": [
    {
     "data": {
      "text/html": [
       "<div>\n",
       "<style scoped>\n",
       "    .dataframe tbody tr th:only-of-type {\n",
       "        vertical-align: middle;\n",
       "    }\n",
       "\n",
       "    .dataframe tbody tr th {\n",
       "        vertical-align: top;\n",
       "    }\n",
       "\n",
       "    .dataframe thead th {\n",
       "        text-align: right;\n",
       "    }\n",
       "</style>\n",
       "<table border=\"1\" class=\"dataframe\">\n",
       "  <thead>\n",
       "    <tr style=\"text-align: right;\">\n",
       "      <th></th>\n",
       "      <th>DATE</th>\n",
       "      <th>GOAER</th>\n",
       "      <th>GOAERAF</th>\n",
       "      <th>GOAF</th>\n",
       "      <th>GOAFH</th>\n",
       "      <th>GOAI</th>\n",
       "      <th>GOAWMS</th>\n",
       "      <th>GOC</th>\n",
       "      <th>GOES</th>\n",
       "      <th>GOESHS</th>\n",
       "      <th>...</th>\n",
       "      <th>GOPBS</th>\n",
       "      <th>GOPI</th>\n",
       "      <th>GOPST</th>\n",
       "      <th>GOR</th>\n",
       "      <th>GORL</th>\n",
       "      <th>GOSL</th>\n",
       "      <th>GOSPI</th>\n",
       "      <th>GOT</th>\n",
       "      <th>GOU</th>\n",
       "      <th>GOW</th>\n",
       "    </tr>\n",
       "  </thead>\n",
       "  <tbody>\n",
       "    <tr>\n",
       "      <th>0</th>\n",
       "      <td>2005-01-01</td>\n",
       "      <td>195200</td>\n",
       "      <td>830300</td>\n",
       "      <td>635099</td>\n",
       "      <td>297482</td>\n",
       "      <td>22835859</td>\n",
       "      <td>559735</td>\n",
       "      <td>1238713</td>\n",
       "      <td>191383</td>\n",
       "      <td>1544232</td>\n",
       "      <td>...</td>\n",
       "      <td>2214244</td>\n",
       "      <td>20263503</td>\n",
       "      <td>1310749</td>\n",
       "      <td>1218101</td>\n",
       "      <td>2414652</td>\n",
       "      <td>1731382</td>\n",
       "      <td>13713477</td>\n",
       "      <td>724612</td>\n",
       "      <td>381224</td>\n",
       "      <td>1087905</td>\n",
       "    </tr>\n",
       "    <tr>\n",
       "      <th>1</th>\n",
       "      <td>2005-04-01</td>\n",
       "      <td>199654</td>\n",
       "      <td>850167</td>\n",
       "      <td>650513</td>\n",
       "      <td>298167</td>\n",
       "      <td>23225964</td>\n",
       "      <td>576804</td>\n",
       "      <td>1269902</td>\n",
       "      <td>193184</td>\n",
       "      <td>1564898</td>\n",
       "      <td>...</td>\n",
       "      <td>2261537</td>\n",
       "      <td>20629694</td>\n",
       "      <td>1335294</td>\n",
       "      <td>1233556</td>\n",
       "      <td>2479923</td>\n",
       "      <td>1753076</td>\n",
       "      <td>13956891</td>\n",
       "      <td>744427</td>\n",
       "      <td>393619</td>\n",
       "      <td>1091728</td>\n",
       "    </tr>\n",
       "    <tr>\n",
       "      <th>2</th>\n",
       "      <td>2005-07-01</td>\n",
       "      <td>203031</td>\n",
       "      <td>861411</td>\n",
       "      <td>658379</td>\n",
       "      <td>299068</td>\n",
       "      <td>23733860</td>\n",
       "      <td>583213</td>\n",
       "      <td>1302808</td>\n",
       "      <td>196086</td>\n",
       "      <td>1593299</td>\n",
       "      <td>...</td>\n",
       "      <td>2294539</td>\n",
       "      <td>21091301</td>\n",
       "      <td>1350535</td>\n",
       "      <td>1248641</td>\n",
       "      <td>2534816</td>\n",
       "      <td>1782789</td>\n",
       "      <td>14260921</td>\n",
       "      <td>762510</td>\n",
       "      <td>433039</td>\n",
       "      <td>1106462</td>\n",
       "    </tr>\n",
       "    <tr>\n",
       "      <th>3</th>\n",
       "      <td>2005-10-01</td>\n",
       "      <td>210163</td>\n",
       "      <td>878097</td>\n",
       "      <td>667933</td>\n",
       "      <td>299297</td>\n",
       "      <td>24256100</td>\n",
       "      <td>601280</td>\n",
       "      <td>1337151</td>\n",
       "      <td>199854</td>\n",
       "      <td>1614902</td>\n",
       "      <td>...</td>\n",
       "      <td>2354618</td>\n",
       "      <td>21574195</td>\n",
       "      <td>1388096</td>\n",
       "      <td>1258552</td>\n",
       "      <td>2562990</td>\n",
       "      <td>1814950</td>\n",
       "      <td>14490669</td>\n",
       "      <td>778906</td>\n",
       "      <td>456852</td>\n",
       "      <td>1144844</td>\n",
       "    </tr>\n",
       "    <tr>\n",
       "      <th>4</th>\n",
       "      <td>2006-01-01</td>\n",
       "      <td>216256</td>\n",
       "      <td>899096</td>\n",
       "      <td>682840</td>\n",
       "      <td>295945</td>\n",
       "      <td>24604791</td>\n",
       "      <td>615663</td>\n",
       "      <td>1371165</td>\n",
       "      <td>205626</td>\n",
       "      <td>1639224</td>\n",
       "      <td>...</td>\n",
       "      <td>2394078</td>\n",
       "      <td>21868521</td>\n",
       "      <td>1406098</td>\n",
       "      <td>1294025</td>\n",
       "      <td>2586824</td>\n",
       "      <td>1836871</td>\n",
       "      <td>14731273</td>\n",
       "      <td>804842</td>\n",
       "      <td>428646</td>\n",
       "      <td>1169017</td>\n",
       "    </tr>\n",
       "  </tbody>\n",
       "</table>\n",
       "<p>5 rows × 33 columns</p>\n",
       "</div>"
      ],
      "text/plain": [
       "         DATE   GOAER  GOAERAF    GOAF   GOAFH      GOAI  GOAWMS      GOC  \\\n",
       "0  2005-01-01  195200   830300  635099  297482  22835859  559735  1238713   \n",
       "1  2005-04-01  199654   850167  650513  298167  23225964  576804  1269902   \n",
       "2  2005-07-01  203031   861411  658379  299068  23733860  583213  1302808   \n",
       "3  2005-10-01  210163   878097  667933  299297  24256100  601280  1337151   \n",
       "4  2006-01-01  216256   899096  682840  295945  24604791  615663  1371165   \n",
       "\n",
       "     GOES   GOESHS  ...    GOPBS      GOPI    GOPST      GOR     GORL  \\\n",
       "0  191383  1544232  ...  2214244  20263503  1310749  1218101  2414652   \n",
       "1  193184  1564898  ...  2261537  20629694  1335294  1233556  2479923   \n",
       "2  196086  1593299  ...  2294539  21091301  1350535  1248641  2534816   \n",
       "3  199854  1614902  ...  2354618  21574195  1388096  1258552  2562990   \n",
       "4  205626  1639224  ...  2394078  21868521  1406098  1294025  2586824   \n",
       "\n",
       "      GOSL     GOSPI     GOT     GOU      GOW  \n",
       "0  1731382  13713477  724612  381224  1087905  \n",
       "1  1753076  13956891  744427  393619  1091728  \n",
       "2  1782789  14260921  762510  433039  1106462  \n",
       "3  1814950  14490669  778906  456852  1144844  \n",
       "4  1836871  14731273  804842  428646  1169017  \n",
       "\n",
       "[5 rows x 33 columns]"
      ]
     },
     "execution_count": 25,
     "metadata": {},
     "output_type": "execute_result"
    }
   ],
   "source": [
    "go_by_industry.head()"
   ]
  },
  {
   "cell_type": "markdown",
   "metadata": {},
   "source": [
    "**Notes:**\n",
    "\n",
    "- `GOAER`: Gross Output of Private Industries: Arts, Entertainment, Recreation, Accommodation, and Food Services: Arts, Entertainment, and Recreation\n",
    "- `GOAERAF`: Gross Output of Private Industries: Arts, Entertainment, Recreation, Accommodation, and Food Services \n",
    "- `GOAF`:\n",
    "- `GOAFH`, \n",
    "- `GOAI`, \n",
    "- `GOAWMS`\n",
    "- `GOC`,'GOES', 'GOESHS', 'GOF', 'GOFI', 'GOFIRL', 'GOG', 'GOGPI', 'GOHCSA',\n",
    "       'GOI', 'GOM', 'GOMA', 'GOMCE', 'GOMD', 'GOMN', 'GOOSEG', 'GOPBS',\n",
    "       'GOPI', 'GOPST', 'GOR', 'GORL', 'GOSL', 'GOSPI', 'GOT', 'GOU', 'GOW'"
   ]
  },
  {
   "cell_type": "code",
   "execution_count": null,
   "metadata": {},
   "outputs": [],
   "source": []
  }
 ],
 "metadata": {
  "kernelspec": {
   "display_name": "Python 3",
   "language": "python",
   "name": "python3"
  },
  "language_info": {
   "codemirror_mode": {
    "name": "ipython",
    "version": 3
   },
   "file_extension": ".py",
   "mimetype": "text/x-python",
   "name": "python",
   "nbconvert_exporter": "python",
   "pygments_lexer": "ipython3",
   "version": "3.7.5"
  }
 },
 "nbformat": 4,
 "nbformat_minor": 2
}
