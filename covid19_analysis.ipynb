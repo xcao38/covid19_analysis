{
 "cells": [
  {
   "cell_type": "code",
   "execution_count": 1,
   "metadata": {},
   "outputs": [],
   "source": [
    "## get data\n",
    "import wrangle\n",
    "\n",
    "## analysis\n",
    "import numpy as np\n",
    "import pandas as pd\n",
    "import matplotlib.pyplot as plt\n",
    "\n",
    "%matplotlib inline"
   ]
  },
  {
   "cell_type": "markdown",
   "metadata": {},
   "source": [
    "**Formula**  \n",
    "\n",
    "- for each states:\n",
    "    - **Note:** proportion of ppl get sick who are in labor force (current unemployment rate, by age)\n",
    "\n",
    "$$unquarantine\\_ change\\_ rate=\\sum_{i=0}^{n} \\sum_{j=0}^{m}{proportion\\_of\\_state\\_sick_{i,j}}\\times{proportion\\_of\\_inds\\_in\\_state_{i,j}}$$\n",
    "                        - n: number of states \n",
    "                        - m: number of industries\n",
    "\n",
    "\n",
    "- Depending on how much data we have, we could put _shock_ in the formula (financial crsis, hospital bed overflow) \n",
    "    \n",
    "- quarantine_change_rate (come back to this)\n",
    "    - we should not assume quarantine rate for all the states, might need diff quarantine states\n",
    "    - Jenn: current quarantine measures for each states\n",
    "    - WFH possibility will diff from industry\n",
    "    - layoffs\n",
    "\n",
    "- Health care cost "
   ]
  },
  {
   "cell_type": "markdown",
   "metadata": {},
   "source": [
    "## Data\n",
    "- employment 2019\n",
    "- covid 19 confirmed cases\n",
    "- states populations :https://www.census.gov/quickfacts/NY\n"
   ]
  },
  {
   "cell_type": "code",
   "execution_count": 2,
   "metadata": {
    "scrolled": true
   },
   "outputs": [],
   "source": [
    "employment_ny = wrangle.get_ny_employment()"
   ]
  },
  {
   "cell_type": "code",
   "execution_count": 17,
   "metadata": {},
   "outputs": [
    {
     "data": {
      "text/html": [
       "<div>\n",
       "<style scoped>\n",
       "    .dataframe tbody tr th:only-of-type {\n",
       "        vertical-align: middle;\n",
       "    }\n",
       "\n",
       "    .dataframe tbody tr th {\n",
       "        vertical-align: top;\n",
       "    }\n",
       "\n",
       "    .dataframe thead th {\n",
       "        text-align: right;\n",
       "    }\n",
       "</style>\n",
       "<table border=\"1\" class=\"dataframe\">\n",
       "  <thead>\n",
       "    <tr style=\"text-align: right;\">\n",
       "      <th></th>\n",
       "      <th>naics_code</th>\n",
       "      <th>industry</th>\n",
       "      <th>2019</th>\n",
       "      <th>2021</th>\n",
       "      <th>net_change</th>\n",
       "      <th>pct_change</th>\n",
       "    </tr>\n",
       "  </thead>\n",
       "  <tbody>\n",
       "    <tr>\n",
       "      <th>1</th>\n",
       "      <td>601</td>\n",
       "      <td>Total Self Employed, All Jobs</td>\n",
       "      <td>570590</td>\n",
       "      <td>577460</td>\n",
       "      <td>6870</td>\n",
       "      <td>0.0120402</td>\n",
       "    </tr>\n",
       "    <tr>\n",
       "      <th>2</th>\n",
       "      <td>11</td>\n",
       "      <td>Agriculture, Forestry, Fishing and Hunting</td>\n",
       "      <td>31180</td>\n",
       "      <td>31870</td>\n",
       "      <td>690</td>\n",
       "      <td>0.0221296</td>\n",
       "    </tr>\n",
       "    <tr>\n",
       "      <th>8</th>\n",
       "      <td>21</td>\n",
       "      <td>Mining</td>\n",
       "      <td>4230</td>\n",
       "      <td>4550</td>\n",
       "      <td>320</td>\n",
       "      <td>0.0756501</td>\n",
       "    </tr>\n",
       "    <tr>\n",
       "      <th>12</th>\n",
       "      <td>22</td>\n",
       "      <td>Utilities</td>\n",
       "      <td>36700</td>\n",
       "      <td>36430</td>\n",
       "      <td>-270</td>\n",
       "      <td>-0.00735695</td>\n",
       "    </tr>\n",
       "    <tr>\n",
       "      <th>13</th>\n",
       "      <td>23</td>\n",
       "      <td>Construction</td>\n",
       "      <td>380940</td>\n",
       "      <td>390570</td>\n",
       "      <td>9630</td>\n",
       "      <td>0.0252796</td>\n",
       "    </tr>\n",
       "  </tbody>\n",
       "</table>\n",
       "</div>"
      ],
      "text/plain": [
       "    naics_code                                    industry    2019    2021  \\\n",
       "1          601               Total Self Employed, All Jobs  570590  577460   \n",
       "2           11  Agriculture, Forestry, Fishing and Hunting   31180   31870   \n",
       "8           21                                      Mining    4230    4550   \n",
       "12          22                                   Utilities   36700   36430   \n",
       "13          23                                Construction  380940  390570   \n",
       "\n",
       "   net_change  pct_change  \n",
       "1        6870   0.0120402  \n",
       "2         690   0.0221296  \n",
       "8         320   0.0756501  \n",
       "12       -270 -0.00735695  \n",
       "13       9630   0.0252796  "
      ]
     },
     "execution_count": 17,
     "metadata": {},
     "output_type": "execute_result"
    }
   ],
   "source": [
    "employment_ny.head()"
   ]
  },
  {
   "cell_type": "code",
   "execution_count": 3,
   "metadata": {},
   "outputs": [],
   "source": [
    "covid19_us = wrangle.get_covid_data(date = \"03-29-2020\")"
   ]
  },
  {
   "cell_type": "code",
   "execution_count": 10,
   "metadata": {},
   "outputs": [],
   "source": [
    "ny_confirmed = covid19_us.loc[covid19_us[\"Province_State\"] == \"New York\", \"Confirmed\"].sum()"
   ]
  },
  {
   "cell_type": "code",
   "execution_count": 5,
   "metadata": {},
   "outputs": [],
   "source": [
    "population_2019 = wrangle.get_population_data()"
   ]
  },
  {
   "cell_type": "code",
   "execution_count": 6,
   "metadata": {},
   "outputs": [
    {
     "data": {
      "text/html": [
       "<div>\n",
       "<style scoped>\n",
       "    .dataframe tbody tr th:only-of-type {\n",
       "        vertical-align: middle;\n",
       "    }\n",
       "\n",
       "    .dataframe tbody tr th {\n",
       "        vertical-align: top;\n",
       "    }\n",
       "\n",
       "    .dataframe thead th {\n",
       "        text-align: right;\n",
       "    }\n",
       "</style>\n",
       "<table border=\"1\" class=\"dataframe\">\n",
       "  <thead>\n",
       "    <tr style=\"text-align: right;\">\n",
       "      <th></th>\n",
       "      <th>SUMLEV</th>\n",
       "      <th>REGION</th>\n",
       "      <th>DIVISION</th>\n",
       "      <th>STATE</th>\n",
       "      <th>NAME</th>\n",
       "      <th>POPESTIMATE2019</th>\n",
       "      <th>POPEST18PLUS2019</th>\n",
       "      <th>PCNT_POPEST18PLUS</th>\n",
       "    </tr>\n",
       "  </thead>\n",
       "  <tbody>\n",
       "    <tr>\n",
       "      <th>0</th>\n",
       "      <td>10</td>\n",
       "      <td>0</td>\n",
       "      <td>0</td>\n",
       "      <td>0</td>\n",
       "      <td>United States</td>\n",
       "      <td>328239523</td>\n",
       "      <td>255200373</td>\n",
       "      <td>77.7</td>\n",
       "    </tr>\n",
       "    <tr>\n",
       "      <th>1</th>\n",
       "      <td>40</td>\n",
       "      <td>3</td>\n",
       "      <td>6</td>\n",
       "      <td>1</td>\n",
       "      <td>Alabama</td>\n",
       "      <td>4903185</td>\n",
       "      <td>3814879</td>\n",
       "      <td>77.8</td>\n",
       "    </tr>\n",
       "    <tr>\n",
       "      <th>2</th>\n",
       "      <td>40</td>\n",
       "      <td>4</td>\n",
       "      <td>9</td>\n",
       "      <td>2</td>\n",
       "      <td>Alaska</td>\n",
       "      <td>731545</td>\n",
       "      <td>551562</td>\n",
       "      <td>75.4</td>\n",
       "    </tr>\n",
       "    <tr>\n",
       "      <th>3</th>\n",
       "      <td>40</td>\n",
       "      <td>4</td>\n",
       "      <td>8</td>\n",
       "      <td>4</td>\n",
       "      <td>Arizona</td>\n",
       "      <td>7278717</td>\n",
       "      <td>5638481</td>\n",
       "      <td>77.5</td>\n",
       "    </tr>\n",
       "    <tr>\n",
       "      <th>4</th>\n",
       "      <td>40</td>\n",
       "      <td>3</td>\n",
       "      <td>7</td>\n",
       "      <td>5</td>\n",
       "      <td>Arkansas</td>\n",
       "      <td>3017804</td>\n",
       "      <td>2317649</td>\n",
       "      <td>76.8</td>\n",
       "    </tr>\n",
       "  </tbody>\n",
       "</table>\n",
       "</div>"
      ],
      "text/plain": [
       "   SUMLEV REGION DIVISION  STATE           NAME  POPESTIMATE2019  \\\n",
       "0      10      0        0      0  United States        328239523   \n",
       "1      40      3        6      1        Alabama          4903185   \n",
       "2      40      4        9      2         Alaska           731545   \n",
       "3      40      4        8      4        Arizona          7278717   \n",
       "4      40      3        7      5       Arkansas          3017804   \n",
       "\n",
       "   POPEST18PLUS2019  PCNT_POPEST18PLUS  \n",
       "0         255200373               77.7  \n",
       "1           3814879               77.8  \n",
       "2            551562               75.4  \n",
       "3           5638481               77.5  \n",
       "4           2317649               76.8  "
      ]
     },
     "execution_count": 6,
     "metadata": {},
     "output_type": "execute_result"
    }
   ],
   "source": [
    "population_2019.head()"
   ]
  },
  {
   "cell_type": "code",
   "execution_count": 13,
   "metadata": {},
   "outputs": [],
   "source": [
    "ny_pop = population_2019.loc[population_2019[\"NAME\"] == \"New York\",\"POPESTIMATE2019\"].values[0]"
   ]
  },
  {
   "cell_type": "code",
   "execution_count": 15,
   "metadata": {},
   "outputs": [
    {
     "data": {
      "text/plain": [
       "0.0030661738485822723"
      ]
     },
     "execution_count": 15,
     "metadata": {},
     "output_type": "execute_result"
    }
   ],
   "source": [
    "ny_confirmed/ny_pop"
   ]
  },
  {
   "cell_type": "code",
   "execution_count": 18,
   "metadata": {},
   "outputs": [],
   "source": [
    "def get_unquarantine_change_rate():\n",
    "    \n",
    "    return 0\n",
    "    "
   ]
  },
  {
   "cell_type": "code",
   "execution_count": null,
   "metadata": {},
   "outputs": [],
   "source": []
  }
 ],
 "metadata": {
  "kernelspec": {
   "display_name": "Python 3",
   "language": "python",
   "name": "python3"
  },
  "language_info": {
   "codemirror_mode": {
    "name": "ipython",
    "version": 3
   },
   "file_extension": ".py",
   "mimetype": "text/x-python",
   "name": "python",
   "nbconvert_exporter": "python",
   "pygments_lexer": "ipython3",
   "version": "3.7.5"
  }
 },
 "nbformat": 4,
 "nbformat_minor": 4
}
