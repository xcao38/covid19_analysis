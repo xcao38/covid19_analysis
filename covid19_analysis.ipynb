{
 "cells": [
  {
   "cell_type": "code",
   "execution_count": 17,
   "metadata": {},
   "outputs": [],
   "source": [
    "## get data\n",
    "import os\n",
    "import wrangle\n",
    "\n",
    "## analysis\n",
    "import numpy as np\n",
    "import pandas as pd\n",
    "import matplotlib.pyplot as plt\n",
    "\n",
    "%matplotlib inline"
   ]
  },
  {
   "cell_type": "markdown",
   "metadata": {},
   "source": [
    "**Formula**  \n",
    "\n",
    "- for each states:\n",
    "    - **Note:** proportion of ppl get sick who are in labor force (current unemployment rate, by age)\n",
    "\n",
    "$$unquarantine\\_ change\\_ rate=\\sum_{i=0}^{n} \\sum_{j=0}^{m}{proportion\\_of\\_state\\_sick_{i,j}}\\times{proportion\\_of\\_inds\\_in\\_state_{i,j}}$$\n",
    "$$n: number \\space of \\space states$$\n",
    "$$m: number \\space of \\space industries$$\n",
    "\n",
    "\n",
    "- Depending on how much data we have, we could put _shock_ in the formula (financial crsis, hospital bed overflow) \n",
    "    \n",
    "- quarantine_change_rate (come back to this)\n",
    "    - we should not assume quarantine rate for all the states, might need diff quarantine states\n",
    "    - Jenn: current quarantine measures for each states\n",
    "    - WFH possibility will diff from industry\n",
    "    - layoffs\n",
    "\n",
    "- Health care cost "
   ]
  },
  {
   "cell_type": "markdown",
   "metadata": {},
   "source": [
    "## Data\n",
    "- employment 2019\n",
    "- covid 19 confirmed cases\n",
    "- states populations :https://www.census.gov/quickfacts/NY\n"
   ]
  },
  {
   "cell_type": "markdown",
   "metadata": {},
   "source": [
    "### employment"
   ]
  },
  {
   "cell_type": "code",
   "execution_count": 18,
   "metadata": {
    "scrolled": true
   },
   "outputs": [],
   "source": [
    "employment_ny = wrangle.get_ny_employment()"
   ]
  },
  {
   "cell_type": "code",
   "execution_count": 19,
   "metadata": {},
   "outputs": [
    {
     "data": {
      "text/html": [
       "<div>\n",
       "<style scoped>\n",
       "    .dataframe tbody tr th:only-of-type {\n",
       "        vertical-align: middle;\n",
       "    }\n",
       "\n",
       "    .dataframe tbody tr th {\n",
       "        vertical-align: top;\n",
       "    }\n",
       "\n",
       "    .dataframe thead th {\n",
       "        text-align: right;\n",
       "    }\n",
       "</style>\n",
       "<table border=\"1\" class=\"dataframe\">\n",
       "  <thead>\n",
       "    <tr style=\"text-align: right;\">\n",
       "      <th></th>\n",
       "      <th>naics_code</th>\n",
       "      <th>industry</th>\n",
       "      <th>2019</th>\n",
       "      <th>2021</th>\n",
       "      <th>net_change</th>\n",
       "      <th>pct_change</th>\n",
       "    </tr>\n",
       "  </thead>\n",
       "  <tbody>\n",
       "    <tr>\n",
       "      <th>1</th>\n",
       "      <td>601</td>\n",
       "      <td>Total Self Employed, All Jobs</td>\n",
       "      <td>570590</td>\n",
       "      <td>577460</td>\n",
       "      <td>6870</td>\n",
       "      <td>0.0120402</td>\n",
       "    </tr>\n",
       "    <tr>\n",
       "      <th>2</th>\n",
       "      <td>11</td>\n",
       "      <td>Agriculture, Forestry, Fishing and Hunting</td>\n",
       "      <td>31180</td>\n",
       "      <td>31870</td>\n",
       "      <td>690</td>\n",
       "      <td>0.0221296</td>\n",
       "    </tr>\n",
       "    <tr>\n",
       "      <th>8</th>\n",
       "      <td>21</td>\n",
       "      <td>Mining</td>\n",
       "      <td>4230</td>\n",
       "      <td>4550</td>\n",
       "      <td>320</td>\n",
       "      <td>0.0756501</td>\n",
       "    </tr>\n",
       "    <tr>\n",
       "      <th>12</th>\n",
       "      <td>22</td>\n",
       "      <td>Utilities</td>\n",
       "      <td>36700</td>\n",
       "      <td>36430</td>\n",
       "      <td>-270</td>\n",
       "      <td>-0.00735695</td>\n",
       "    </tr>\n",
       "    <tr>\n",
       "      <th>13</th>\n",
       "      <td>23</td>\n",
       "      <td>Construction</td>\n",
       "      <td>380940</td>\n",
       "      <td>390570</td>\n",
       "      <td>9630</td>\n",
       "      <td>0.0252796</td>\n",
       "    </tr>\n",
       "  </tbody>\n",
       "</table>\n",
       "</div>"
      ],
      "text/plain": [
       "    naics_code                                    industry    2019    2021  \\\n",
       "1          601               Total Self Employed, All Jobs  570590  577460   \n",
       "2           11  Agriculture, Forestry, Fishing and Hunting   31180   31870   \n",
       "8           21                                      Mining    4230    4550   \n",
       "12          22                                   Utilities   36700   36430   \n",
       "13          23                                Construction  380940  390570   \n",
       "\n",
       "   net_change  pct_change  \n",
       "1        6870   0.0120402  \n",
       "2         690   0.0221296  \n",
       "8         320   0.0756501  \n",
       "12       -270 -0.00735695  \n",
       "13       9630   0.0252796  "
      ]
     },
     "execution_count": 19,
     "metadata": {},
     "output_type": "execute_result"
    }
   ],
   "source": [
    "employment_ny.head()"
   ]
  },
  {
   "cell_type": "code",
   "execution_count": 20,
   "metadata": {},
   "outputs": [],
   "source": [
    "employment_nj = wrangle.get_nj_employment()"
   ]
  },
  {
   "cell_type": "code",
   "execution_count": 21,
   "metadata": {},
   "outputs": [
    {
     "data": {
      "text/html": [
       "<div>\n",
       "<style scoped>\n",
       "    .dataframe tbody tr th:only-of-type {\n",
       "        vertical-align: middle;\n",
       "    }\n",
       "\n",
       "    .dataframe tbody tr th {\n",
       "        vertical-align: top;\n",
       "    }\n",
       "\n",
       "    .dataframe thead th {\n",
       "        text-align: right;\n",
       "    }\n",
       "</style>\n",
       "<table border=\"1\" class=\"dataframe\">\n",
       "  <thead>\n",
       "    <tr style=\"text-align: right;\">\n",
       "      <th></th>\n",
       "      <th>industry</th>\n",
       "      <th>2016</th>\n",
       "      <th>2026</th>\n",
       "      <th>net_change</th>\n",
       "      <th>pct_change</th>\n",
       "    </tr>\n",
       "  </thead>\n",
       "  <tbody>\n",
       "    <tr>\n",
       "      <th>0</th>\n",
       "      <td>Total Nonfarm</td>\n",
       "      <td>4073600</td>\n",
       "      <td>4402180</td>\n",
       "      <td>328580</td>\n",
       "      <td>0.778744</td>\n",
       "    </tr>\n",
       "    <tr>\n",
       "      <th>1</th>\n",
       "      <td>Total Private Sector</td>\n",
       "      <td>3792200</td>\n",
       "      <td>4134190</td>\n",
       "      <td>341990</td>\n",
       "      <td>0.867189</td>\n",
       "    </tr>\n",
       "    <tr>\n",
       "      <th>2</th>\n",
       "      <td>Goods Producing</td>\n",
       "      <td>397000</td>\n",
       "      <td>429740</td>\n",
       "      <td>32740</td>\n",
       "      <td>0.795589</td>\n",
       "    </tr>\n",
       "    <tr>\n",
       "      <th>3</th>\n",
       "      <td>Natural Resources and Mining</td>\n",
       "      <td>1300</td>\n",
       "      <td>1400</td>\n",
       "      <td>100</td>\n",
       "      <td>0.743833</td>\n",
       "    </tr>\n",
       "    <tr>\n",
       "      <th>4</th>\n",
       "      <td>Construction</td>\n",
       "      <td>153600</td>\n",
       "      <td>176260</td>\n",
       "      <td>22660</td>\n",
       "      <td>1.3856</td>\n",
       "    </tr>\n",
       "  </tbody>\n",
       "</table>\n",
       "</div>"
      ],
      "text/plain": [
       "                       industry     2016     2026 net_change pct_change\n",
       "0                 Total Nonfarm  4073600  4402180     328580   0.778744\n",
       "1          Total Private Sector  3792200  4134190     341990   0.867189\n",
       "2               Goods Producing   397000   429740      32740   0.795589\n",
       "3  Natural Resources and Mining     1300     1400        100   0.743833\n",
       "4                  Construction   153600   176260      22660     1.3856"
      ]
     },
     "execution_count": 21,
     "metadata": {},
     "output_type": "execute_result"
    }
   ],
   "source": [
    "employment_nj.head()"
   ]
  },
  {
   "cell_type": "code",
   "execution_count": 43,
   "metadata": {},
   "outputs": [
    {
     "data": {
      "text/plain": [
       "1                   Total Self Employed, All Jobs\n",
       "2      Agriculture, Forestry, Fishing and Hunting\n",
       "8                                          Mining\n",
       "12                                      Utilities\n",
       "13                                   Construction\n",
       "17                                  Manufacturing\n",
       "39                                Wholesale Trade\n",
       "43                                   Retail Trade\n",
       "56                 Transportation and Warehousing\n",
       "67                                    Information\n",
       "74                           Financial Activities\n",
       "81             Professional and Business Services\n",
       "86                           Educational Services\n",
       "87              Health Care and Social Assistance\n",
       "92            Arts, Entertainment, and Recreation\n",
       "96                Accommodation and Food Services\n",
       "99             Other Services (except Government)\n",
       "104                                    Government\n",
       "Name: industry, dtype: object"
      ]
     },
     "execution_count": 43,
     "metadata": {},
     "output_type": "execute_result"
    }
   ],
   "source": [
    "employment_ny.industry"
   ]
  },
  {
   "cell_type": "markdown",
   "metadata": {},
   "source": [
    "### covid 19"
   ]
  },
  {
   "cell_type": "code",
   "execution_count": 28,
   "metadata": {},
   "outputs": [],
   "source": [
    "covid19_us = wrangle.get_covid_data(date = \"03-30-2020\")"
   ]
  },
  {
   "cell_type": "code",
   "execution_count": 29,
   "metadata": {},
   "outputs": [],
   "source": [
    "ny_confirmed = covid19_us.loc[covid19_us[\"Province_State\"] == \"New York\", \"Confirmed\"].sum()"
   ]
  },
  {
   "cell_type": "markdown",
   "metadata": {},
   "source": [
    "### population"
   ]
  },
  {
   "cell_type": "code",
   "execution_count": 30,
   "metadata": {},
   "outputs": [],
   "source": [
    "population_2019 = wrangle.get_population_data()"
   ]
  },
  {
   "cell_type": "code",
   "execution_count": 31,
   "metadata": {},
   "outputs": [
    {
     "data": {
      "text/html": [
       "<div>\n",
       "<style scoped>\n",
       "    .dataframe tbody tr th:only-of-type {\n",
       "        vertical-align: middle;\n",
       "    }\n",
       "\n",
       "    .dataframe tbody tr th {\n",
       "        vertical-align: top;\n",
       "    }\n",
       "\n",
       "    .dataframe thead th {\n",
       "        text-align: right;\n",
       "    }\n",
       "</style>\n",
       "<table border=\"1\" class=\"dataframe\">\n",
       "  <thead>\n",
       "    <tr style=\"text-align: right;\">\n",
       "      <th></th>\n",
       "      <th>SUMLEV</th>\n",
       "      <th>REGION</th>\n",
       "      <th>DIVISION</th>\n",
       "      <th>STATE</th>\n",
       "      <th>NAME</th>\n",
       "      <th>POPESTIMATE2019</th>\n",
       "      <th>POPEST18PLUS2019</th>\n",
       "      <th>PCNT_POPEST18PLUS</th>\n",
       "    </tr>\n",
       "  </thead>\n",
       "  <tbody>\n",
       "    <tr>\n",
       "      <th>0</th>\n",
       "      <td>10</td>\n",
       "      <td>0</td>\n",
       "      <td>0</td>\n",
       "      <td>0</td>\n",
       "      <td>United States</td>\n",
       "      <td>328239523</td>\n",
       "      <td>255200373</td>\n",
       "      <td>77.7</td>\n",
       "    </tr>\n",
       "    <tr>\n",
       "      <th>1</th>\n",
       "      <td>40</td>\n",
       "      <td>3</td>\n",
       "      <td>6</td>\n",
       "      <td>1</td>\n",
       "      <td>Alabama</td>\n",
       "      <td>4903185</td>\n",
       "      <td>3814879</td>\n",
       "      <td>77.8</td>\n",
       "    </tr>\n",
       "    <tr>\n",
       "      <th>2</th>\n",
       "      <td>40</td>\n",
       "      <td>4</td>\n",
       "      <td>9</td>\n",
       "      <td>2</td>\n",
       "      <td>Alaska</td>\n",
       "      <td>731545</td>\n",
       "      <td>551562</td>\n",
       "      <td>75.4</td>\n",
       "    </tr>\n",
       "    <tr>\n",
       "      <th>3</th>\n",
       "      <td>40</td>\n",
       "      <td>4</td>\n",
       "      <td>8</td>\n",
       "      <td>4</td>\n",
       "      <td>Arizona</td>\n",
       "      <td>7278717</td>\n",
       "      <td>5638481</td>\n",
       "      <td>77.5</td>\n",
       "    </tr>\n",
       "    <tr>\n",
       "      <th>4</th>\n",
       "      <td>40</td>\n",
       "      <td>3</td>\n",
       "      <td>7</td>\n",
       "      <td>5</td>\n",
       "      <td>Arkansas</td>\n",
       "      <td>3017804</td>\n",
       "      <td>2317649</td>\n",
       "      <td>76.8</td>\n",
       "    </tr>\n",
       "  </tbody>\n",
       "</table>\n",
       "</div>"
      ],
      "text/plain": [
       "   SUMLEV REGION DIVISION  STATE           NAME  POPESTIMATE2019  \\\n",
       "0      10      0        0      0  United States        328239523   \n",
       "1      40      3        6      1        Alabama          4903185   \n",
       "2      40      4        9      2         Alaska           731545   \n",
       "3      40      4        8      4        Arizona          7278717   \n",
       "4      40      3        7      5       Arkansas          3017804   \n",
       "\n",
       "   POPEST18PLUS2019  PCNT_POPEST18PLUS  \n",
       "0         255200373               77.7  \n",
       "1           3814879               77.8  \n",
       "2            551562               75.4  \n",
       "3           5638481               77.5  \n",
       "4           2317649               76.8  "
      ]
     },
     "execution_count": 31,
     "metadata": {},
     "output_type": "execute_result"
    }
   ],
   "source": [
    "population_2019.head()"
   ]
  },
  {
   "cell_type": "code",
   "execution_count": 32,
   "metadata": {},
   "outputs": [],
   "source": [
    "ny_pop = population_2019.loc[population_2019[\"NAME\"] == \"New York\",\"POPESTIMATE2019\"].values[0]"
   ]
  },
  {
   "cell_type": "code",
   "execution_count": 33,
   "metadata": {},
   "outputs": [
    {
     "data": {
      "text/plain": [
       "0.0034267762082222375"
      ]
     },
     "execution_count": 33,
     "metadata": {},
     "output_type": "execute_result"
    }
   ],
   "source": [
    "ny_confirmed/ny_pop"
   ]
  },
  {
   "cell_type": "markdown",
   "metadata": {},
   "source": [
    "### GDP"
   ]
  },
  {
   "cell_type": "code",
   "execution_count": 34,
   "metadata": {},
   "outputs": [],
   "source": [
    "gdp_dir = os.path.join(os.getcwd(),\"data/qgdpstate0120_2.pdf\")"
   ]
  },
  {
   "cell_type": "code",
   "execution_count": 35,
   "metadata": {},
   "outputs": [],
   "source": [
    "gdp_states = wrangle.get_gdp_by_states(data_dir=gdp_dir)"
   ]
  },
  {
   "cell_type": "code",
   "execution_count": 36,
   "metadata": {},
   "outputs": [],
   "source": [
    "gdp_states_inds = wrangle.get_gdp_pct_by_states_by_inds(data_dir=gdp_dir)"
   ]
  },
  {
   "cell_type": "code",
   "execution_count": 37,
   "metadata": {},
   "outputs": [
    {
     "data": {
      "text/html": [
       "<div>\n",
       "<style scoped>\n",
       "    .dataframe tbody tr th:only-of-type {\n",
       "        vertical-align: middle;\n",
       "    }\n",
       "\n",
       "    .dataframe tbody tr th {\n",
       "        vertical-align: top;\n",
       "    }\n",
       "\n",
       "    .dataframe thead th {\n",
       "        text-align: right;\n",
       "    }\n",
       "</style>\n",
       "<table border=\"1\" class=\"dataframe\">\n",
       "  <thead>\n",
       "    <tr style=\"text-align: right;\">\n",
       "      <th></th>\n",
       "      <th>areas</th>\n",
       "      <th>2018-1</th>\n",
       "      <th>2018-2</th>\n",
       "      <th>2018-3</th>\n",
       "      <th>2018-4</th>\n",
       "      <th>2019-1</th>\n",
       "      <th>2019-2</th>\n",
       "      <th>2019-3</th>\n",
       "    </tr>\n",
       "  </thead>\n",
       "  <tbody>\n",
       "    <tr>\n",
       "      <th>0</th>\n",
       "      <td>United States</td>\n",
       "      <td>20,163,159</td>\n",
       "      <td>20,510,177</td>\n",
       "      <td>20,749,752</td>\n",
       "      <td>20,897,804</td>\n",
       "      <td>21,098,827</td>\n",
       "      <td>21,340,267</td>\n",
       "      <td>21,542,540</td>\n",
       "    </tr>\n",
       "    <tr>\n",
       "      <th>1</th>\n",
       "      <td>New England</td>\n",
       "      <td>1,070,863</td>\n",
       "      <td>1,084,947</td>\n",
       "      <td>1,096,174</td>\n",
       "      <td>1,101,531</td>\n",
       "      <td>1,118,703</td>\n",
       "      <td>1,130,084</td>\n",
       "      <td>1,142,586</td>\n",
       "    </tr>\n",
       "    <tr>\n",
       "      <th>2</th>\n",
       "      <td>Connecticut</td>\n",
       "      <td>272,854</td>\n",
       "      <td>273,884</td>\n",
       "      <td>278,295</td>\n",
       "      <td>277,874</td>\n",
       "      <td>281,659</td>\n",
       "      <td>284,357</td>\n",
       "      <td>287,560</td>\n",
       "    </tr>\n",
       "    <tr>\n",
       "      <th>3</th>\n",
       "      <td>Maine</td>\n",
       "      <td>63,698</td>\n",
       "      <td>64,746</td>\n",
       "      <td>65,434</td>\n",
       "      <td>65,545</td>\n",
       "      <td>66,590</td>\n",
       "      <td>67,138</td>\n",
       "      <td>67,905</td>\n",
       "    </tr>\n",
       "    <tr>\n",
       "      <th>4</th>\n",
       "      <td>Massachusetts</td>\n",
       "      <td>558,472</td>\n",
       "      <td>568,220</td>\n",
       "      <td>573,506</td>\n",
       "      <td>577,754</td>\n",
       "      <td>586,347</td>\n",
       "      <td>592,588</td>\n",
       "      <td>599,092</td>\n",
       "    </tr>\n",
       "  </tbody>\n",
       "</table>\n",
       "</div>"
      ],
      "text/plain": [
       "           areas      2018-1      2018-2      2018-3      2018-4      2019-1  \\\n",
       "0  United States  20,163,159  20,510,177  20,749,752  20,897,804  21,098,827   \n",
       "1    New England   1,070,863   1,084,947   1,096,174   1,101,531   1,118,703   \n",
       "2    Connecticut     272,854     273,884     278,295     277,874     281,659   \n",
       "3          Maine      63,698      64,746      65,434      65,545      66,590   \n",
       "4  Massachusetts     558,472     568,220     573,506     577,754     586,347   \n",
       "\n",
       "       2019-2      2019-3  \n",
       "0  21,340,267  21,542,540  \n",
       "1   1,130,084   1,142,586  \n",
       "2     284,357     287,560  \n",
       "3      67,138      67,905  \n",
       "4     592,588     599,092  "
      ]
     },
     "execution_count": 37,
     "metadata": {},
     "output_type": "execute_result"
    }
   ],
   "source": [
    "gdp_states.head()"
   ]
  },
  {
   "cell_type": "code",
   "execution_count": 38,
   "metadata": {},
   "outputs": [
    {
     "data": {
      "text/html": [
       "<div>\n",
       "<style scoped>\n",
       "    .dataframe tbody tr th:only-of-type {\n",
       "        vertical-align: middle;\n",
       "    }\n",
       "\n",
       "    .dataframe tbody tr th {\n",
       "        vertical-align: top;\n",
       "    }\n",
       "\n",
       "    .dataframe thead th {\n",
       "        text-align: right;\n",
       "    }\n",
       "</style>\n",
       "<table border=\"1\" class=\"dataframe\">\n",
       "  <thead>\n",
       "    <tr style=\"text-align: right;\">\n",
       "      <th></th>\n",
       "      <th>areas</th>\n",
       "      <th>states_overall</th>\n",
       "      <th>agriculture_forestry_fishing_insuranceand_hunting</th>\n",
       "      <th>mining_quarrying_and_oil_and_gas_extraction</th>\n",
       "      <th>utilities</th>\n",
       "      <th>construction</th>\n",
       "      <th>retail_trade</th>\n",
       "      <th>transportation_and_warehousing</th>\n",
       "      <th>durable_goods_manufacturing</th>\n",
       "      <th>nondurable_goods_manufacturing</th>\n",
       "      <th>...</th>\n",
       "      <th>management_of_companies_and_enterprises</th>\n",
       "      <th>administrative_and_support_and_waste_management_and_remediation_services</th>\n",
       "      <th>arts_entertainment_and_recreation</th>\n",
       "      <th>accomodation_and_food_services</th>\n",
       "      <th>real_estate_and_rental_and_leasing</th>\n",
       "      <th>professional_scientific_and_technical_services</th>\n",
       "      <th>educational_services</th>\n",
       "      <th>health_care_and_social_assistance</th>\n",
       "      <th>other_services_except_government_and_government_enterprises_</th>\n",
       "      <th>government_and_government_enterprises</th>\n",
       "    </tr>\n",
       "  </thead>\n",
       "  <tbody>\n",
       "    <tr>\n",
       "      <th>0</th>\n",
       "      <td>United States</td>\n",
       "      <td>2.1</td>\n",
       "      <td>0.06</td>\n",
       "      <td>0.11</td>\n",
       "      <td>-0.26</td>\n",
       "      <td>-0.09</td>\n",
       "      <td>0.43</td>\n",
       "      <td>-0.03</td>\n",
       "      <td>0.01</td>\n",
       "      <td>0.46</td>\n",
       "      <td>...</td>\n",
       "      <td>0.16</td>\n",
       "      <td>0.10</td>\n",
       "      <td>0.02</td>\n",
       "      <td>0.17</td>\n",
       "      <td>0.11</td>\n",
       "      <td>0.42</td>\n",
       "      <td>0.08</td>\n",
       "      <td>0.19</td>\n",
       "      <td>0.05</td>\n",
       "      <td>0.01</td>\n",
       "    </tr>\n",
       "    <tr>\n",
       "      <th>1</th>\n",
       "      <td>New England</td>\n",
       "      <td>2.1</td>\n",
       "      <td>0.01</td>\n",
       "      <td>0.01</td>\n",
       "      <td>-0.24</td>\n",
       "      <td>-0.09</td>\n",
       "      <td>0.39</td>\n",
       "      <td>-0.02</td>\n",
       "      <td>0.02</td>\n",
       "      <td>0.33</td>\n",
       "      <td>...</td>\n",
       "      <td>0.20</td>\n",
       "      <td>0.12</td>\n",
       "      <td>0.04</td>\n",
       "      <td>0.17</td>\n",
       "      <td>0.09</td>\n",
       "      <td>0.56</td>\n",
       "      <td>0.23</td>\n",
       "      <td>0.21</td>\n",
       "      <td>0.05</td>\n",
       "      <td>-0.01</td>\n",
       "    </tr>\n",
       "    <tr>\n",
       "      <th>2</th>\n",
       "      <td>Connecticut</td>\n",
       "      <td>2.1</td>\n",
       "      <td>0.00</td>\n",
       "      <td>0.00</td>\n",
       "      <td>-0.27</td>\n",
       "      <td>-0.15</td>\n",
       "      <td>0.39</td>\n",
       "      <td>-0.01</td>\n",
       "      <td>0.02</td>\n",
       "      <td>0.71</td>\n",
       "      <td>...</td>\n",
       "      <td>0.19</td>\n",
       "      <td>0.11</td>\n",
       "      <td>0.04</td>\n",
       "      <td>0.11</td>\n",
       "      <td>0.03</td>\n",
       "      <td>0.37</td>\n",
       "      <td>0.27</td>\n",
       "      <td>0.17</td>\n",
       "      <td>0.07</td>\n",
       "      <td>-0.04</td>\n",
       "    </tr>\n",
       "    <tr>\n",
       "      <th>3</th>\n",
       "      <td>Maine</td>\n",
       "      <td>2.1</td>\n",
       "      <td>0.01</td>\n",
       "      <td>0.00</td>\n",
       "      <td>-0.22</td>\n",
       "      <td>0.04</td>\n",
       "      <td>0.72</td>\n",
       "      <td>0.01</td>\n",
       "      <td>-0.02</td>\n",
       "      <td>0.29</td>\n",
       "      <td>...</td>\n",
       "      <td>0.27</td>\n",
       "      <td>0.15</td>\n",
       "      <td>0.05</td>\n",
       "      <td>0.33</td>\n",
       "      <td>0.07</td>\n",
       "      <td>0.26</td>\n",
       "      <td>0.06</td>\n",
       "      <td>0.15</td>\n",
       "      <td>0.05</td>\n",
       "      <td>-0.10</td>\n",
       "    </tr>\n",
       "    <tr>\n",
       "      <th>4</th>\n",
       "      <td>Massachusetts</td>\n",
       "      <td>2.2</td>\n",
       "      <td>0.02</td>\n",
       "      <td>0.01</td>\n",
       "      <td>-0.21</td>\n",
       "      <td>-0.11</td>\n",
       "      <td>0.31</td>\n",
       "      <td>-0.03</td>\n",
       "      <td>0.04</td>\n",
       "      <td>0.21</td>\n",
       "      <td>...</td>\n",
       "      <td>0.20</td>\n",
       "      <td>0.10</td>\n",
       "      <td>0.03</td>\n",
       "      <td>0.16</td>\n",
       "      <td>0.13</td>\n",
       "      <td>0.72</td>\n",
       "      <td>0.24</td>\n",
       "      <td>0.22</td>\n",
       "      <td>0.05</td>\n",
       "      <td>0.00</td>\n",
       "    </tr>\n",
       "  </tbody>\n",
       "</table>\n",
       "<p>5 rows × 23 columns</p>\n",
       "</div>"
      ],
      "text/plain": [
       "           areas states_overall  \\\n",
       "0  United States            2.1   \n",
       "1    New England            2.1   \n",
       "2    Connecticut            2.1   \n",
       "3          Maine            2.1   \n",
       "4  Massachusetts            2.2   \n",
       "\n",
       "  agriculture_forestry_fishing_insuranceand_hunting  \\\n",
       "0                                              0.06   \n",
       "1                                              0.01   \n",
       "2                                              0.00   \n",
       "3                                              0.01   \n",
       "4                                              0.02   \n",
       "\n",
       "  mining_quarrying_and_oil_and_gas_extraction utilities construction  \\\n",
       "0                                        0.11     -0.26        -0.09   \n",
       "1                                        0.01     -0.24        -0.09   \n",
       "2                                        0.00     -0.27        -0.15   \n",
       "3                                        0.00     -0.22         0.04   \n",
       "4                                        0.01     -0.21        -0.11   \n",
       "\n",
       "  retail_trade transportation_and_warehousing durable_goods_manufacturing  \\\n",
       "0         0.43                          -0.03                        0.01   \n",
       "1         0.39                          -0.02                        0.02   \n",
       "2         0.39                          -0.01                        0.02   \n",
       "3         0.72                           0.01                       -0.02   \n",
       "4         0.31                          -0.03                        0.04   \n",
       "\n",
       "  nondurable_goods_manufacturing  ... management_of_companies_and_enterprises  \\\n",
       "0                           0.46  ...                                    0.16   \n",
       "1                           0.33  ...                                    0.20   \n",
       "2                           0.71  ...                                    0.19   \n",
       "3                           0.29  ...                                    0.27   \n",
       "4                           0.21  ...                                    0.20   \n",
       "\n",
       "  administrative_and_support_and_waste_management_and_remediation_services  \\\n",
       "0                                               0.10                         \n",
       "1                                               0.12                         \n",
       "2                                               0.11                         \n",
       "3                                               0.15                         \n",
       "4                                               0.10                         \n",
       "\n",
       "  arts_entertainment_and_recreation accomodation_and_food_services  \\\n",
       "0                              0.02                           0.17   \n",
       "1                              0.04                           0.17   \n",
       "2                              0.04                           0.11   \n",
       "3                              0.05                           0.33   \n",
       "4                              0.03                           0.16   \n",
       "\n",
       "  real_estate_and_rental_and_leasing  \\\n",
       "0                               0.11   \n",
       "1                               0.09   \n",
       "2                               0.03   \n",
       "3                               0.07   \n",
       "4                               0.13   \n",
       "\n",
       "   professional_scientific_and_technical_services educational_services  \\\n",
       "0                                            0.42                 0.08   \n",
       "1                                            0.56                 0.23   \n",
       "2                                            0.37                 0.27   \n",
       "3                                            0.26                 0.06   \n",
       "4                                            0.72                 0.24   \n",
       "\n",
       "  health_care_and_social_assistance  \\\n",
       "0                              0.19   \n",
       "1                              0.21   \n",
       "2                              0.17   \n",
       "3                              0.15   \n",
       "4                              0.22   \n",
       "\n",
       "  other_services_except_government_and_government_enterprises_  \\\n",
       "0                                               0.05             \n",
       "1                                               0.05             \n",
       "2                                               0.07             \n",
       "3                                               0.05             \n",
       "4                                               0.05             \n",
       "\n",
       "  government_and_government_enterprises  \n",
       "0                                  0.01  \n",
       "1                                 -0.01  \n",
       "2                                 -0.04  \n",
       "3                                 -0.10  \n",
       "4                                  0.00  \n",
       "\n",
       "[5 rows x 23 columns]"
      ]
     },
     "execution_count": 38,
     "metadata": {},
     "output_type": "execute_result"
    }
   ],
   "source": [
    "gdp_states_inds.head()"
   ]
  },
  {
   "cell_type": "markdown",
   "metadata": {},
   "source": [
    "## unquarantine_change_rate: "
   ]
  },
  {
   "cell_type": "code",
   "execution_count": 42,
   "metadata": {},
   "outputs": [
    {
     "data": {
      "text/plain": [
       "1      0.000191\n",
       "2      0.000010\n",
       "8      0.000001\n",
       "12     0.000012\n",
       "13     0.000128\n",
       "17     0.000148\n",
       "39     0.000108\n",
       "43     0.000311\n",
       "56     0.000094\n",
       "67     0.000091\n",
       "74     0.000238\n",
       "81     0.000441\n",
       "86     0.000399\n",
       "87     0.000560\n",
       "92     0.000056\n",
       "96     0.000252\n",
       "99     0.000146\n",
       "104    0.000241\n",
       "Name: 2019, dtype: float64"
      ]
     },
     "execution_count": 42,
     "metadata": {},
     "output_type": "execute_result"
    }
   ],
   "source": [
    "(employment_ny['2019']/sum(employment_ny['2019']))*(ny_confirmed/ny_pop)"
   ]
  },
  {
   "cell_type": "code",
   "execution_count": 10,
   "metadata": {},
   "outputs": [],
   "source": [
    "def get_unquarantine_change_rate():\n",
    "    \n",
    "    return \n",
    "    "
   ]
  },
  {
   "cell_type": "markdown",
   "metadata": {},
   "source": [
    "- output\n",
    "\n",
    "(total dollar producted per hours of work) * (total hours put in)\n",
    "- pandemic in various way \n",
    "    - affect # of hours or value come out of the hours \n",
    "        - in quarn affected inds, dollar value per hours go down (nobody buys the product), entertament, macy's\n",
    "        \n",
    "        - num of hours: ppl get sick not able to work (especially die), reduce # of hours, tradeoff: forcing business to close, reducing dollar value. E.g. Blackstone, \n",
    "    - "
   ]
  },
  {
   "cell_type": "markdown",
   "metadata": {},
   "source": [
    "**Next:**\n",
    "- use the code SEIR, along with initial condition nytimes, provide state level number of discese ineffected, by state, by industry, and then hours reduction and dollar value\n",
    "\n",
    "- then link to state level eco data"
   ]
  },
  {
   "cell_type": "markdown",
   "metadata": {},
   "source": [
    "## SEIR Model \n",
    "- by Christian Hubbs: https://towardsdatascience.com/social-distancing-to-slow-the-coronavirus-768292f04296\n",
    "\n",
    "- S - Susceptible, E - Exposed, I - Infected, R - Recovered\n",
    "- inputs: init_vals: S_0 = 1-1/n, E_0 = 1/N, I_0, R_0\n",
    "\n",
    "- No death rate incoporated"
   ]
  },
  {
   "cell_type": "code",
   "execution_count": 56,
   "metadata": {},
   "outputs": [],
   "source": [
    "def base_seir_model(init_vals, params, t):\n",
    "    S_0, E_0, I_0, R_0 = init_vals\n",
    "    S, E, I, R = [S_0], [E_0], [I_0], [R_0]\n",
    "    alpha, beta, gamma = params\n",
    "    dt = t[1] - t[0]\n",
    "    for _ in t[1:]:\n",
    "        next_S = S[-1] - (beta*S[-1]*I[-1])*dt\n",
    "        next_E = E[-1] + (beta*S[-1]*I[-1] - alpha*E[-1])*dt\n",
    "        next_I = I[-1] + (alpha*E[-1] - gamma*I[-1])*dt\n",
    "        next_R = R[-1] + (gamma*I[-1])*dt\n",
    "        S.append(next_S)\n",
    "        E.append(next_E)\n",
    "        I.append(next_I)\n",
    "        R.append(next_R)\n",
    "    return np.stack([S, E, I, R]).T"
   ]
  },
  {
   "cell_type": "markdown",
   "metadata": {},
   "source": [
    "- ρ, to capture our social distancing effect. This is going to be a constant term between 0–1, where 0 indicates everyone is locked down and quarantined while 1 is equivalent to our base case above."
   ]
  },
  {
   "cell_type": "code",
   "execution_count": 62,
   "metadata": {},
   "outputs": [],
   "source": [
    "def seir_model_with_soc_dist(init_vals, params, t):\n",
    "    S_0, E_0, I_0, R_0 = init_vals\n",
    "    S, E, I, R = [S_0], [E_0], [I_0], [R_0]\n",
    "    alpha, beta, gamma, rho = params\n",
    "    dt = t[1] - t[0]\n",
    "    for _ in t[1:]:\n",
    "        next_S = S[-1] - (rho*beta*S[-1]*I[-1])*dt\n",
    "        next_E = E[-1] + (rho*beta*S[-1]*I[-1] - alpha*E[-1])*dt\n",
    "        next_I = I[-1] + (alpha*E[-1] - gamma*I[-1])*dt\n",
    "        next_R = R[-1] + (gamma*I[-1])*dt\n",
    "        S.append(next_S)\n",
    "        E.append(next_E)\n",
    "        I.append(next_I)\n",
    "        R.append(next_R)\n",
    "    return np.stack([S, E, I, R]).T"
   ]
  },
  {
   "cell_type": "markdown",
   "metadata": {},
   "source": [
    "- So if we assume we have 10k people in our population, and we begin with one exposed person and the remaining 9,999 susceptible, we have:"
   ]
  },
  {
   "cell_type": "code",
   "execution_count": 92,
   "metadata": {},
   "outputs": [],
   "source": [
    "# Define parameters\n",
    "t_max = 365\n",
    "dt = 1\n",
    "t = np.linspace(0, t_max, int(t_max/dt) + 1)\n",
    "N = ny_pop\n",
    "n = ny_confirmed\n",
    "init_vals = 1 - n/N, n/N, 0, 0\n",
    "alpha = 0.2\n",
    "beta = 1.75\n",
    "gamma = 0.5\n",
    "params = alpha, beta, gamma\n",
    "# Run simulation\n",
    "results = base_seir_model(init_vals, params, t)\n",
    "rho = 0.5\n",
    "params = alpha, beta, gamma, rho\n",
    "results2= seir_model_with_soc_dist(init_vals, params, t)"
   ]
  },
  {
   "cell_type": "code",
   "execution_count": 111,
   "metadata": {},
   "outputs": [
    {
     "data": {
      "text/plain": [
       "<matplotlib.legend.Legend at 0x12565d390>"
      ]
     },
     "execution_count": 111,
     "metadata": {},
     "output_type": "execute_result"
    },
    {
     "data": {
      "image/png": "[encoded data removed]",
      "text/plain": [
       "<Figure size 432x288 with 1 Axes>"
      ]
     },
     "metadata": {
      "needs_background": "light"
     },
     "output_type": "display_data"
    }
   ],
   "source": [
    "\n",
    "plt.plot(pd.DataFrame(results)[0], label = \"S\")\n",
    "plt.plot(pd.DataFrame(results)[1], label = \"E\")\n",
    "plt.plot(pd.DataFrame(results)[2], label = \"I\")\n",
    "plt.plot(pd.DataFrame(results)[3], label = \"R\")\n",
    "\n",
    "plt.legend()"
   ]
  },
  {
   "cell_type": "code",
   "execution_count": 101,
   "metadata": {},
   "outputs": [],
   "source": [
    "def get_infections_number(t_max, dt, N, n,alpha,beta,gamma,rho):\n",
    "    t = np.linspace(0, t_max, int(t_max/dt) + 1)\n",
    "    init_vals = 1 - n/N, n/N, 0, 0\n",
    "    params = alpha, beta, gamma, rho\n",
    "    results = seir_model_with_soc_dist(init_vals, params, t)\n",
    "    return pd.DataFrame(results)[2]*N"
   ]
  },
  {
   "cell_type": "code",
   "execution_count": 102,
   "metadata": {},
   "outputs": [],
   "source": [
    "r = get_infections_number(t_max=t_max,dt=dt,N=N, n=n, alpha=alpha, beta=beta, gamma=gamma,rho=rho)"
   ]
  },
  {
   "cell_type": "code",
   "execution_count": 112,
   "metadata": {},
   "outputs": [],
   "source": [
    "r_no_dist = get_infections_number(t_max=t_max,dt=dt,N=N, n=n, alpha=alpha, beta=beta, gamma=gamma,rho=1)"
   ]
  },
  {
   "cell_type": "code",
   "execution_count": 113,
   "metadata": {},
   "outputs": [
    {
     "data": {
      "text/plain": [
       "[<matplotlib.lines.Line2D at 0x125518450>]"
      ]
     },
     "execution_count": 113,
     "metadata": {},
     "output_type": "execute_result"
    },
    {
     "data": {
      "image/png": "[encoded data removed]",
      "text/plain": [
       "<Figure size 432x288 with 1 Axes>"
      ]
     },
     "metadata": {
      "needs_background": "light"
     },
     "output_type": "display_data"
    }
   ],
   "source": [
    "plt.plot(r)\n",
    "plt.plot(r_no_dist)"
   ]
  },
  {
   "cell_type": "markdown",
   "metadata": {},
   "source": [
    "## Infections \n",
    "- What would the recover period for a infected people - 2 weeks \n",
    "- We need to be careful on identifying how many of infected people are in labor force - 60%\n"
   ]
  },
  {
   "cell_type": "markdown",
   "metadata": {},
   "source": [
    "#### Infected number after 14 days (no quarantine)"
   ]
  },
  {
   "cell_type": "code",
   "execution_count": 133,
   "metadata": {},
   "outputs": [],
   "source": [
    "days = 14\n",
    "labor_pct = 0.6"
   ]
  },
  {
   "cell_type": "code",
   "execution_count": 134,
   "metadata": {},
   "outputs": [],
   "source": [
    "ttl_infected = sum(r[:days])\n",
    "post_comfirmed_cases = ny_confirmed + ttl_infected"
   ]
  },
  {
   "cell_type": "code",
   "execution_count": 135,
   "metadata": {},
   "outputs": [],
   "source": [
    "infection_rate = post_comfirmed_cases/ny_pop"
   ]
  },
  {
   "cell_type": "code",
   "execution_count": 136,
   "metadata": {},
   "outputs": [
    {
     "data": {
      "text/plain": [
       "0.02302926404307495"
      ]
     },
     "execution_count": 136,
     "metadata": {},
     "output_type": "execute_result"
    }
   ],
   "source": [
    "infection_rate"
   ]
  },
  {
   "cell_type": "code",
   "execution_count": 137,
   "metadata": {},
   "outputs": [],
   "source": [
    "labor_infection_rate = infection_rate*labor_pct"
   ]
  },
  {
   "cell_type": "markdown",
   "metadata": {},
   "source": [
    "**Notes:**\n",
    "-  we assumed 60% of infected case are in labor force\n",
    "-  How about recovery? ppl who got sick 14 days ago should be recoverd from it.\n",
    "\n",
    "- `labor_infection_rate` : how many of infected cases are in labor force.\n",
    "    - We want to use this rate to identify how this would affect the manhours. This is a overall estimation. To be more granular, we could use adjust `labor_infection_rate` based on each industry "
   ]
  },
  {
   "cell_type": "code",
   "execution_count": 146,
   "metadata": {},
   "outputs": [
    {
     "data": {
      "text/plain": [
       "18"
      ]
     },
     "execution_count": 146,
     "metadata": {},
     "output_type": "execute_result"
    }
   ],
   "source": [
    "employment_ny.shape[0]"
   ]
  },
  {
   "cell_type": "code",
   "execution_count": 145,
   "metadata": {},
   "outputs": [
    {
     "data": {
      "text/plain": [
       "1                   Total Self Employed, All Jobs\n",
       "2      Agriculture, Forestry, Fishing and Hunting\n",
       "8                                          Mining\n",
       "12                                      Utilities\n",
       "13                                   Construction\n",
       "17                                  Manufacturing\n",
       "39                                Wholesale Trade\n",
       "43                                   Retail Trade\n",
       "56                 Transportation and Warehousing\n",
       "67                                    Information\n",
       "74                           Financial Activities\n",
       "81             Professional and Business Services\n",
       "86                           Educational Services\n",
       "87              Health Care and Social Assistance\n",
       "92            Arts, Entertainment, and Recreation\n",
       "96                Accommodation and Food Services\n",
       "99             Other Services (except Government)\n",
       "104                                    Government\n",
       "Name: industry, dtype: object"
      ]
     },
     "execution_count": 145,
     "metadata": {},
     "output_type": "execute_result"
    }
   ],
   "source": [
    "employment_ny.industry"
   ]
  },
  {
   "attachments": {},
   "cell_type": "markdown",
   "metadata": {},
   "source": [
    "#### get `labor_infection_rate` for each industry\n",
    "**Notes:**\n",
    "\n",
    "1.  output = dollar_value_per_hour * num_hours \n",
    "    - Labor productivity :\n",
    "        - data is not avaliable on states-industry level : only _Private Nonfarm_ https://www.bls.gov/lpc/lpc-by-state-and-region.xlsx\n",
    "        - num_hours calculation: \n",
    "            - Hours worked\n",
    "            - BLS creates estimates of state-level hours worked for all people as shown in equation (1):\n",
    "            - Hours worked = [N * AWH * HWHP * 52] + SEUFWhours,                                                              (1)\n",
    "\n",
    "    where N is wage and salary employment, AWH is all-employee average weekly hours paid, HWHP is the hours-worked-to-hours-paid ratio, and SEUFWhours is unincorporated self-employed worker (also referred to as proprietors) and unpaid family worker hours. For wage and salary workers, employment is based primarily on the CES state-level employment series, with supplemental employment counts for the nonfarm portion of the agricultural sector coming from the Quarterly Census of Employment and Wages (QCEW).18 In some instances in which QCEW data are suppressed, employment is imputed using a variety of methods, such as linear interpolation, ratios of the missing industry to the total in different years, or ratios based on establishment counts. In total over the period, approximately 25 percent of the state-year observations contain imputed data. However, the imputed estimates average only 0.005 percent of total wage and salary employment.\n",
    "    \n",
    "    \n",
    "    \n",
    "2. Simple approach:\n",
    "    - Looking for labor reduction on state-industry level.\n",
    "    - then apply that labor reduction to GDP reduction"
   ]
  },
  {
   "cell_type": "code",
   "execution_count": 148,
   "metadata": {},
   "outputs": [],
   "source": [
    "labor_infection_rate_v = np.dot(labor_infection_rate,np.repeat(1,employment_ny.shape[0]))"
   ]
  },
  {
   "cell_type": "code",
   "execution_count": 155,
   "metadata": {},
   "outputs": [
    {
     "data": {
      "text/plain": [
       "1       7884.160662\n",
       "2        430.831472\n",
       "8         58.448272\n",
       "12       507.104394\n",
       "13      5263.660707\n",
       "17      6094.372319\n",
       "39      4450.635569\n",
       "43     12855.027306\n",
       "56      3863.389336\n",
       "67      3773.713382\n",
       "74      9803.419528\n",
       "81     18202.007890\n",
       "86     16447.454321\n",
       "87     23121.749567\n",
       "92      2300.208951\n",
       "96     10387.487722\n",
       "99      6045.319987\n",
       "104     9929.988363\n",
       "Name: 2019, dtype: float64"
      ]
     },
     "execution_count": 155,
     "metadata": {},
     "output_type": "execute_result"
    }
   ],
   "source": [
    "employment_ny['2019']*labor_infection_rate_v"
   ]
  },
  {
   "cell_type": "code",
   "execution_count": null,
   "metadata": {},
   "outputs": [],
   "source": []
  },
  {
   "cell_type": "code",
   "execution_count": null,
   "metadata": {},
   "outputs": [],
   "source": []
  },
  {
   "cell_type": "code",
   "execution_count": null,
   "metadata": {},
   "outputs": [],
   "source": []
  },
  {
   "cell_type": "code",
   "execution_count": null,
   "metadata": {},
   "outputs": [],
   "source": []
  },
  {
   "cell_type": "code",
   "execution_count": null,
   "metadata": {},
   "outputs": [],
   "source": []
  },
  {
   "cell_type": "code",
   "execution_count": null,
   "metadata": {},
   "outputs": [],
   "source": []
  },
  {
   "cell_type": "code",
   "execution_count": null,
   "metadata": {},
   "outputs": [],
   "source": []
  },
  {
   "cell_type": "code",
   "execution_count": null,
   "metadata": {},
   "outputs": [],
   "source": []
  }
 ],
 "metadata": {
  "kernelspec": {
   "display_name": "Python 3",
   "language": "python",
   "name": "python3"
  },
  "language_info": {
   "codemirror_mode": {
    "name": "ipython",
    "version": 3
   },
   "file_extension": ".py",
   "mimetype": "text/x-python",
   "name": "python",
   "nbconvert_exporter": "python",
   "pygments_lexer": "ipython3",
   "version": "3.7.5"
  }
 },
 "nbformat": 4,
 "nbformat_minor": 4
}
