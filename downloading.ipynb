{
 "cells": [
  {
   "cell_type": "code",
   "execution_count": 1,
   "metadata": {},
   "outputs": [],
   "source": [
    "import requests\n",
    "import pandas as pd\n",
    "import PyPDF2"
   ]
  },
  {
   "cell_type": "code",
   "execution_count": 6,
   "metadata": {},
   "outputs": [],
   "source": [
    "dls = \"https://www.labor.ny.gov/stats/2019-2021-Statewide-Short-Term-Industry-Projections.xlsx\"\n",
    "resp = requests.get(dls)\n",
    "\n",
    "output = open(\"2019-2021-Statewide-Short-Term-Industry-Projections.xlsx\", \"wb\")\n",
    "output.write(resp.content)\n",
    "output.close()"
   ]
  },
  {
   "cell_type": "code",
   "execution_count": 7,
   "metadata": {},
   "outputs": [],
   "source": [
    "df = pd.read_excel(\"2019-2021-Statewide-Short-Term-Industry-Projections.xlsx\")"
   ]
  },
  {
   "cell_type": "code",
   "execution_count": 9,
   "metadata": {
    "scrolled": true
   },
   "outputs": [
    {
     "data": {
      "text/html": [
       "<div>\n",
       "<style scoped>\n",
       "    .dataframe tbody tr th:only-of-type {\n",
       "        vertical-align: middle;\n",
       "    }\n",
       "\n",
       "    .dataframe tbody tr th {\n",
       "        vertical-align: top;\n",
       "    }\n",
       "\n",
       "    .dataframe thead th {\n",
       "        text-align: right;\n",
       "    }\n",
       "</style>\n",
       "<table border=\"1\" class=\"dataframe\">\n",
       "  <thead>\n",
       "    <tr style=\"text-align: right;\">\n",
       "      <th></th>\n",
       "      <th>Unnamed: 0</th>\n",
       "      <th>New York State Department of Labor</th>\n",
       "      <th>Unnamed: 2</th>\n",
       "      <th>Unnamed: 3</th>\n",
       "      <th>Unnamed: 4</th>\n",
       "    </tr>\n",
       "  </thead>\n",
       "  <tbody>\n",
       "    <tr>\n",
       "      <th>0</th>\n",
       "      <td>NaN</td>\n",
       "      <td>Short-Term Industry Employment Projections, 20...</td>\n",
       "      <td>NaN</td>\n",
       "      <td>NaN</td>\n",
       "      <td>NaN</td>\n",
       "    </tr>\n",
       "    <tr>\n",
       "      <th>1</th>\n",
       "      <td>NaN</td>\n",
       "      <td>New York State</td>\n",
       "      <td>NaN</td>\n",
       "      <td>NaN</td>\n",
       "      <td>NaN</td>\n",
       "    </tr>\n",
       "    <tr>\n",
       "      <th>2</th>\n",
       "      <td>NaN</td>\n",
       "      <td>NaN</td>\n",
       "      <td>NaN</td>\n",
       "      <td>NaN</td>\n",
       "      <td>NaN</td>\n",
       "    </tr>\n",
       "    <tr>\n",
       "      <th>3</th>\n",
       "      <td>NaN</td>\n",
       "      <td>NAICS\\nCode</td>\n",
       "      <td>Industry Title</td>\n",
       "      <td>Employment</td>\n",
       "      <td>NaN</td>\n",
       "    </tr>\n",
       "    <tr>\n",
       "      <th>4</th>\n",
       "      <td>NaN</td>\n",
       "      <td>NaN</td>\n",
       "      <td>NaN</td>\n",
       "      <td>2019</td>\n",
       "      <td>2021</td>\n",
       "    </tr>\n",
       "  </tbody>\n",
       "</table>\n",
       "</div>"
      ],
      "text/plain": [
       "   Unnamed: 0                 New York State Department of Labor  \\\n",
       "0         NaN  Short-Term Industry Employment Projections, 20...   \n",
       "1         NaN                                   New York State     \n",
       "2         NaN                                                NaN   \n",
       "3         NaN                                        NAICS\\nCode   \n",
       "4         NaN                                                NaN   \n",
       "\n",
       "       Unnamed: 2  Unnamed: 3 Unnamed: 4  \n",
       "0             NaN         NaN        NaN  \n",
       "1             NaN         NaN        NaN  \n",
       "2             NaN         NaN        NaN  \n",
       "3  Industry Title  Employment        NaN  \n",
       "4             NaN        2019       2021  "
      ]
     },
     "execution_count": 9,
     "metadata": {},
     "output_type": "execute_result"
    }
   ],
   "source": [
    "df.iloc[:5, :5]"
   ]
  },
  {
   "cell_type": "code",
   "execution_count": 12,
   "metadata": {},
   "outputs": [],
   "source": [
    "dls = \"https://nj.gov/labor/lpa/employ/indoccpj/2016-2026%20Industry%20Employment%20Projections%20Reports.xlsx\"\n",
    "resp = requests.get(dls)\n",
    "\n",
    "output = open(\"2016-2026 Industry Employment Projections Reports.xlsx\", \"wb\")\n",
    "output.write(resp.content)\n",
    "output.close()"
   ]
  },
  {
   "cell_type": "code",
   "execution_count": 13,
   "metadata": {},
   "outputs": [],
   "source": [
    "df = pd.read_excel(\"2016-2026 Industry Employment Projections Reports.xlsx\")"
   ]
  },
  {
   "cell_type": "code",
   "execution_count": 14,
   "metadata": {},
   "outputs": [
    {
     "data": {
      "text/html": [
       "<div>\n",
       "<style scoped>\n",
       "    .dataframe tbody tr th:only-of-type {\n",
       "        vertical-align: middle;\n",
       "    }\n",
       "\n",
       "    .dataframe tbody tr th {\n",
       "        vertical-align: top;\n",
       "    }\n",
       "\n",
       "    .dataframe thead th {\n",
       "        text-align: right;\n",
       "    }\n",
       "</style>\n",
       "<table border=\"1\" class=\"dataframe\">\n",
       "  <thead>\n",
       "    <tr style=\"text-align: right;\">\n",
       "      <th></th>\n",
       "      <th>Estimated and Projected Employment by Industry Sector</th>\n",
       "      <th>Unnamed: 1</th>\n",
       "      <th>Unnamed: 2</th>\n",
       "      <th>Unnamed: 3</th>\n",
       "      <th>Unnamed: 4</th>\n",
       "    </tr>\n",
       "  </thead>\n",
       "  <tbody>\n",
       "    <tr>\n",
       "      <th>0</th>\n",
       "      <td>New Jersey:  2016-2026</td>\n",
       "      <td>NaN</td>\n",
       "      <td>NaN</td>\n",
       "      <td>NaN</td>\n",
       "      <td>NaN</td>\n",
       "    </tr>\n",
       "    <tr>\n",
       "      <th>1</th>\n",
       "      <td>NaN</td>\n",
       "      <td>NaN</td>\n",
       "      <td>NaN</td>\n",
       "      <td>NaN</td>\n",
       "      <td>NaN</td>\n",
       "    </tr>\n",
       "    <tr>\n",
       "      <th>2</th>\n",
       "      <td>NaN</td>\n",
       "      <td>Actual</td>\n",
       "      <td>Projected</td>\n",
       "      <td>2016-2026 Change</td>\n",
       "      <td>NaN</td>\n",
       "    </tr>\n",
       "    <tr>\n",
       "      <th>3</th>\n",
       "      <td>Industry Title</td>\n",
       "      <td>2016</td>\n",
       "      <td>2026</td>\n",
       "      <td>Number</td>\n",
       "      <td>Annual Percent</td>\n",
       "    </tr>\n",
       "    <tr>\n",
       "      <th>4</th>\n",
       "      <td>Total Nonfarm</td>\n",
       "      <td>4073600</td>\n",
       "      <td>4402180</td>\n",
       "      <td>328580</td>\n",
       "      <td>0.778744</td>\n",
       "    </tr>\n",
       "  </tbody>\n",
       "</table>\n",
       "</div>"
      ],
      "text/plain": [
       "  Estimated and Projected Employment by Industry Sector Unnamed: 1 Unnamed: 2  \\\n",
       "0                             New Jersey:  2016-2026           NaN        NaN   \n",
       "1                                                NaN           NaN        NaN   \n",
       "2                                                NaN        Actual  Projected   \n",
       "3                                     Industry Title          2016       2026   \n",
       "4                                      Total Nonfarm       4073600    4402180   \n",
       "\n",
       "         Unnamed: 3      Unnamed: 4  \n",
       "0               NaN             NaN  \n",
       "1               NaN             NaN  \n",
       "2  2016-2026 Change             NaN  \n",
       "3            Number  Annual Percent  \n",
       "4            328580        0.778744  "
      ]
     },
     "execution_count": 14,
     "metadata": {},
     "output_type": "execute_result"
    }
   ],
   "source": [
    "df.iloc[:5, :5]"
   ]
  },
  {
   "cell_type": "code",
   "execution_count": 15,
   "metadata": {},
   "outputs": [],
   "source": [
    "dls = \"https://www.labormarketinfo.edd.ca.gov/file/indproj/CA$IndProj2019-2021.xlsx\"\n",
    "resp = requests.get(dls)\n",
    "\n",
    "output = open(\"CA$IndProj2019-2021.xlsx\", \"wb\")\n",
    "output.write(resp.content)\n",
    "output.close()"
   ]
  },
  {
   "cell_type": "code",
   "execution_count": 16,
   "metadata": {},
   "outputs": [],
   "source": [
    "df = pd.read_excel(\"CA$IndProj2019-2021.xlsx\")"
   ]
  },
  {
   "cell_type": "code",
   "execution_count": 17,
   "metadata": {},
   "outputs": [
    {
     "data": {
      "text/html": [
       "<div>\n",
       "<style scoped>\n",
       "    .dataframe tbody tr th:only-of-type {\n",
       "        vertical-align: middle;\n",
       "    }\n",
       "\n",
       "    .dataframe tbody tr th {\n",
       "        vertical-align: top;\n",
       "    }\n",
       "\n",
       "    .dataframe thead th {\n",
       "        text-align: right;\n",
       "    }\n",
       "</style>\n",
       "<table border=\"1\" class=\"dataframe\">\n",
       "  <thead>\n",
       "    <tr style=\"text-align: right;\">\n",
       "      <th></th>\n",
       "      <th>Unnamed: 0</th>\n",
       "      <th>Employment Development Department</th>\n",
       "      <th>Unnamed: 2</th>\n",
       "      <th>California</th>\n",
       "      <th>Unnamed: 4</th>\n",
       "    </tr>\n",
       "  </thead>\n",
       "  <tbody>\n",
       "    <tr>\n",
       "      <th>0</th>\n",
       "      <td>NaN</td>\n",
       "      <td>Labor Market Information Division</td>\n",
       "      <td>NaN</td>\n",
       "      <td>Industry Employment Projections</td>\n",
       "      <td>NaN</td>\n",
       "    </tr>\n",
       "    <tr>\n",
       "      <th>1</th>\n",
       "      <td>NaN</td>\n",
       "      <td>Published: March 2020</td>\n",
       "      <td>NaN</td>\n",
       "      <td>2019 Second Quarter - 2021 Second Quarter</td>\n",
       "      <td>NaN</td>\n",
       "    </tr>\n",
       "    <tr>\n",
       "      <th>2</th>\n",
       "      <td>NaN</td>\n",
       "      <td>NAICS Code*</td>\n",
       "      <td>Industry Title</td>\n",
       "      <td>Quarterly Average Estimated Employment** 2019</td>\n",
       "      <td>Quarterly Average Projected Employment 2021</td>\n",
       "    </tr>\n",
       "    <tr>\n",
       "      <th>3</th>\n",
       "      <td>1.0</td>\n",
       "      <td>NaN</td>\n",
       "      <td>Total Employment</td>\n",
       "      <td>19161700</td>\n",
       "      <td>19712400</td>\n",
       "    </tr>\n",
       "    <tr>\n",
       "      <th>4</th>\n",
       "      <td>6010.0</td>\n",
       "      <td>NaN</td>\n",
       "      <td>Self Employment (A)</td>\n",
       "      <td>1201700</td>\n",
       "      <td>1235300</td>\n",
       "    </tr>\n",
       "  </tbody>\n",
       "</table>\n",
       "</div>"
      ],
      "text/plain": [
       "   Unnamed: 0  Employment Development Department           Unnamed: 2  \\\n",
       "0         NaN  Labor Market Information Division                  NaN   \n",
       "1         NaN              Published: March 2020                  NaN   \n",
       "2         NaN                        NAICS Code*       Industry Title   \n",
       "3         1.0                                NaN     Total Employment   \n",
       "4      6010.0                                NaN  Self Employment (A)   \n",
       "\n",
       "                                      California  \\\n",
       "0                Industry Employment Projections   \n",
       "1      2019 Second Quarter - 2021 Second Quarter   \n",
       "2  Quarterly Average Estimated Employment** 2019   \n",
       "3                                       19161700   \n",
       "4                                        1201700   \n",
       "\n",
       "                                    Unnamed: 4  \n",
       "0                                          NaN  \n",
       "1                                          NaN  \n",
       "2  Quarterly Average Projected Employment 2021  \n",
       "3                                     19712400  \n",
       "4                                      1235300  "
      ]
     },
     "execution_count": 17,
     "metadata": {},
     "output_type": "execute_result"
    }
   ],
   "source": [
    "df.iloc[:5, :5]"
   ]
  },
  {
   "cell_type": "code",
   "execution_count": 2,
   "metadata": {},
   "outputs": [],
   "source": [
    "dls = \"https://www.bea.gov/system/files/2020-01/qgdpstate0120_2.pdf\"\n",
    "resp = requests.get(dls)\n",
    "\n",
    "output = open(\"qgdpstate0120_2.pdf\", \"wb\")\n",
    "output.write(resp.content)\n",
    "output.close()"
   ]
  },
  {
   "cell_type": "code",
   "execution_count": 3,
   "metadata": {},
   "outputs": [
    {
     "name": "stdout",
     "output_type": "stream",
     "text": [
      "7\n"
     ]
    }
   ],
   "source": [
    "# creating an object \n",
    "file = open('qgdpstate0120_2.pdf', 'rb')\n",
    "\n",
    "# creating a pdf reader object\n",
    "fileReader = PyPDF2.PdfFileReader(file)\n",
    "\n",
    "# print the number of pages in pdf file\n",
    "print(fileReader.numPages)"
   ]
  },
  {
   "cell_type": "code",
   "execution_count": null,
   "metadata": {},
   "outputs": [],
   "source": []
  }
 ],
 "metadata": {
  "kernelspec": {
   "display_name": "Python 3",
   "language": "python",
   "name": "python3"
  },
  "language_info": {
   "codemirror_mode": {
    "name": "ipython",
    "version": 3
   },
   "file_extension": ".py",
   "mimetype": "text/x-python",
   "name": "python",
   "nbconvert_exporter": "python",
   "pygments_lexer": "ipython3",
   "version": "3.7.5"
  }
 },
 "nbformat": 4,
 "nbformat_minor": 4
}
